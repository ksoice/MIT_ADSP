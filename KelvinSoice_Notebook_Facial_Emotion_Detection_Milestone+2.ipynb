{
 "cells": [
  {
   "cell_type": "markdown",
   "metadata": {
    "id": "hWQC8iCE2_-o"
   },
   "source": [
    "# **Milestone 2**"
   ]
  },
  {
   "cell_type": "markdown",
   "metadata": {
    "id": "DYdEI31whyE-"
   },
   "source": [
    "We have built two Convolutional Neural Network architectures in Milestone 1. Here, we will further try to achieve better performance by increasing the number of parameters/weights. Therefore, we will start this Milestone with three popular Transfer Learning architectures, namely, VGG16, ResNet v2, and Efficient Net. Please feel free to explore other pre-trained models as well. Link to Keras documentation for pre-trained models - https://keras.io/api/applications/\n",
    "\n",
    "**Note:** We will mount our drive and import our dataset once again for Milestone 2."
   ]
  },
  {
   "cell_type": "markdown",
   "metadata": {
    "id": "HDM89XHyCxrA"
   },
   "source": [
    "## **Mounting the Drive**\n",
    "\n",
    "**NOTE:**  Please use Google Colab from your browser for this notebook. **Google.colab is not a library that can be downloaded locally on your device.**"
   ]
  },
  {
   "cell_type": "code",
   "execution_count": 3,
   "metadata": {
    "colab": {
     "base_uri": "https://localhost:8080/"
    },
    "id": "JQi_degJC3dm",
    "outputId": "b18c9c64-8e74-481b-a36d-fa0ee38ed6d3"
   },
   "outputs": [
    {
     "name": "stdout",
     "output_type": "stream",
     "text": [
      "Mounted at /content/drive\n"
     ]
    }
   ],
   "source": [
    "# Mounting the drive\n",
    "from google.colab import drive\n",
    "drive.mount('/content/drive')"
   ]
  },
  {
   "cell_type": "markdown",
   "metadata": {
    "id": "UC8-yLUUCcWh"
   },
   "source": [
    "## **Importing the Libraries**"
   ]
  },
  {
   "cell_type": "code",
   "execution_count": 4,
   "metadata": {
    "id": "30fd2144"
   },
   "outputs": [],
   "source": [
    "import zipfile\n",
    "import matplotlib.pyplot as plt\n",
    "import numpy as np\n",
    "import pandas as pd\n",
    "import seaborn as sns\n",
    "import os\n",
    "\n",
    "# Importing Deep Learning Libraries\n",
    "\n",
    "from tensorflow.keras.preprocessing.image import load_img, img_to_array\n",
    "from tensorflow.keras.preprocessing.image import ImageDataGenerator\n",
    "from tensorflow.keras.layers import Dense, Input, Dropout, GlobalAveragePooling2D, Flatten, Conv2D, BatchNormalization, Activation, MaxPooling2D, LeakyReLU\n",
    "from tensorflow.keras.models import Model, Sequential\n",
    "from tensorflow.keras.optimizers import Adam, SGD, RMSprop"
   ]
  },
  {
   "cell_type": "markdown",
   "metadata": {
    "id": "nCqJk2XpCnJi"
   },
   "source": [
    "### **Let us load the data**"
   ]
  },
  {
   "cell_type": "markdown",
   "metadata": {
    "id": "_syvBdMlDTsr"
   },
   "source": [
    "**Note:** \n",
    "- You must download the dataset from the link provided on Olympus and upload the same on your Google drive before executing the code in the next cell.\n",
    "- In case of any error, please make sure that the path of the file is correct as the path may be different for you."
   ]
  },
  {
   "cell_type": "code",
   "execution_count": 5,
   "metadata": {
    "id": "sMfr4tK04C0o"
   },
   "outputs": [],
   "source": [
    "# Storing the path of the data file from the Google drive\n",
    "path = '/content/drive/MyDrive/DataScience/Facial_emotion_images.zip'\n",
    "\n",
    "# The data is provided as a zip file so we need to extract the files from the zip file\n",
    "with zipfile.ZipFile(path, 'r') as zip_ref:\n",
    "    zip_ref.extractall()"
   ]
  },
  {
   "cell_type": "code",
   "execution_count": 6,
   "metadata": {
    "id": "4e89d1c7"
   },
   "outputs": [],
   "source": [
    "picture_size = 48\n",
    "folder_path = \"Facial_emotion_images/\""
   ]
  },
  {
   "cell_type": "markdown",
   "metadata": {
    "id": "boQi7epI3Lsu"
   },
   "source": [
    "## **Transfer Learning Architectures**\n",
    "\n",
    "In this section, we will create several Transfer Learning architectures. For the pre-trained models, we will select three popular architectures namely, VGG16, ResNet v2, and Efficient Net. The difference between these architectures and the previous architectures is that these will require 3 input channels while the earlier ones worked on 'grayscale' images. Therefore, we need to create new DataLoaders."
   ]
  },
  {
   "cell_type": "markdown",
   "metadata": {
    "id": "J7NKTPgdEsgt"
   },
   "source": [
    "### **Creating our Data Loaders for Transfer Learning Architectures**\n",
    "\n",
    "In this section, we are creating data loaders that we will use as inputs to our Neural Network. Unlike in Milestone 1, we will have to go with color_mode = 'rgb' as this is the required format for the transfer learning architectures."
   ]
  },
  {
   "cell_type": "code",
   "execution_count": null,
   "metadata": {
    "colab": {
     "base_uri": "https://localhost:8080/"
    },
    "id": "d97fee2d",
    "outputId": "96445d93-2ebe-48bb-efa1-e2441968dde0"
   },
   "outputs": [
    {
     "name": "stdout",
     "output_type": "stream",
     "text": [
      "Found 15109 images belonging to 4 classes.\n",
      "Found 4977 images belonging to 4 classes.\n",
      "Found 128 images belonging to 4 classes.\n"
     ]
    }
   ],
   "source": [
    "batch_size  = 32\n",
    "img_size = 48\n",
    "\n",
    "datagen_train = ImageDataGenerator(horizontal_flip = True,\n",
    "                                    brightness_range = (0., 2.),\n",
    "                                    rescale = 1./255,\n",
    "                                    shear_range = 0.3)\n",
    "\n",
    "train_set = datagen_train.flow_from_directory(folder_path + \"train\",\n",
    "                                              target_size = (img_size, img_size),\n",
    "                                              color_mode = 'rgb',\n",
    "                                              batch_size = batch_size,\n",
    "                                              class_mode = 'categorical',\n",
    "                                              classes = ['happy', 'sad', 'neutral', 'surprise'],\n",
    "                                              shuffle = True)\n",
    "\n",
    "datagen_validation = ImageDataGenerator(horizontal_flip = True,\n",
    "                                    brightness_range=(0.,2.),\n",
    "                                    rescale=1./255,\n",
    "                                    shear_range=0.3)\n",
    "\n",
    "validation_set = datagen_validation.flow_from_directory(folder_path + \"validation\",\n",
    "                                              target_size = (img_size, img_size),\n",
    "                                              color_mode = \"rgb\",\n",
    "                                              batch_size = batch_size,\n",
    "                                              class_mode = 'categorical',\n",
    "                                              shuffle = True)\n",
    "\n",
    "datagen_test = ImageDataGenerator(horizontal_flip = True,\n",
    "                                    brightness_range=(0.,2.),\n",
    "                                    rescale=1./255,\n",
    "                                    shear_range=0.3)\n",
    "\n",
    "test_set = datagen_test.flow_from_directory(folder_path + \"test\",\n",
    "                                              target_size = (img_size, img_size),\n",
    "                                              color_mode = \"rgb\",\n",
    "                                              batch_size = batch_size,\n",
    "                                              class_mode = 'categorical',\n",
    "                                              shuffle = True)\n"
   ]
  },
  {
   "cell_type": "code",
   "execution_count": 15,
   "metadata": {
    "colab": {
     "base_uri": "https://localhost:8080/"
    },
    "id": "6BreWpWKjJV4",
    "outputId": "d6ee9e88-dbe3-4806-d690-bc8f2dca068a"
   },
   "outputs": [
    {
     "name": "stdout",
     "output_type": "stream",
     "text": [
      "[[1. 0. 0. 0.]\n",
      " [1. 0. 0. 0.]\n",
      " [0. 1. 0. 0.]\n",
      " [0. 0. 0. 1.]\n",
      " [1. 0. 0. 0.]\n",
      " [0. 0. 1. 0.]\n",
      " [0. 1. 0. 0.]\n",
      " [0. 0. 1. 0.]\n",
      " [1. 0. 0. 0.]\n",
      " [0. 0. 1. 0.]\n",
      " [0. 0. 0. 1.]\n",
      " [0. 0. 0. 1.]\n",
      " [0. 0. 1. 0.]\n",
      " [0. 0. 0. 1.]\n",
      " [0. 0. 1. 0.]\n",
      " [0. 0. 0. 1.]\n",
      " [0. 0. 1. 0.]\n",
      " [0. 1. 0. 0.]\n",
      " [0. 0. 0. 1.]\n",
      " [0. 0. 1. 0.]\n",
      " [0. 0. 0. 1.]\n",
      " [1. 0. 0. 0.]\n",
      " [0. 1. 0. 0.]\n",
      " [1. 0. 0. 0.]\n",
      " [0. 0. 0. 1.]\n",
      " [0. 0. 1. 0.]\n",
      " [1. 0. 0. 0.]\n",
      " [0. 0. 1. 0.]\n",
      " [0. 1. 0. 0.]\n",
      " [0. 1. 0. 0.]\n",
      " [0. 1. 0. 0.]\n",
      " [0. 1. 0. 0.]\n",
      " [0. 1. 0. 0.]\n",
      " [0. 0. 0. 1.]\n",
      " [0. 1. 0. 0.]\n",
      " [0. 1. 0. 0.]\n",
      " [1. 0. 0. 0.]\n",
      " [1. 0. 0. 0.]\n",
      " [1. 0. 0. 0.]\n",
      " [0. 0. 0. 1.]\n",
      " [0. 0. 0. 1.]\n",
      " [1. 0. 0. 0.]\n",
      " [0. 0. 0. 1.]\n",
      " [1. 0. 0. 0.]\n",
      " [0. 0. 1. 0.]\n",
      " [0. 0. 1. 0.]\n",
      " [1. 0. 0. 0.]\n",
      " [0. 0. 0. 1.]\n",
      " [0. 1. 0. 0.]\n",
      " [0. 0. 1. 0.]\n",
      " [1. 0. 0. 0.]\n",
      " [0. 0. 0. 1.]\n",
      " [0. 0. 1. 0.]\n",
      " [0. 1. 0. 0.]\n",
      " [1. 0. 0. 0.]\n",
      " [1. 0. 0. 0.]\n",
      " [0. 0. 0. 1.]\n",
      " [0. 1. 0. 0.]\n",
      " [0. 0. 1. 0.]\n",
      " [1. 0. 0. 0.]\n",
      " [0. 0. 0. 1.]\n",
      " [0. 0. 0. 1.]\n",
      " [0. 1. 0. 0.]\n",
      " [0. 0. 1. 0.]\n",
      " [0. 0. 0. 1.]\n",
      " [0. 0. 1. 0.]\n",
      " [1. 0. 0. 0.]\n",
      " [0. 0. 0. 1.]\n",
      " [1. 0. 0. 0.]\n",
      " [0. 0. 1. 0.]\n",
      " [0. 1. 0. 0.]\n",
      " [0. 1. 0. 0.]\n",
      " [0. 0. 0. 1.]\n",
      " [1. 0. 0. 0.]\n",
      " [0. 1. 0. 0.]\n",
      " [0. 1. 0. 0.]\n",
      " [0. 1. 0. 0.]\n",
      " [0. 1. 0. 0.]\n",
      " [0. 0. 0. 1.]\n",
      " [0. 0. 1. 0.]\n",
      " [0. 1. 0. 0.]\n",
      " [0. 0. 0. 1.]\n",
      " [1. 0. 0. 0.]\n",
      " [0. 0. 1. 0.]\n",
      " [1. 0. 0. 0.]\n",
      " [0. 0. 1. 0.]\n",
      " [0. 0. 1. 0.]\n",
      " [0. 0. 1. 0.]\n",
      " [0. 0. 0. 1.]\n",
      " [0. 0. 0. 1.]\n",
      " [0. 0. 1. 0.]\n",
      " [0. 0. 0. 1.]\n",
      " [0. 1. 0. 0.]\n",
      " [0. 0. 1. 0.]\n",
      " [0. 1. 0. 0.]\n",
      " [1. 0. 0. 0.]\n",
      " [0. 0. 0. 1.]\n",
      " [1. 0. 0. 0.]\n",
      " [0. 1. 0. 0.]\n",
      " [1. 0. 0. 0.]\n",
      " [0. 1. 0. 0.]\n",
      " [0. 0. 1. 0.]\n",
      " [1. 0. 0. 0.]\n",
      " [0. 0. 1. 0.]\n",
      " [0. 0. 0. 1.]\n",
      " [1. 0. 0. 0.]\n",
      " [0. 0. 1. 0.]\n",
      " [1. 0. 0. 0.]\n",
      " [0. 0. 1. 0.]\n",
      " [0. 0. 1. 0.]\n",
      " [1. 0. 0. 0.]\n",
      " [1. 0. 0. 0.]\n",
      " [0. 0. 0. 1.]\n",
      " [0. 1. 0. 0.]\n",
      " [0. 1. 0. 0.]\n",
      " [0. 0. 1. 0.]\n",
      " [0. 0. 1. 0.]\n",
      " [0. 1. 0. 0.]\n",
      " [0. 0. 1. 0.]\n",
      " [0. 0. 0. 1.]\n",
      " [0. 0. 0. 1.]\n",
      " [0. 0. 0. 1.]\n",
      " [0. 1. 0. 0.]\n",
      " [0. 1. 0. 0.]\n",
      " [0. 0. 0. 1.]\n",
      " [1. 0. 0. 0.]\n",
      " [1. 0. 0. 0.]\n",
      " [0. 1. 0. 0.]]\n",
      "[0 0 1 3 0 2 1 2 0 2 3 3 2 3 2 3 2 1 3 2 3 0 1 0 3 2 0 2 1 1 1 1 1 3 1 1 0\n",
      " 0 0 3 3 0 3 0 2 2 0 3 1 2 0 3 2 1 0 0 3 1 2 0 3 3 1 2 3 2 0 3 0 2 1 1 3 0\n",
      " 1 1 1 1 3 2 1 3 0 2 0 2 2 2 3 3 2 3 1 2 1 0 3 0 1 0 1 2 0 2 3 0 2 0 2 2 0\n",
      " 0 3 1 1 2 2 1 2 3 3 3 1 1 3 0 0 1]\n"
     ]
    },
    {
     "data": {
      "text/plain": [
       "(128,)"
      ]
     },
     "execution_count": 15,
     "metadata": {},
     "output_type": "execute_result"
    }
   ],
   "source": [
    "#Creating one-hot encoded vector of the labels\n",
    "FacesLabel_vector = np.concatenate((test_set[0][1],test_set[1][1],test_set[2][1],test_set[3][1]))\n",
    "print(FacesLabel_vector)\n",
    "\n",
    "# Converting each entry to single label from one-hot encoded vector\n",
    "\n",
    "FacesLabel_single = np.argmax(FacesLabel_vector, axis = -1)\n",
    "print(FacesLabel_single)\n",
    "\n",
    "FacesLabel_single.shape"
   ]
  },
  {
   "cell_type": "markdown",
   "metadata": {
    "id": "vaUYQdkf7pDG"
   },
   "source": [
    "## **VGG16 Model**"
   ]
  },
  {
   "cell_type": "markdown",
   "metadata": {
    "id": "ThCSNrWC4HW0"
   },
   "source": [
    "### **Importing the VGG16 Architecture**"
   ]
  },
  {
   "cell_type": "code",
   "execution_count": null,
   "metadata": {
    "colab": {
     "base_uri": "https://localhost:8080/"
    },
    "id": "7c83c83e",
    "outputId": "4ac541ef-381f-47be-edaa-f75d54ca6ee0"
   },
   "outputs": [
    {
     "name": "stdout",
     "output_type": "stream",
     "text": [
      "Downloading data from https://storage.googleapis.com/tensorflow/keras-applications/vgg16/vgg16_weights_tf_dim_ordering_tf_kernels_notop.h5\n",
      "58889256/58889256 [==============================] - 0s 0us/step\n",
      "Model: \"vgg16\"\n",
      "_________________________________________________________________\n",
      " Layer (type)                Output Shape              Param #   \n",
      "=================================================================\n",
      " input_1 (InputLayer)        [(None, 48, 48, 3)]       0         \n",
      "                                                                 \n",
      " block1_conv1 (Conv2D)       (None, 48, 48, 64)        1792      \n",
      "                                                                 \n",
      " block1_conv2 (Conv2D)       (None, 48, 48, 64)        36928     \n",
      "                                                                 \n",
      " block1_pool (MaxPooling2D)  (None, 24, 24, 64)        0         \n",
      "                                                                 \n",
      " block2_conv1 (Conv2D)       (None, 24, 24, 128)       73856     \n",
      "                                                                 \n",
      " block2_conv2 (Conv2D)       (None, 24, 24, 128)       147584    \n",
      "                                                                 \n",
      " block2_pool (MaxPooling2D)  (None, 12, 12, 128)       0         \n",
      "                                                                 \n",
      " block3_conv1 (Conv2D)       (None, 12, 12, 256)       295168    \n",
      "                                                                 \n",
      " block3_conv2 (Conv2D)       (None, 12, 12, 256)       590080    \n",
      "                                                                 \n",
      " block3_conv3 (Conv2D)       (None, 12, 12, 256)       590080    \n",
      "                                                                 \n",
      " block3_pool (MaxPooling2D)  (None, 6, 6, 256)         0         \n",
      "                                                                 \n",
      " block4_conv1 (Conv2D)       (None, 6, 6, 512)         1180160   \n",
      "                                                                 \n",
      " block4_conv2 (Conv2D)       (None, 6, 6, 512)         2359808   \n",
      "                                                                 \n",
      " block4_conv3 (Conv2D)       (None, 6, 6, 512)         2359808   \n",
      "                                                                 \n",
      " block4_pool (MaxPooling2D)  (None, 3, 3, 512)         0         \n",
      "                                                                 \n",
      " block5_conv1 (Conv2D)       (None, 3, 3, 512)         2359808   \n",
      "                                                                 \n",
      " block5_conv2 (Conv2D)       (None, 3, 3, 512)         2359808   \n",
      "                                                                 \n",
      " block5_conv3 (Conv2D)       (None, 3, 3, 512)         2359808   \n",
      "                                                                 \n",
      " block5_pool (MaxPooling2D)  (None, 1, 1, 512)         0         \n",
      "                                                                 \n",
      "=================================================================\n",
      "Total params: 14,714,688\n",
      "Trainable params: 14,714,688\n",
      "Non-trainable params: 0\n",
      "_________________________________________________________________\n"
     ]
    }
   ],
   "source": [
    "from tensorflow.keras.applications.vgg16 import VGG16\n",
    "from tensorflow.keras import Model\n",
    "\n",
    "vgg = VGG16(include_top = False, weights = 'imagenet', input_shape = (48, 48, 3))\n",
    "vgg.summary()"
   ]
  },
  {
   "cell_type": "markdown",
   "metadata": {
    "id": "X76HMyZX4edM"
   },
   "source": [
    "### **Model Building**\n",
    "\n",
    "* In this model, we will import till the **'block5_pool'** layer of the VGG16 model. You can scroll down in the model summary and look for 'block5_pool'. You can choose any other layer as well.\n",
    "* Then we will add a Flatten layer, which receives the output of the 'block5_pool' layer as its input.\n",
    "* We will add a few Dense layers and use 'relu' activation function on them.\n",
    "* You may use Dropout and BatchNormalization layers as well.\n",
    "* Then we will add our last dense layer, which must have 4 neurons and a 'softmax' activation function."
   ]
  },
  {
   "cell_type": "code",
   "execution_count": null,
   "metadata": {
    "id": "8b123bc6"
   },
   "outputs": [],
   "source": [
    "transfer_layer = vgg.get_layer('block5_pool')\n",
    "vgg.trainable = False\n",
    "\n",
    "# Add classification layers on top of it  \n",
    "\n",
    "# Flattenning the output from the 5th block of the VGG16 model\n",
    "x = Flatten()(transfer_layer.output)\n",
    "\n",
    "# Adding a Dense layer with 256 neurons\n",
    "x = Dense(256, activation = 'relu')(x)\n",
    "\n",
    "# Add a Dense Layer with 128 neurons\n",
    "x = Dense(128, activation = 'relu')(x)\n",
    "\n",
    "# Add a DropOut layer with Drop out ratio of 0.3\n",
    "x = Dropout(0.3)(x)\n",
    "\n",
    "# Add a Dense Layer with 64 neurons\n",
    "x = Dense(64, activation = 'relu')(x)\n",
    "\n",
    "# Add a Batch Normalization layer\n",
    "x = BatchNormalization()(x)\n",
    "\n",
    "# Adding the final dense layer with 4 neurons and use 'softmax' activation\n",
    "pred = Dense(4, activation='softmax')(x)\n",
    "\n",
    "vggmodel = Model(vgg.input, pred) # Initializing the model"
   ]
  },
  {
   "cell_type": "markdown",
   "metadata": {
    "id": "t6vK7u7w8GsM"
   },
   "source": [
    "### **Compiling and Training the VGG16 Model**"
   ]
  },
  {
   "cell_type": "code",
   "execution_count": null,
   "metadata": {
    "id": "86b249f1"
   },
   "outputs": [],
   "source": [
    "from keras.callbacks import ModelCheckpoint, EarlyStopping, ReduceLROnPlateau\n",
    "\n",
    "checkpoint = ModelCheckpoint(\"./vggmodel.h5\", monitor = 'val_loss', verbose = 1, save_best_only = True, mode = 'max')\n",
    "\n",
    "early_stopping = EarlyStopping(monitor = 'val_loss',\n",
    "                          min_delta = 0,\n",
    "                          patience = 3,\n",
    "                          verbose = 1,\n",
    "                          restore_best_weights = True\n",
    "                          )\n",
    "\n",
    "reduce_learningrate = ReduceLROnPlateau(monitor = 'val_loss',\n",
    "                              factor = 0.2,\n",
    "                              patience = 3,\n",
    "                              verbose = 1,\n",
    "                              min_delta = 0.0001)\n",
    "\n",
    "callbacks_list = [early_stopping, checkpoint, reduce_learningrate]\n",
    "\n",
    "epochs = 20"
   ]
  },
  {
   "cell_type": "code",
   "execution_count": null,
   "metadata": {
    "id": "0PN6ghMOGGgf"
   },
   "outputs": [],
   "source": [
    "# Write your code to compile the vggmodel. Use categorical crossentropy as the loss function, Adam Optimizer with 0.001 learning rate, and set metrics to 'accuracy'.\n",
    "vggmodel.compile(optimizer=Adam(learning_rate = 0.001), loss='categorical_crossentropy', metrics=['accuracy']) "
   ]
  },
  {
   "cell_type": "code",
   "execution_count": null,
   "metadata": {
    "colab": {
     "base_uri": "https://localhost:8080/"
    },
    "id": "893285ee",
    "outputId": "57d3e3fc-1fda-4040-8240-f0925a4b7e6b"
   },
   "outputs": [
    {
     "name": "stdout",
     "output_type": "stream",
     "text": [
      "Epoch 1/20\n",
      "473/473 [==============================] - ETA: 0s - loss: 1.2061 - accuracy: 0.4452\n",
      "Epoch 1: val_loss did not improve from 1.35074\n",
      "473/473 [==============================] - 460s 972ms/step - loss: 1.2061 - accuracy: 0.4452 - val_loss: 1.2725 - val_accuracy: 0.3958 - lr: 2.0000e-04\n",
      "Epoch 2/20\n",
      "473/473 [==============================] - ETA: 0s - loss: 1.1759 - accuracy: 0.4673\n",
      "Epoch 2: val_loss did not improve from 1.35074\n",
      "473/473 [==============================] - 459s 970ms/step - loss: 1.1759 - accuracy: 0.4673 - val_loss: 1.2736 - val_accuracy: 0.3860 - lr: 2.0000e-04\n",
      "Epoch 3/20\n",
      "473/473 [==============================] - ETA: 0s - loss: 1.1650 - accuracy: 0.4745\n",
      "Epoch 3: val_loss did not improve from 1.35074\n",
      "473/473 [==============================] - 458s 969ms/step - loss: 1.1650 - accuracy: 0.4745 - val_loss: 1.3052 - val_accuracy: 0.3456 - lr: 2.0000e-04\n",
      "Epoch 4/20\n",
      "473/473 [==============================] - ETA: 0s - loss: 1.1594 - accuracy: 0.4778\n",
      "Epoch 4: val_loss did not improve from 1.35074\n",
      "473/473 [==============================] - 458s 968ms/step - loss: 1.1594 - accuracy: 0.4778 - val_loss: 1.2642 - val_accuracy: 0.4099 - lr: 2.0000e-04\n",
      "Epoch 5/20\n",
      "473/473 [==============================] - ETA: 0s - loss: 1.1498 - accuracy: 0.4835\n",
      "Epoch 5: val_loss did not improve from 1.35074\n",
      "473/473 [==============================] - 456s 965ms/step - loss: 1.1498 - accuracy: 0.4835 - val_loss: 1.2701 - val_accuracy: 0.3926 - lr: 2.0000e-04\n",
      "Epoch 6/20\n",
      "473/473 [==============================] - ETA: 0s - loss: 1.1470 - accuracy: 0.4873\n",
      "Epoch 6: val_loss did not improve from 1.35074\n",
      "473/473 [==============================] - 456s 964ms/step - loss: 1.1470 - accuracy: 0.4873 - val_loss: 1.2604 - val_accuracy: 0.4057 - lr: 2.0000e-04\n",
      "Epoch 7/20\n",
      "473/473 [==============================] - ETA: 0s - loss: 1.1359 - accuracy: 0.4922\n",
      "Epoch 7: val_loss did not improve from 1.35074\n",
      "473/473 [==============================] - 455s 963ms/step - loss: 1.1359 - accuracy: 0.4922 - val_loss: 1.2783 - val_accuracy: 0.3960 - lr: 2.0000e-04\n",
      "Epoch 8/20\n",
      "473/473 [==============================] - ETA: 0s - loss: 1.1296 - accuracy: 0.4912\n",
      "Epoch 8: val_loss did not improve from 1.35074\n",
      "473/473 [==============================] - 457s 966ms/step - loss: 1.1296 - accuracy: 0.4912 - val_loss: 1.2921 - val_accuracy: 0.3799 - lr: 2.0000e-04\n",
      "Epoch 9/20\n",
      "473/473 [==============================] - ETA: 0s - loss: 1.1258 - accuracy: 0.5000Restoring model weights from the end of the best epoch: 6.\n",
      "\n",
      "Epoch 9: val_loss did not improve from 1.35074\n",
      "\n",
      "Epoch 9: ReduceLROnPlateau reducing learning rate to 4.0000001899898055e-05.\n",
      "473/473 [==============================] - 459s 972ms/step - loss: 1.1258 - accuracy: 0.5000 - val_loss: 1.2856 - val_accuracy: 0.3781 - lr: 2.0000e-04\n",
      "Epoch 9: early stopping\n"
     ]
    }
   ],
   "source": [
    "history_vggmodel = vggmodel.fit(train_set, validation_data = validation_set, batch_size=32, callbacks = callbacks_list, epochs=20, verbose=1)"
   ]
  },
  {
   "cell_type": "markdown",
   "metadata": {
    "id": "Un-19jPckK07"
   },
   "source": [
    "### **Evaluating the VGG16 model**"
   ]
  },
  {
   "cell_type": "code",
   "execution_count": null,
   "metadata": {
    "colab": {
     "base_uri": "https://localhost:8080/",
     "height": 513
    },
    "id": "t6Y_bSLCkcvr",
    "outputId": "60f7d8bc-6c79-4cdd-a82b-555358d57a40"
   },
   "outputs": [
    {
     "data": {
      "image/png": "[encoded data removed]",
      "text/plain": [
       "<Figure size 576x576 with 1 Axes>"
      ]
     },
     "metadata": {},
     "output_type": "display_data"
    }
   ],
   "source": [
    "# Write your code to evaluate model performance on the test set\n",
    "\n",
    "# Plotting the accuracies\n",
    "\n",
    "dict_hist = history_vggmodel.history\n",
    "\n",
    "list_ep = [i for i in range(1, 10)]\n",
    "\n",
    "plt.figure(figsize = (8, 8))\n",
    "\n",
    "plt.plot(list_ep, dict_hist['accuracy'], ls = '--', label = 'accuracy')\n",
    "\n",
    "plt.plot(list_ep, dict_hist['val_accuracy'], ls = '--', label = 'val_accuracy')\n",
    "\n",
    "plt.ylabel('Accuracy')\n",
    "\n",
    "plt.xlabel('Epochs')\n",
    "\n",
    "plt.title('vggmodel')\n",
    "\n",
    "plt.legend()\n",
    "\n",
    "plt.show()"
   ]
  },
  {
   "cell_type": "code",
   "execution_count": null,
   "metadata": {
    "colab": {
     "base_uri": "https://localhost:8080/"
    },
    "id": "41wN3lU4iOpy",
    "outputId": "bb664fb3-5005-470e-9c27-37f87ae31840"
   },
   "outputs": [
    {
     "name": "stdout",
     "output_type": "stream",
     "text": [
      "4/4 [==============================] - 3s 716ms/step\n"
     ]
    }
   ],
   "source": [
    "test_pred_vggmodel = vggmodel.predict(test_set)\n",
    "\n",
    "test_pred_vggmodel = np.argmax(test_pred_vggmodel, axis = -1)"
   ]
  },
  {
   "cell_type": "code",
   "execution_count": null,
   "metadata": {
    "colab": {
     "base_uri": "https://localhost:8080/",
     "height": 558
    },
    "id": "S--UEKNailrZ",
    "outputId": "91ff8d97-7b1e-42b2-a99d-2b54877b0031"
   },
   "outputs": [
    {
     "name": "stdout",
     "output_type": "stream",
     "text": [
      "Classification report for RGB images trained vggmodel\n",
      "              precision    recall  f1-score   support\n",
      "\n",
      "           0       0.23      0.25      0.24        32\n",
      "           1       0.25      0.41      0.31        32\n",
      "           2       0.16      0.09      0.12        32\n",
      "           3       0.24      0.16      0.19        32\n",
      "\n",
      "    accuracy                           0.23       128\n",
      "   macro avg       0.22      0.23      0.21       128\n",
      "weighted avg       0.22      0.23      0.21       128\n",
      "\n"
     ]
    },
    {
     "data": {
      "image/png": "[encoded data removed]",
      "text/plain": [
       "<Figure size 576x360 with 2 Axes>"
      ]
     },
     "metadata": {},
     "output_type": "display_data"
    }
   ],
   "source": [
    "# Importing required functions\n",
    "\n",
    "from sklearn.metrics import classification_report\n",
    "\n",
    "from sklearn.metrics import confusion_matrix\n",
    "\n",
    "# Printing the classification report for RGB\n",
    "print(\"Classification report for RGB images trained vggmodel\")\n",
    "\n",
    "print(classification_report(FacesLabel_single, test_pred_vggmodel))\n",
    "\n",
    "# Plotting the heatmap using confusion matrix for RGB\n",
    "\n",
    "cm = confusion_matrix(FacesLabel_single, test_pred_vggmodel)\n",
    "\n",
    "plt.figure(figsize = (8, 5))\n",
    "\n",
    "sns.heatmap(cm, annot = True,  fmt = '.0f')\n",
    "\n",
    "plt.title('vggmodel')\n",
    "\n",
    "plt.ylabel('Actual')\n",
    "\n",
    "plt.xlabel('Predicted')\n",
    "\n",
    "plt.show()"
   ]
  },
  {
   "cell_type": "markdown",
   "metadata": {
    "id": "tW6kPSky59Gv"
   },
   "source": [
    "**Think About It:**\n",
    "\n",
    "- What do you infer from the general trend in the training performance? \n",
    "- Is the training accuracy consistently improving? \n",
    "- Is the validation accuracy also improving similarly?"
   ]
  },
  {
   "cell_type": "markdown",
   "metadata": {
    "id": "YuTi6OAx8q_r"
   },
   "source": [
    "**Observations and Insights:**"
   ]
  },
  {
   "cell_type": "markdown",
   "metadata": {
    "id": "FsC3rJbMhESI"
   },
   "source": [
    "*   The general trend in the training performance was consistently improving with each new epoch, but only very slowly. Out of an initially planned 20 epochs additional training was cancelled, as per the Early Stopping parameter, after only 9 epochs for insufficent improvements in learning after going from 0.44 accuracy to 0.5 accuracy\n",
    "*   Validation accuracy was inconsistent but was in general unchanged. Varying in between 0.40 to 0.38 depending on the epoch, with little clear trend.\n",
    "*   All the above observations suggest that the model was overfitting on the training data. However, the model is giving about 0.5 accuracy on the test data which is somewhat comparable to the accuracy of the validation data, which is about 0.38. This implies that while overfitting does occur the model is still giving an acceptibly generalized performance.\n",
    "*   The array for the input images is accompanied by another array for storing the label of what kind of face the image actually corresponds to:\n",
    "  *       [1, 0, 0, 0] corresponds to a face classed as 'Happy'.\n",
    "  *       [0, 1, 0, 0] corresponds to a face classed as 'Sad'.\n",
    "  *       [0, 0, 1, 0] corresponds to a face classed as 'Neutral'.\n",
    "  *       [0, 0, 0, 1] corresponds to a face classed as 'Surprised'.\n",
    "*   On the Test data the recall values have a broad range, from 0.41 to 0.09, which implies that the model is inconsistent at identifying differing emotions.\n",
    "*   On the Test data the precision values have a narrow range, from 0.25 to 0.16, which implies that the model is focused on features of objects that can help to distinguish between differing emotions.\n",
    "*   The classification report and confusion matrix for Test data put into the  modified VGG16 model shows poor performance, little different than a random choice. Both precision and recall values are low, impling large numbers of false positives and negatives for all predictions. Especially poor were the response to Neutral or Surprised faces, these had a notable tendency to be misclassified as Happy or Sad."
   ]
  },
  {
   "cell_type": "markdown",
   "metadata": {
    "id": "AfC2Kx0v7Sa1"
   },
   "source": [
    "**Note: You can even go back and build your own architecture on top of the VGG16 Transfer layer and see if you can improve the performance**"
   ]
  },
  {
   "cell_type": "markdown",
   "metadata": {
    "id": "VoZdEEGAhoNj"
   },
   "source": [
    "**The following is representative of one of several experiments with altering the dropout rate in an attempt to limit the overfitting seen in with the original parameters.**"
   ]
  },
  {
   "cell_type": "code",
   "execution_count": null,
   "metadata": {
    "colab": {
     "background_save": true,
     "base_uri": "https://localhost:8080/"
    },
    "id": "ssEagh7UctL4",
    "outputId": "a9ef89a0-e560-4215-8df3-f38848d972a4"
   },
   "outputs": [
    {
     "name": "stdout",
     "output_type": "stream",
     "text": [
      "Epoch 1/20\n",
      "473/473 [==============================] - ETA: 0s - loss: 1.3639 - accuracy: 0.3556\n",
      "Epoch 1: val_loss improved from -inf to 1.27737, saving model to ./vggmodel_dropout0p4.h5\n",
      "473/473 [==============================] - 608s 1s/step - loss: 1.3639 - accuracy: 0.3556 - val_loss: 1.2774 - val_accuracy: 0.3810 - lr: 0.0010\n",
      "Epoch 2/20\n",
      "473/473 [==============================] - ETA: 0s - loss: 1.2408 - accuracy: 0.4229\n",
      "Epoch 2: val_loss improved from 1.27737 to 1.36502, saving model to ./vggmodel_dropout0p4.h5\n",
      "473/473 [==============================] - 603s 1s/step - loss: 1.2408 - accuracy: 0.4229 - val_loss: 1.3650 - val_accuracy: 0.3355 - lr: 0.0010\n",
      "Epoch 3/20\n",
      "473/473 [==============================] - ETA: 0s - loss: 1.2012 - accuracy: 0.4499\n",
      "Epoch 3: val_loss did not improve from 1.36502\n",
      "473/473 [==============================] - 603s 1s/step - loss: 1.2012 - accuracy: 0.4499 - val_loss: 1.3301 - val_accuracy: 0.3733 - lr: 0.0010\n",
      "Epoch 4/20\n",
      "473/473 [==============================] - ETA: 0s - loss: 1.1842 - accuracy: 0.4614\n",
      "Epoch 4: val_loss did not improve from 1.36502\n",
      "473/473 [==============================] - 603s 1s/step - loss: 1.1842 - accuracy: 0.4614 - val_loss: 1.2746 - val_accuracy: 0.4147 - lr: 0.0010\n",
      "Epoch 5/20\n",
      "473/473 [==============================] - ETA: 0s - loss: 1.1713 - accuracy: 0.4726\n",
      "Epoch 5: val_loss did not improve from 1.36502\n",
      "473/473 [==============================] - 602s 1s/step - loss: 1.1713 - accuracy: 0.4726 - val_loss: 1.2831 - val_accuracy: 0.4057 - lr: 0.0010\n",
      "Epoch 6/20\n",
      "473/473 [==============================] - ETA: 0s - loss: 1.1564 - accuracy: 0.4802\n",
      "Epoch 6: val_loss did not improve from 1.36502\n",
      "473/473 [==============================] - 595s 1s/step - loss: 1.1564 - accuracy: 0.4802 - val_loss: 1.2788 - val_accuracy: 0.3918 - lr: 0.0010\n",
      "Epoch 7/20\n",
      "473/473 [==============================] - ETA: 0s - loss: 1.1516 - accuracy: 0.4811\n",
      "Epoch 7: val_loss did not improve from 1.36502\n",
      "473/473 [==============================] - 593s 1s/step - loss: 1.1516 - accuracy: 0.4811 - val_loss: 1.2661 - val_accuracy: 0.3912 - lr: 0.0010\n",
      "Epoch 8/20\n",
      "473/473 [==============================] - ETA: 0s - loss: 1.1438 - accuracy: 0.4896\n",
      "Epoch 8: val_loss did not improve from 1.36502\n",
      "473/473 [==============================] - 591s 1s/step - loss: 1.1438 - accuracy: 0.4896 - val_loss: 1.2649 - val_accuracy: 0.4256 - lr: 0.0010\n",
      "Epoch 9/20\n",
      "473/473 [==============================] - ETA: 0s - loss: 1.1305 - accuracy: 0.4979\n",
      "Epoch 9: val_loss did not improve from 1.36502\n",
      "473/473 [==============================] - 596s 1s/step - loss: 1.1305 - accuracy: 0.4979 - val_loss: 1.2636 - val_accuracy: 0.3948 - lr: 0.0010\n",
      "Epoch 10/20\n",
      "473/473 [==============================] - ETA: 0s - loss: 1.1231 - accuracy: 0.4979\n",
      "Epoch 10: val_loss did not improve from 1.36502\n",
      "473/473 [==============================] - 601s 1s/step - loss: 1.1231 - accuracy: 0.4979 - val_loss: 1.3336 - val_accuracy: 0.3858 - lr: 0.0010\n",
      "Epoch 11/20\n",
      "473/473 [==============================] - ETA: 0s - loss: 1.1218 - accuracy: 0.5042\n",
      "Epoch 11: val_loss did not improve from 1.36502\n",
      "473/473 [==============================] - 594s 1s/step - loss: 1.1218 - accuracy: 0.5042 - val_loss: 1.2964 - val_accuracy: 0.4079 - lr: 0.0010\n",
      "Epoch 12/20\n",
      "473/473 [==============================] - ETA: 0s - loss: 1.1089 - accuracy: 0.5080Restoring model weights from the end of the best epoch: 9.\n",
      "\n",
      "Epoch 12: val_loss did not improve from 1.36502\n",
      "\n",
      "Epoch 12: ReduceLROnPlateau reducing learning rate to 0.00020000000949949026.\n",
      "473/473 [==============================] - 588s 1s/step - loss: 1.1089 - accuracy: 0.5080 - val_loss: 1.2999 - val_accuracy: 0.3848 - lr: 0.0010\n",
      "Epoch 12: early stopping\n"
     ]
    }
   ],
   "source": [
    "transfer_layer = vgg.get_layer('block5_pool')\n",
    "vgg.trainable = False\n",
    "\n",
    "# Add classification layers on top of it  \n",
    "\n",
    "# Flattenning the output from the 5th block of the VGG16 model\n",
    "x = Flatten()(transfer_layer.output)\n",
    "\n",
    "# Adding a Dense layer with 256 neurons\n",
    "x = Dense(256, activation = 'relu')(x)\n",
    "\n",
    "# Add a Dense Layer with 128 neurons\n",
    "x = Dense(128, activation = 'relu')(x)\n",
    "\n",
    "# Add a DropOut layer with Drop out ratio of 0.2\n",
    "x = Dropout(0.4)(x)\n",
    "\n",
    "# Add a Dense Layer with 64 neurons\n",
    "x = Dense(64, activation = 'relu')(x)\n",
    "\n",
    "# Add a Batch Normalization layer\n",
    "x = BatchNormalization()(x)\n",
    "\n",
    "# Adding the final dense layer with 4 neurons and use 'softmax' activation\n",
    "pred = Dense(4, activation='softmax')(x)\n",
    "\n",
    "vggmodel_dropout0p4 = Model(vgg.input, pred) # Initializing the model\n",
    "\n",
    "from keras.callbacks import ModelCheckpoint, EarlyStopping, ReduceLROnPlateau\n",
    "\n",
    "checkpoint = ModelCheckpoint(\"./vggmodel_dropout0p4.h5\", monitor = 'val_loss', verbose = 1, save_best_only = True, mode = 'max')\n",
    "\n",
    "early_stopping = EarlyStopping(monitor = 'val_loss',\n",
    "                          min_delta = 0,\n",
    "                          patience = 3,\n",
    "                          verbose = 1,\n",
    "                          restore_best_weights = True\n",
    "                          )\n",
    "\n",
    "reduce_learningrate = ReduceLROnPlateau(monitor = 'val_loss',\n",
    "                              factor = 0.2,\n",
    "                              patience = 3,\n",
    "                              verbose = 1,\n",
    "                              min_delta = 0.0001)\n",
    "\n",
    "callbacks_list = [early_stopping, checkpoint, reduce_learningrate]\n",
    "\n",
    "vggmodel_dropout0p4.compile(optimizer=Adam(learning_rate = 0.001), loss='categorical_crossentropy', metrics=['accuracy']) \n",
    "\n",
    "history_vggmodel_dropout0p4 = vggmodel_dropout0p4.fit(train_set, validation_data = validation_set, batch_size=32, callbacks = callbacks_list, epochs=20, verbose=1)"
   ]
  },
  {
   "cell_type": "code",
   "execution_count": 9,
   "metadata": {
    "colab": {
     "base_uri": "https://localhost:8080/",
     "height": 513
    },
    "id": "7LNSPx6c9_6G",
    "outputId": "b63506da-462d-4a0c-9366-f3f02a12b29e"
   },
   "outputs": [
    {
     "data": {
      "image/png": "[encoded data removed]",
      "text/plain": [
       "<Figure size 576x576 with 1 Axes>"
      ]
     },
     "metadata": {
      "needs_background": "light"
     },
     "output_type": "display_data"
    }
   ],
   "source": [
    "# Write your code to evaluate model performance on the test set\n",
    "\n",
    "# Plotting the accuracies\n",
    "\n",
    "dict_hist = history_vggmodel_dropout0p4.history\n",
    "\n",
    "list_ep = [i for i in range(1, 13)]\n",
    "\n",
    "plt.figure(figsize = (8, 8))\n",
    "\n",
    "plt.plot(list_ep, dict_hist['accuracy'], ls = '--', label = 'accuracy')\n",
    "\n",
    "plt.plot(list_ep, dict_hist['val_accuracy'], ls = '--', label = 'val_accuracy')\n",
    "\n",
    "plt.ylabel('Accuracy')\n",
    "\n",
    "plt.xlabel('Epochs')\n",
    "\n",
    "plt.title('vggmodel_dropout0p4')\n",
    "\n",
    "plt.legend()\n",
    "\n",
    "plt.show()"
   ]
  },
  {
   "cell_type": "code",
   "execution_count": 10,
   "metadata": {
    "colab": {
     "base_uri": "https://localhost:8080/"
    },
    "id": "ASP8jua--Yee",
    "outputId": "06ac56ed-fdf0-495b-e330-60f315b9d0d9"
   },
   "outputs": [
    {
     "name": "stdout",
     "output_type": "stream",
     "text": [
      "4/4 [==============================] - 4s 803ms/step\n"
     ]
    }
   ],
   "source": [
    "test_pred_vggmodel_dropout0p4 = vggmodel_dropout0p4.predict(test_set)\n",
    "\n",
    "test_pred_vggmodel_dropout0p4 = np.argmax(test_pred_vggmodel_dropout0p4, axis = -1)"
   ]
  },
  {
   "cell_type": "code",
   "execution_count": 11,
   "metadata": {
    "colab": {
     "base_uri": "https://localhost:8080/",
     "height": 558
    },
    "id": "ReQckiUU-tp9",
    "outputId": "c7d9f1d2-eadc-4483-dd68-017cbcfd4bf7"
   },
   "outputs": [
    {
     "name": "stdout",
     "output_type": "stream",
     "text": [
      "Classification report for RGB images trained vggmodel with Dropout set to 0.4\n",
      "              precision    recall  f1-score   support\n",
      "\n",
      "           0       0.45      0.47      0.46        32\n",
      "           1       0.29      0.44      0.35        32\n",
      "           2       0.24      0.22      0.23        32\n",
      "           3       0.83      0.47      0.60        32\n",
      "\n",
      "    accuracy                           0.40       128\n",
      "   macro avg       0.46      0.40      0.41       128\n",
      "weighted avg       0.46      0.40      0.41       128\n",
      "\n"
     ]
    },
    {
     "data": {
      "image/png": "[encoded data removed]",
      "text/plain": [
       "<Figure size 576x360 with 2 Axes>"
      ]
     },
     "metadata": {
      "needs_background": "light"
     },
     "output_type": "display_data"
    }
   ],
   "source": [
    "# Importing required functions\n",
    "\n",
    "from sklearn.metrics import classification_report\n",
    "\n",
    "from sklearn.metrics import confusion_matrix\n",
    "\n",
    "# Printing the classification report for RGB\n",
    "print(\"Classification report for RGB images trained vggmodel with Dropout set to 0.4\")\n",
    "\n",
    "print(classification_report(FacesLabel_single, test_pred_vggmodel_dropout0p4))\n",
    "\n",
    "# Plotting the heatmap using confusion matrix for RGB\n",
    "\n",
    "cm = confusion_matrix(FacesLabel_single, test_pred_vggmodel_dropout0p4)\n",
    "\n",
    "plt.figure(figsize = (8, 5))\n",
    "\n",
    "sns.heatmap(cm, annot = True,  fmt = '.0f')\n",
    "\n",
    "plt.title('vggmodel Dropout 0.4')\n",
    "\n",
    "plt.ylabel('Actual')\n",
    "\n",
    "plt.xlabel('Predicted')\n",
    "\n",
    "plt.show()"
   ]
  },
  {
   "cell_type": "markdown",
   "metadata": {
    "id": "JOdH9_4xjipr"
   },
   "source": [
    "**Observations and Insights:**"
   ]
  },
  {
   "cell_type": "markdown",
   "metadata": {
    "id": "u6E8Lvq3jchR"
   },
   "source": [
    "*   Testing with a value for Dropout of 0.4 did not see any signficant change in the accuracy and loss performance on the training or validation data verses when Dropout was set to 0.3.\n",
    "*   Testing with a value for Dropout of 0.4 did see a signficant improvement in the accuracy performance on the test data verses when Dropout was set to 0.3.\n",
    "*   On the Test data the recall values have a broad range, from 0.47 to 0.22, which implies that the model is inconsistent at identifying differing emotions.\n",
    "*   On the Test data the precision values have a broad range, from 0.45 to 0.24, which implies that the model is not focused on features of objects that can help to distinguish between differing emotions.\n",
    "*   The classification report and confusion matrix for Test data put into the modified VGG16 model where Dropout was set to 0.4 shows moderately good performance, somewhat better than a random choice. Both precision and recall values are low, impiling large numbers of false positives and negatives for all predictions. Especially poor were the response to Neutral faces, these had a notible tendancy to be misclassified as Sad.\n",
    "*   Reruns of the model fitting with the same parameters saw differences in accuracy results of 0.1, better or worse, between runs. This indicates that the randomly generated starting weights can have a significant and upredicatible impact on results that can exceed the impact of merely altering the parameters alone. Multiple runs with the same parameter values or freezing the random number seed will be required to find the actual effect of changing parameters."
   ]
  },
  {
   "cell_type": "markdown",
   "metadata": {
    "id": "E0Mew4Cc7u7k"
   },
   "source": [
    "## **ResNet V2 Model**"
   ]
  },
  {
   "cell_type": "code",
   "execution_count": null,
   "metadata": {
    "colab": {
     "base_uri": "https://localhost:8080/"
    },
    "id": "568a5c9a",
    "outputId": "662cea6a-4bfc-48ec-b137-bb2f52596f2e",
    "scrolled": false
   },
   "outputs": [
    {
     "name": "stdout",
     "output_type": "stream",
     "text": [
      "Model: \"resnet101\"\n",
      "__________________________________________________________________________________________________\n",
      " Layer (type)                   Output Shape         Param #     Connected to                     \n",
      "==================================================================================================\n",
      " input_3 (InputLayer)           [(None, 48, 48, 3)]  0           []                               \n",
      "                                                                                                  \n",
      " conv1_pad (ZeroPadding2D)      (None, 54, 54, 3)    0           ['input_3[0][0]']                \n",
      "                                                                                                  \n",
      " conv1_conv (Conv2D)            (None, 24, 24, 64)   9472        ['conv1_pad[0][0]']              \n",
      "                                                                                                  \n",
      " conv1_bn (BatchNormalization)  (None, 24, 24, 64)   256         ['conv1_conv[0][0]']             \n",
      "                                                                                                  \n",
      " conv1_relu (Activation)        (None, 24, 24, 64)   0           ['conv1_bn[0][0]']               \n",
      "                                                                                                  \n",
      " pool1_pad (ZeroPadding2D)      (None, 26, 26, 64)   0           ['conv1_relu[0][0]']             \n",
      "                                                                                                  \n",
      " pool1_pool (MaxPooling2D)      (None, 12, 12, 64)   0           ['pool1_pad[0][0]']              \n",
      "                                                                                                  \n",
      " conv2_block1_1_conv (Conv2D)   (None, 12, 12, 64)   4160        ['pool1_pool[0][0]']             \n",
      "                                                                                                  \n",
      " conv2_block1_1_bn (BatchNormal  (None, 12, 12, 64)  256         ['conv2_block1_1_conv[0][0]']    \n",
      " ization)                                                                                         \n",
      "                                                                                                  \n",
      " conv2_block1_1_relu (Activatio  (None, 12, 12, 64)  0           ['conv2_block1_1_bn[0][0]']      \n",
      " n)                                                                                               \n",
      "                                                                                                  \n",
      " conv2_block1_2_conv (Conv2D)   (None, 12, 12, 64)   36928       ['conv2_block1_1_relu[0][0]']    \n",
      "                                                                                                  \n",
      " conv2_block1_2_bn (BatchNormal  (None, 12, 12, 64)  256         ['conv2_block1_2_conv[0][0]']    \n",
      " ization)                                                                                         \n",
      "                                                                                                  \n",
      " conv2_block1_2_relu (Activatio  (None, 12, 12, 64)  0           ['conv2_block1_2_bn[0][0]']      \n",
      " n)                                                                                               \n",
      "                                                                                                  \n",
      " conv2_block1_0_conv (Conv2D)   (None, 12, 12, 256)  16640       ['pool1_pool[0][0]']             \n",
      "                                                                                                  \n",
      " conv2_block1_3_conv (Conv2D)   (None, 12, 12, 256)  16640       ['conv2_block1_2_relu[0][0]']    \n",
      "                                                                                                  \n",
      " conv2_block1_0_bn (BatchNormal  (None, 12, 12, 256)  1024       ['conv2_block1_0_conv[0][0]']    \n",
      " ization)                                                                                         \n",
      "                                                                                                  \n",
      " conv2_block1_3_bn (BatchNormal  (None, 12, 12, 256)  1024       ['conv2_block1_3_conv[0][0]']    \n",
      " ization)                                                                                         \n",
      "                                                                                                  \n",
      " conv2_block1_add (Add)         (None, 12, 12, 256)  0           ['conv2_block1_0_bn[0][0]',      \n",
      "                                                                  'conv2_block1_3_bn[0][0]']      \n",
      "                                                                                                  \n",
      " conv2_block1_out (Activation)  (None, 12, 12, 256)  0           ['conv2_block1_add[0][0]']       \n",
      "                                                                                                  \n",
      " conv2_block2_1_conv (Conv2D)   (None, 12, 12, 64)   16448       ['conv2_block1_out[0][0]']       \n",
      "                                                                                                  \n",
      " conv2_block2_1_bn (BatchNormal  (None, 12, 12, 64)  256         ['conv2_block2_1_conv[0][0]']    \n",
      " ization)                                                                                         \n",
      "                                                                                                  \n",
      " conv2_block2_1_relu (Activatio  (None, 12, 12, 64)  0           ['conv2_block2_1_bn[0][0]']      \n",
      " n)                                                                                               \n",
      "                                                                                                  \n",
      " conv2_block2_2_conv (Conv2D)   (None, 12, 12, 64)   36928       ['conv2_block2_1_relu[0][0]']    \n",
      "                                                                                                  \n",
      " conv2_block2_2_bn (BatchNormal  (None, 12, 12, 64)  256         ['conv2_block2_2_conv[0][0]']    \n",
      " ization)                                                                                         \n",
      "                                                                                                  \n",
      " conv2_block2_2_relu (Activatio  (None, 12, 12, 64)  0           ['conv2_block2_2_bn[0][0]']      \n",
      " n)                                                                                               \n",
      "                                                                                                  \n",
      " conv2_block2_3_conv (Conv2D)   (None, 12, 12, 256)  16640       ['conv2_block2_2_relu[0][0]']    \n",
      "                                                                                                  \n",
      " conv2_block2_3_bn (BatchNormal  (None, 12, 12, 256)  1024       ['conv2_block2_3_conv[0][0]']    \n",
      " ization)                                                                                         \n",
      "                                                                                                  \n",
      " conv2_block2_add (Add)         (None, 12, 12, 256)  0           ['conv2_block1_out[0][0]',       \n",
      "                                                                  'conv2_block2_3_bn[0][0]']      \n",
      "                                                                                                  \n",
      " conv2_block2_out (Activation)  (None, 12, 12, 256)  0           ['conv2_block2_add[0][0]']       \n",
      "                                                                                                  \n",
      " conv2_block3_1_conv (Conv2D)   (None, 12, 12, 64)   16448       ['conv2_block2_out[0][0]']       \n",
      "                                                                                                  \n",
      " conv2_block3_1_bn (BatchNormal  (None, 12, 12, 64)  256         ['conv2_block3_1_conv[0][0]']    \n",
      " ization)                                                                                         \n",
      "                                                                                                  \n",
      " conv2_block3_1_relu (Activatio  (None, 12, 12, 64)  0           ['conv2_block3_1_bn[0][0]']      \n",
      " n)                                                                                               \n",
      "                                                                                                  \n",
      " conv2_block3_2_conv (Conv2D)   (None, 12, 12, 64)   36928       ['conv2_block3_1_relu[0][0]']    \n",
      "                                                                                                  \n",
      " conv2_block3_2_bn (BatchNormal  (None, 12, 12, 64)  256         ['conv2_block3_2_conv[0][0]']    \n",
      " ization)                                                                                         \n",
      "                                                                                                  \n",
      " conv2_block3_2_relu (Activatio  (None, 12, 12, 64)  0           ['conv2_block3_2_bn[0][0]']      \n",
      " n)                                                                                               \n",
      "                                                                                                  \n",
      " conv2_block3_3_conv (Conv2D)   (None, 12, 12, 256)  16640       ['conv2_block3_2_relu[0][0]']    \n",
      "                                                                                                  \n",
      " conv2_block3_3_bn (BatchNormal  (None, 12, 12, 256)  1024       ['conv2_block3_3_conv[0][0]']    \n",
      " ization)                                                                                         \n",
      "                                                                                                  \n",
      " conv2_block3_add (Add)         (None, 12, 12, 256)  0           ['conv2_block2_out[0][0]',       \n",
      "                                                                  'conv2_block3_3_bn[0][0]']      \n",
      "                                                                                                  \n",
      " conv2_block3_out (Activation)  (None, 12, 12, 256)  0           ['conv2_block3_add[0][0]']       \n",
      "                                                                                                  \n",
      " conv3_block1_1_conv (Conv2D)   (None, 6, 6, 128)    32896       ['conv2_block3_out[0][0]']       \n",
      "                                                                                                  \n",
      " conv3_block1_1_bn (BatchNormal  (None, 6, 6, 128)   512         ['conv3_block1_1_conv[0][0]']    \n",
      " ization)                                                                                         \n",
      "                                                                                                  \n",
      " conv3_block1_1_relu (Activatio  (None, 6, 6, 128)   0           ['conv3_block1_1_bn[0][0]']      \n",
      " n)                                                                                               \n",
      "                                                                                                  \n",
      " conv3_block1_2_conv (Conv2D)   (None, 6, 6, 128)    147584      ['conv3_block1_1_relu[0][0]']    \n",
      "                                                                                                  \n",
      " conv3_block1_2_bn (BatchNormal  (None, 6, 6, 128)   512         ['conv3_block1_2_conv[0][0]']    \n",
      " ization)                                                                                         \n",
      "                                                                                                  \n",
      " conv3_block1_2_relu (Activatio  (None, 6, 6, 128)   0           ['conv3_block1_2_bn[0][0]']      \n",
      " n)                                                                                               \n",
      "                                                                                                  \n",
      " conv3_block1_0_conv (Conv2D)   (None, 6, 6, 512)    131584      ['conv2_block3_out[0][0]']       \n",
      "                                                                                                  \n",
      " conv3_block1_3_conv (Conv2D)   (None, 6, 6, 512)    66048       ['conv3_block1_2_relu[0][0]']    \n",
      "                                                                                                  \n",
      " conv3_block1_0_bn (BatchNormal  (None, 6, 6, 512)   2048        ['conv3_block1_0_conv[0][0]']    \n",
      " ization)                                                                                         \n",
      "                                                                                                  \n",
      " conv3_block1_3_bn (BatchNormal  (None, 6, 6, 512)   2048        ['conv3_block1_3_conv[0][0]']    \n",
      " ization)                                                                                         \n",
      "                                                                                                  \n",
      " conv3_block1_add (Add)         (None, 6, 6, 512)    0           ['conv3_block1_0_bn[0][0]',      \n",
      "                                                                  'conv3_block1_3_bn[0][0]']      \n",
      "                                                                                                  \n",
      " conv3_block1_out (Activation)  (None, 6, 6, 512)    0           ['conv3_block1_add[0][0]']       \n",
      "                                                                                                  \n",
      " conv3_block2_1_conv (Conv2D)   (None, 6, 6, 128)    65664       ['conv3_block1_out[0][0]']       \n",
      "                                                                                                  \n",
      " conv3_block2_1_bn (BatchNormal  (None, 6, 6, 128)   512         ['conv3_block2_1_conv[0][0]']    \n",
      " ization)                                                                                         \n",
      "                                                                                                  \n",
      " conv3_block2_1_relu (Activatio  (None, 6, 6, 128)   0           ['conv3_block2_1_bn[0][0]']      \n",
      " n)                                                                                               \n",
      "                                                                                                  \n",
      " conv3_block2_2_conv (Conv2D)   (None, 6, 6, 128)    147584      ['conv3_block2_1_relu[0][0]']    \n",
      "                                                                                                  \n",
      " conv3_block2_2_bn (BatchNormal  (None, 6, 6, 128)   512         ['conv3_block2_2_conv[0][0]']    \n",
      " ization)                                                                                         \n",
      "                                                                                                  \n",
      " conv3_block2_2_relu (Activatio  (None, 6, 6, 128)   0           ['conv3_block2_2_bn[0][0]']      \n",
      " n)                                                                                               \n",
      "                                                                                                  \n",
      " conv3_block2_3_conv (Conv2D)   (None, 6, 6, 512)    66048       ['conv3_block2_2_relu[0][0]']    \n",
      "                                                                                                  \n",
      " conv3_block2_3_bn (BatchNormal  (None, 6, 6, 512)   2048        ['conv3_block2_3_conv[0][0]']    \n",
      " ization)                                                                                         \n",
      "                                                                                                  \n",
      " conv3_block2_add (Add)         (None, 6, 6, 512)    0           ['conv3_block1_out[0][0]',       \n",
      "                                                                  'conv3_block2_3_bn[0][0]']      \n",
      "                                                                                                  \n",
      " conv3_block2_out (Activation)  (None, 6, 6, 512)    0           ['conv3_block2_add[0][0]']       \n",
      "                                                                                                  \n",
      " conv3_block3_1_conv (Conv2D)   (None, 6, 6, 128)    65664       ['conv3_block2_out[0][0]']       \n",
      "                                                                                                  \n",
      " conv3_block3_1_bn (BatchNormal  (None, 6, 6, 128)   512         ['conv3_block3_1_conv[0][0]']    \n",
      " ization)                                                                                         \n",
      "                                                                                                  \n",
      " conv3_block3_1_relu (Activatio  (None, 6, 6, 128)   0           ['conv3_block3_1_bn[0][0]']      \n",
      " n)                                                                                               \n",
      "                                                                                                  \n",
      " conv3_block3_2_conv (Conv2D)   (None, 6, 6, 128)    147584      ['conv3_block3_1_relu[0][0]']    \n",
      "                                                                                                  \n",
      " conv3_block3_2_bn (BatchNormal  (None, 6, 6, 128)   512         ['conv3_block3_2_conv[0][0]']    \n",
      " ization)                                                                                         \n",
      "                                                                                                  \n",
      " conv3_block3_2_relu (Activatio  (None, 6, 6, 128)   0           ['conv3_block3_2_bn[0][0]']      \n",
      " n)                                                                                               \n",
      "                                                                                                  \n",
      " conv3_block3_3_conv (Conv2D)   (None, 6, 6, 512)    66048       ['conv3_block3_2_relu[0][0]']    \n",
      "                                                                                                  \n",
      " conv3_block3_3_bn (BatchNormal  (None, 6, 6, 512)   2048        ['conv3_block3_3_conv[0][0]']    \n",
      " ization)                                                                                         \n",
      "                                                                                                  \n",
      " conv3_block3_add (Add)         (None, 6, 6, 512)    0           ['conv3_block2_out[0][0]',       \n",
      "                                                                  'conv3_block3_3_bn[0][0]']      \n",
      "                                                                                                  \n",
      " conv3_block3_out (Activation)  (None, 6, 6, 512)    0           ['conv3_block3_add[0][0]']       \n",
      "                                                                                                  \n",
      " conv3_block4_1_conv (Conv2D)   (None, 6, 6, 128)    65664       ['conv3_block3_out[0][0]']       \n",
      "                                                                                                  \n",
      " conv3_block4_1_bn (BatchNormal  (None, 6, 6, 128)   512         ['conv3_block4_1_conv[0][0]']    \n",
      " ization)                                                                                         \n",
      "                                                                                                  \n",
      " conv3_block4_1_relu (Activatio  (None, 6, 6, 128)   0           ['conv3_block4_1_bn[0][0]']      \n",
      " n)                                                                                               \n",
      "                                                                                                  \n",
      " conv3_block4_2_conv (Conv2D)   (None, 6, 6, 128)    147584      ['conv3_block4_1_relu[0][0]']    \n",
      "                                                                                                  \n",
      " conv3_block4_2_bn (BatchNormal  (None, 6, 6, 128)   512         ['conv3_block4_2_conv[0][0]']    \n",
      " ization)                                                                                         \n",
      "                                                                                                  \n",
      " conv3_block4_2_relu (Activatio  (None, 6, 6, 128)   0           ['conv3_block4_2_bn[0][0]']      \n",
      " n)                                                                                               \n",
      "                                                                                                  \n",
      " conv3_block4_3_conv (Conv2D)   (None, 6, 6, 512)    66048       ['conv3_block4_2_relu[0][0]']    \n",
      "                                                                                                  \n",
      " conv3_block4_3_bn (BatchNormal  (None, 6, 6, 512)   2048        ['conv3_block4_3_conv[0][0]']    \n",
      " ization)                                                                                         \n",
      "                                                                                                  \n",
      " conv3_block4_add (Add)         (None, 6, 6, 512)    0           ['conv3_block3_out[0][0]',       \n",
      "                                                                  'conv3_block4_3_bn[0][0]']      \n",
      "                                                                                                  \n",
      " conv3_block4_out (Activation)  (None, 6, 6, 512)    0           ['conv3_block4_add[0][0]']       \n",
      "                                                                                                  \n",
      " conv4_block1_1_conv (Conv2D)   (None, 3, 3, 256)    131328      ['conv3_block4_out[0][0]']       \n",
      "                                                                                                  \n",
      " conv4_block1_1_bn (BatchNormal  (None, 3, 3, 256)   1024        ['conv4_block1_1_conv[0][0]']    \n",
      " ization)                                                                                         \n",
      "                                                                                                  \n",
      " conv4_block1_1_relu (Activatio  (None, 3, 3, 256)   0           ['conv4_block1_1_bn[0][0]']      \n",
      " n)                                                                                               \n",
      "                                                                                                  \n",
      " conv4_block1_2_conv (Conv2D)   (None, 3, 3, 256)    590080      ['conv4_block1_1_relu[0][0]']    \n",
      "                                                                                                  \n",
      " conv4_block1_2_bn (BatchNormal  (None, 3, 3, 256)   1024        ['conv4_block1_2_conv[0][0]']    \n",
      " ization)                                                                                         \n",
      "                                                                                                  \n",
      " conv4_block1_2_relu (Activatio  (None, 3, 3, 256)   0           ['conv4_block1_2_bn[0][0]']      \n",
      " n)                                                                                               \n",
      "                                                                                                  \n",
      " conv4_block1_0_conv (Conv2D)   (None, 3, 3, 1024)   525312      ['conv3_block4_out[0][0]']       \n",
      "                                                                                                  \n",
      " conv4_block1_3_conv (Conv2D)   (None, 3, 3, 1024)   263168      ['conv4_block1_2_relu[0][0]']    \n",
      "                                                                                                  \n",
      " conv4_block1_0_bn (BatchNormal  (None, 3, 3, 1024)  4096        ['conv4_block1_0_conv[0][0]']    \n",
      " ization)                                                                                         \n",
      "                                                                                                  \n",
      " conv4_block1_3_bn (BatchNormal  (None, 3, 3, 1024)  4096        ['conv4_block1_3_conv[0][0]']    \n",
      " ization)                                                                                         \n",
      "                                                                                                  \n",
      " conv4_block1_add (Add)         (None, 3, 3, 1024)   0           ['conv4_block1_0_bn[0][0]',      \n",
      "                                                                  'conv4_block1_3_bn[0][0]']      \n",
      "                                                                                                  \n",
      " conv4_block1_out (Activation)  (None, 3, 3, 1024)   0           ['conv4_block1_add[0][0]']       \n",
      "                                                                                                  \n",
      " conv4_block2_1_conv (Conv2D)   (None, 3, 3, 256)    262400      ['conv4_block1_out[0][0]']       \n",
      "                                                                                                  \n",
      " conv4_block2_1_bn (BatchNormal  (None, 3, 3, 256)   1024        ['conv4_block2_1_conv[0][0]']    \n",
      " ization)                                                                                         \n",
      "                                                                                                  \n",
      " conv4_block2_1_relu (Activatio  (None, 3, 3, 256)   0           ['conv4_block2_1_bn[0][0]']      \n",
      " n)                                                                                               \n",
      "                                                                                                  \n",
      " conv4_block2_2_conv (Conv2D)   (None, 3, 3, 256)    590080      ['conv4_block2_1_relu[0][0]']    \n",
      "                                                                                                  \n",
      " conv4_block2_2_bn (BatchNormal  (None, 3, 3, 256)   1024        ['conv4_block2_2_conv[0][0]']    \n",
      " ization)                                                                                         \n",
      "                                                                                                  \n",
      " conv4_block2_2_relu (Activatio  (None, 3, 3, 256)   0           ['conv4_block2_2_bn[0][0]']      \n",
      " n)                                                                                               \n",
      "                                                                                                  \n",
      " conv4_block2_3_conv (Conv2D)   (None, 3, 3, 1024)   263168      ['conv4_block2_2_relu[0][0]']    \n",
      "                                                                                                  \n",
      " conv4_block2_3_bn (BatchNormal  (None, 3, 3, 1024)  4096        ['conv4_block2_3_conv[0][0]']    \n",
      " ization)                                                                                         \n",
      "                                                                                                  \n",
      " conv4_block2_add (Add)         (None, 3, 3, 1024)   0           ['conv4_block1_out[0][0]',       \n",
      "                                                                  'conv4_block2_3_bn[0][0]']      \n",
      "                                                                                                  \n",
      " conv4_block2_out (Activation)  (None, 3, 3, 1024)   0           ['conv4_block2_add[0][0]']       \n",
      "                                                                                                  \n",
      " conv4_block3_1_conv (Conv2D)   (None, 3, 3, 256)    262400      ['conv4_block2_out[0][0]']       \n",
      "                                                                                                  \n",
      " conv4_block3_1_bn (BatchNormal  (None, 3, 3, 256)   1024        ['conv4_block3_1_conv[0][0]']    \n",
      " ization)                                                                                         \n",
      "                                                                                                  \n",
      " conv4_block3_1_relu (Activatio  (None, 3, 3, 256)   0           ['conv4_block3_1_bn[0][0]']      \n",
      " n)                                                                                               \n",
      "                                                                                                  \n",
      " conv4_block3_2_conv (Conv2D)   (None, 3, 3, 256)    590080      ['conv4_block3_1_relu[0][0]']    \n",
      "                                                                                                  \n",
      " conv4_block3_2_bn (BatchNormal  (None, 3, 3, 256)   1024        ['conv4_block3_2_conv[0][0]']    \n",
      " ization)                                                                                         \n",
      "                                                                                                  \n",
      " conv4_block3_2_relu (Activatio  (None, 3, 3, 256)   0           ['conv4_block3_2_bn[0][0]']      \n",
      " n)                                                                                               \n",
      "                                                                                                  \n",
      " conv4_block3_3_conv (Conv2D)   (None, 3, 3, 1024)   263168      ['conv4_block3_2_relu[0][0]']    \n",
      "                                                                                                  \n",
      " conv4_block3_3_bn (BatchNormal  (None, 3, 3, 1024)  4096        ['conv4_block3_3_conv[0][0]']    \n",
      " ization)                                                                                         \n",
      "                                                                                                  \n",
      " conv4_block3_add (Add)         (None, 3, 3, 1024)   0           ['conv4_block2_out[0][0]',       \n",
      "                                                                  'conv4_block3_3_bn[0][0]']      \n",
      "                                                                                                  \n",
      " conv4_block3_out (Activation)  (None, 3, 3, 1024)   0           ['conv4_block3_add[0][0]']       \n",
      "                                                                                                  \n",
      " conv4_block4_1_conv (Conv2D)   (None, 3, 3, 256)    262400      ['conv4_block3_out[0][0]']       \n",
      "                                                                                                  \n",
      " conv4_block4_1_bn (BatchNormal  (None, 3, 3, 256)   1024        ['conv4_block4_1_conv[0][0]']    \n",
      " ization)                                                                                         \n",
      "                                                                                                  \n",
      " conv4_block4_1_relu (Activatio  (None, 3, 3, 256)   0           ['conv4_block4_1_bn[0][0]']      \n",
      " n)                                                                                               \n",
      "                                                                                                  \n",
      " conv4_block4_2_conv (Conv2D)   (None, 3, 3, 256)    590080      ['conv4_block4_1_relu[0][0]']    \n",
      "                                                                                                  \n",
      " conv4_block4_2_bn (BatchNormal  (None, 3, 3, 256)   1024        ['conv4_block4_2_conv[0][0]']    \n",
      " ization)                                                                                         \n",
      "                                                                                                  \n",
      " conv4_block4_2_relu (Activatio  (None, 3, 3, 256)   0           ['conv4_block4_2_bn[0][0]']      \n",
      " n)                                                                                               \n",
      "                                                                                                  \n",
      " conv4_block4_3_conv (Conv2D)   (None, 3, 3, 1024)   263168      ['conv4_block4_2_relu[0][0]']    \n",
      "                                                                                                  \n",
      " conv4_block4_3_bn (BatchNormal  (None, 3, 3, 1024)  4096        ['conv4_block4_3_conv[0][0]']    \n",
      " ization)                                                                                         \n",
      "                                                                                                  \n",
      " conv4_block4_add (Add)         (None, 3, 3, 1024)   0           ['conv4_block3_out[0][0]',       \n",
      "                                                                  'conv4_block4_3_bn[0][0]']      \n",
      "                                                                                                  \n",
      " conv4_block4_out (Activation)  (None, 3, 3, 1024)   0           ['conv4_block4_add[0][0]']       \n",
      "                                                                                                  \n",
      " conv4_block5_1_conv (Conv2D)   (None, 3, 3, 256)    262400      ['conv4_block4_out[0][0]']       \n",
      "                                                                                                  \n",
      " conv4_block5_1_bn (BatchNormal  (None, 3, 3, 256)   1024        ['conv4_block5_1_conv[0][0]']    \n",
      " ization)                                                                                         \n",
      "                                                                                                  \n",
      " conv4_block5_1_relu (Activatio  (None, 3, 3, 256)   0           ['conv4_block5_1_bn[0][0]']      \n",
      " n)                                                                                               \n",
      "                                                                                                  \n",
      " conv4_block5_2_conv (Conv2D)   (None, 3, 3, 256)    590080      ['conv4_block5_1_relu[0][0]']    \n",
      "                                                                                                  \n",
      " conv4_block5_2_bn (BatchNormal  (None, 3, 3, 256)   1024        ['conv4_block5_2_conv[0][0]']    \n",
      " ization)                                                                                         \n",
      "                                                                                                  \n",
      " conv4_block5_2_relu (Activatio  (None, 3, 3, 256)   0           ['conv4_block5_2_bn[0][0]']      \n",
      " n)                                                                                               \n",
      "                                                                                                  \n",
      " conv4_block5_3_conv (Conv2D)   (None, 3, 3, 1024)   263168      ['conv4_block5_2_relu[0][0]']    \n",
      "                                                                                                  \n",
      " conv4_block5_3_bn (BatchNormal  (None, 3, 3, 1024)  4096        ['conv4_block5_3_conv[0][0]']    \n",
      " ization)                                                                                         \n",
      "                                                                                                  \n",
      " conv4_block5_add (Add)         (None, 3, 3, 1024)   0           ['conv4_block4_out[0][0]',       \n",
      "                                                                  'conv4_block5_3_bn[0][0]']      \n",
      "                                                                                                  \n",
      " conv4_block5_out (Activation)  (None, 3, 3, 1024)   0           ['conv4_block5_add[0][0]']       \n",
      "                                                                                                  \n",
      " conv4_block6_1_conv (Conv2D)   (None, 3, 3, 256)    262400      ['conv4_block5_out[0][0]']       \n",
      "                                                                                                  \n",
      " conv4_block6_1_bn (BatchNormal  (None, 3, 3, 256)   1024        ['conv4_block6_1_conv[0][0]']    \n",
      " ization)                                                                                         \n",
      "                                                                                                  \n",
      " conv4_block6_1_relu (Activatio  (None, 3, 3, 256)   0           ['conv4_block6_1_bn[0][0]']      \n",
      " n)                                                                                               \n",
      "                                                                                                  \n",
      " conv4_block6_2_conv (Conv2D)   (None, 3, 3, 256)    590080      ['conv4_block6_1_relu[0][0]']    \n",
      "                                                                                                  \n",
      " conv4_block6_2_bn (BatchNormal  (None, 3, 3, 256)   1024        ['conv4_block6_2_conv[0][0]']    \n",
      " ization)                                                                                         \n",
      "                                                                                                  \n",
      " conv4_block6_2_relu (Activatio  (None, 3, 3, 256)   0           ['conv4_block6_2_bn[0][0]']      \n",
      " n)                                                                                               \n",
      "                                                                                                  \n",
      " conv4_block6_3_conv (Conv2D)   (None, 3, 3, 1024)   263168      ['conv4_block6_2_relu[0][0]']    \n",
      "                                                                                                  \n",
      " conv4_block6_3_bn (BatchNormal  (None, 3, 3, 1024)  4096        ['conv4_block6_3_conv[0][0]']    \n",
      " ization)                                                                                         \n",
      "                                                                                                  \n",
      " conv4_block6_add (Add)         (None, 3, 3, 1024)   0           ['conv4_block5_out[0][0]',       \n",
      "                                                                  'conv4_block6_3_bn[0][0]']      \n",
      "                                                                                                  \n",
      " conv4_block6_out (Activation)  (None, 3, 3, 1024)   0           ['conv4_block6_add[0][0]']       \n",
      "                                                                                                  \n",
      " conv4_block7_1_conv (Conv2D)   (None, 3, 3, 256)    262400      ['conv4_block6_out[0][0]']       \n",
      "                                                                                                  \n",
      " conv4_block7_1_bn (BatchNormal  (None, 3, 3, 256)   1024        ['conv4_block7_1_conv[0][0]']    \n",
      " ization)                                                                                         \n",
      "                                                                                                  \n",
      " conv4_block7_1_relu (Activatio  (None, 3, 3, 256)   0           ['conv4_block7_1_bn[0][0]']      \n",
      " n)                                                                                               \n",
      "                                                                                                  \n",
      " conv4_block7_2_conv (Conv2D)   (None, 3, 3, 256)    590080      ['conv4_block7_1_relu[0][0]']    \n",
      "                                                                                                  \n",
      " conv4_block7_2_bn (BatchNormal  (None, 3, 3, 256)   1024        ['conv4_block7_2_conv[0][0]']    \n",
      " ization)                                                                                         \n",
      "                                                                                                  \n",
      " conv4_block7_2_relu (Activatio  (None, 3, 3, 256)   0           ['conv4_block7_2_bn[0][0]']      \n",
      " n)                                                                                               \n",
      "                                                                                                  \n",
      " conv4_block7_3_conv (Conv2D)   (None, 3, 3, 1024)   263168      ['conv4_block7_2_relu[0][0]']    \n",
      "                                                                                                  \n",
      " conv4_block7_3_bn (BatchNormal  (None, 3, 3, 1024)  4096        ['conv4_block7_3_conv[0][0]']    \n",
      " ization)                                                                                         \n",
      "                                                                                                  \n",
      " conv4_block7_add (Add)         (None, 3, 3, 1024)   0           ['conv4_block6_out[0][0]',       \n",
      "                                                                  'conv4_block7_3_bn[0][0]']      \n",
      "                                                                                                  \n",
      " conv4_block7_out (Activation)  (None, 3, 3, 1024)   0           ['conv4_block7_add[0][0]']       \n",
      "                                                                                                  \n",
      " conv4_block8_1_conv (Conv2D)   (None, 3, 3, 256)    262400      ['conv4_block7_out[0][0]']       \n",
      "                                                                                                  \n",
      " conv4_block8_1_bn (BatchNormal  (None, 3, 3, 256)   1024        ['conv4_block8_1_conv[0][0]']    \n",
      " ization)                                                                                         \n",
      "                                                                                                  \n",
      " conv4_block8_1_relu (Activatio  (None, 3, 3, 256)   0           ['conv4_block8_1_bn[0][0]']      \n",
      " n)                                                                                               \n",
      "                                                                                                  \n",
      " conv4_block8_2_conv (Conv2D)   (None, 3, 3, 256)    590080      ['conv4_block8_1_relu[0][0]']    \n",
      "                                                                                                  \n",
      " conv4_block8_2_bn (BatchNormal  (None, 3, 3, 256)   1024        ['conv4_block8_2_conv[0][0]']    \n",
      " ization)                                                                                         \n",
      "                                                                                                  \n",
      " conv4_block8_2_relu (Activatio  (None, 3, 3, 256)   0           ['conv4_block8_2_bn[0][0]']      \n",
      " n)                                                                                               \n",
      "                                                                                                  \n",
      " conv4_block8_3_conv (Conv2D)   (None, 3, 3, 1024)   263168      ['conv4_block8_2_relu[0][0]']    \n",
      "                                                                                                  \n",
      " conv4_block8_3_bn (BatchNormal  (None, 3, 3, 1024)  4096        ['conv4_block8_3_conv[0][0]']    \n",
      " ization)                                                                                         \n",
      "                                                                                                  \n",
      " conv4_block8_add (Add)         (None, 3, 3, 1024)   0           ['conv4_block7_out[0][0]',       \n",
      "                                                                  'conv4_block8_3_bn[0][0]']      \n",
      "                                                                                                  \n",
      " conv4_block8_out (Activation)  (None, 3, 3, 1024)   0           ['conv4_block8_add[0][0]']       \n",
      "                                                                                                  \n",
      " conv4_block9_1_conv (Conv2D)   (None, 3, 3, 256)    262400      ['conv4_block8_out[0][0]']       \n",
      "                                                                                                  \n",
      " conv4_block9_1_bn (BatchNormal  (None, 3, 3, 256)   1024        ['conv4_block9_1_conv[0][0]']    \n",
      " ization)                                                                                         \n",
      "                                                                                                  \n",
      " conv4_block9_1_relu (Activatio  (None, 3, 3, 256)   0           ['conv4_block9_1_bn[0][0]']      \n",
      " n)                                                                                               \n",
      "                                                                                                  \n",
      " conv4_block9_2_conv (Conv2D)   (None, 3, 3, 256)    590080      ['conv4_block9_1_relu[0][0]']    \n",
      "                                                                                                  \n",
      " conv4_block9_2_bn (BatchNormal  (None, 3, 3, 256)   1024        ['conv4_block9_2_conv[0][0]']    \n",
      " ization)                                                                                         \n",
      "                                                                                                  \n",
      " conv4_block9_2_relu (Activatio  (None, 3, 3, 256)   0           ['conv4_block9_2_bn[0][0]']      \n",
      " n)                                                                                               \n",
      "                                                                                                  \n",
      " conv4_block9_3_conv (Conv2D)   (None, 3, 3, 1024)   263168      ['conv4_block9_2_relu[0][0]']    \n",
      "                                                                                                  \n",
      " conv4_block9_3_bn (BatchNormal  (None, 3, 3, 1024)  4096        ['conv4_block9_3_conv[0][0]']    \n",
      " ization)                                                                                         \n",
      "                                                                                                  \n",
      " conv4_block9_add (Add)         (None, 3, 3, 1024)   0           ['conv4_block8_out[0][0]',       \n",
      "                                                                  'conv4_block9_3_bn[0][0]']      \n",
      "                                                                                                  \n",
      " conv4_block9_out (Activation)  (None, 3, 3, 1024)   0           ['conv4_block9_add[0][0]']       \n",
      "                                                                                                  \n",
      " conv4_block10_1_conv (Conv2D)  (None, 3, 3, 256)    262400      ['conv4_block9_out[0][0]']       \n",
      "                                                                                                  \n",
      " conv4_block10_1_bn (BatchNorma  (None, 3, 3, 256)   1024        ['conv4_block10_1_conv[0][0]']   \n",
      " lization)                                                                                        \n",
      "                                                                                                  \n",
      " conv4_block10_1_relu (Activati  (None, 3, 3, 256)   0           ['conv4_block10_1_bn[0][0]']     \n",
      " on)                                                                                              \n",
      "                                                                                                  \n",
      " conv4_block10_2_conv (Conv2D)  (None, 3, 3, 256)    590080      ['conv4_block10_1_relu[0][0]']   \n",
      "                                                                                                  \n",
      " conv4_block10_2_bn (BatchNorma  (None, 3, 3, 256)   1024        ['conv4_block10_2_conv[0][0]']   \n",
      " lization)                                                                                        \n",
      "                                                                                                  \n",
      " conv4_block10_2_relu (Activati  (None, 3, 3, 256)   0           ['conv4_block10_2_bn[0][0]']     \n",
      " on)                                                                                              \n",
      "                                                                                                  \n",
      " conv4_block10_3_conv (Conv2D)  (None, 3, 3, 1024)   263168      ['conv4_block10_2_relu[0][0]']   \n",
      "                                                                                                  \n",
      " conv4_block10_3_bn (BatchNorma  (None, 3, 3, 1024)  4096        ['conv4_block10_3_conv[0][0]']   \n",
      " lization)                                                                                        \n",
      "                                                                                                  \n",
      " conv4_block10_add (Add)        (None, 3, 3, 1024)   0           ['conv4_block9_out[0][0]',       \n",
      "                                                                  'conv4_block10_3_bn[0][0]']     \n",
      "                                                                                                  \n",
      " conv4_block10_out (Activation)  (None, 3, 3, 1024)  0           ['conv4_block10_add[0][0]']      \n",
      "                                                                                                  \n",
      " conv4_block11_1_conv (Conv2D)  (None, 3, 3, 256)    262400      ['conv4_block10_out[0][0]']      \n",
      "                                                                                                  \n",
      " conv4_block11_1_bn (BatchNorma  (None, 3, 3, 256)   1024        ['conv4_block11_1_conv[0][0]']   \n",
      " lization)                                                                                        \n",
      "                                                                                                  \n",
      " conv4_block11_1_relu (Activati  (None, 3, 3, 256)   0           ['conv4_block11_1_bn[0][0]']     \n",
      " on)                                                                                              \n",
      "                                                                                                  \n",
      " conv4_block11_2_conv (Conv2D)  (None, 3, 3, 256)    590080      ['conv4_block11_1_relu[0][0]']   \n",
      "                                                                                                  \n",
      " conv4_block11_2_bn (BatchNorma  (None, 3, 3, 256)   1024        ['conv4_block11_2_conv[0][0]']   \n",
      " lization)                                                                                        \n",
      "                                                                                                  \n",
      " conv4_block11_2_relu (Activati  (None, 3, 3, 256)   0           ['conv4_block11_2_bn[0][0]']     \n",
      " on)                                                                                              \n",
      "                                                                                                  \n",
      " conv4_block11_3_conv (Conv2D)  (None, 3, 3, 1024)   263168      ['conv4_block11_2_relu[0][0]']   \n",
      "                                                                                                  \n",
      " conv4_block11_3_bn (BatchNorma  (None, 3, 3, 1024)  4096        ['conv4_block11_3_conv[0][0]']   \n",
      " lization)                                                                                        \n",
      "                                                                                                  \n",
      " conv4_block11_add (Add)        (None, 3, 3, 1024)   0           ['conv4_block10_out[0][0]',      \n",
      "                                                                  'conv4_block11_3_bn[0][0]']     \n",
      "                                                                                                  \n",
      " conv4_block11_out (Activation)  (None, 3, 3, 1024)  0           ['conv4_block11_add[0][0]']      \n",
      "                                                                                                  \n",
      " conv4_block12_1_conv (Conv2D)  (None, 3, 3, 256)    262400      ['conv4_block11_out[0][0]']      \n",
      "                                                                                                  \n",
      " conv4_block12_1_bn (BatchNorma  (None, 3, 3, 256)   1024        ['conv4_block12_1_conv[0][0]']   \n",
      " lization)                                                                                        \n",
      "                                                                                                  \n",
      " conv4_block12_1_relu (Activati  (None, 3, 3, 256)   0           ['conv4_block12_1_bn[0][0]']     \n",
      " on)                                                                                              \n",
      "                                                                                                  \n",
      " conv4_block12_2_conv (Conv2D)  (None, 3, 3, 256)    590080      ['conv4_block12_1_relu[0][0]']   \n",
      "                                                                                                  \n",
      " conv4_block12_2_bn (BatchNorma  (None, 3, 3, 256)   1024        ['conv4_block12_2_conv[0][0]']   \n",
      " lization)                                                                                        \n",
      "                                                                                                  \n",
      " conv4_block12_2_relu (Activati  (None, 3, 3, 256)   0           ['conv4_block12_2_bn[0][0]']     \n",
      " on)                                                                                              \n",
      "                                                                                                  \n",
      " conv4_block12_3_conv (Conv2D)  (None, 3, 3, 1024)   263168      ['conv4_block12_2_relu[0][0]']   \n",
      "                                                                                                  \n",
      " conv4_block12_3_bn (BatchNorma  (None, 3, 3, 1024)  4096        ['conv4_block12_3_conv[0][0]']   \n",
      " lization)                                                                                        \n",
      "                                                                                                  \n",
      " conv4_block12_add (Add)        (None, 3, 3, 1024)   0           ['conv4_block11_out[0][0]',      \n",
      "                                                                  'conv4_block12_3_bn[0][0]']     \n",
      "                                                                                                  \n",
      " conv4_block12_out (Activation)  (None, 3, 3, 1024)  0           ['conv4_block12_add[0][0]']      \n",
      "                                                                                                  \n",
      " conv4_block13_1_conv (Conv2D)  (None, 3, 3, 256)    262400      ['conv4_block12_out[0][0]']      \n",
      "                                                                                                  \n",
      " conv4_block13_1_bn (BatchNorma  (None, 3, 3, 256)   1024        ['conv4_block13_1_conv[0][0]']   \n",
      " lization)                                                                                        \n",
      "                                                                                                  \n",
      " conv4_block13_1_relu (Activati  (None, 3, 3, 256)   0           ['conv4_block13_1_bn[0][0]']     \n",
      " on)                                                                                              \n",
      "                                                                                                  \n",
      " conv4_block13_2_conv (Conv2D)  (None, 3, 3, 256)    590080      ['conv4_block13_1_relu[0][0]']   \n",
      "                                                                                                  \n",
      " conv4_block13_2_bn (BatchNorma  (None, 3, 3, 256)   1024        ['conv4_block13_2_conv[0][0]']   \n",
      " lization)                                                                                        \n",
      "                                                                                                  \n",
      " conv4_block13_2_relu (Activati  (None, 3, 3, 256)   0           ['conv4_block13_2_bn[0][0]']     \n",
      " on)                                                                                              \n",
      "                                                                                                  \n",
      " conv4_block13_3_conv (Conv2D)  (None, 3, 3, 1024)   263168      ['conv4_block13_2_relu[0][0]']   \n",
      "                                                                                                  \n",
      " conv4_block13_3_bn (BatchNorma  (None, 3, 3, 1024)  4096        ['conv4_block13_3_conv[0][0]']   \n",
      " lization)                                                                                        \n",
      "                                                                                                  \n",
      " conv4_block13_add (Add)        (None, 3, 3, 1024)   0           ['conv4_block12_out[0][0]',      \n",
      "                                                                  'conv4_block13_3_bn[0][0]']     \n",
      "                                                                                                  \n",
      " conv4_block13_out (Activation)  (None, 3, 3, 1024)  0           ['conv4_block13_add[0][0]']      \n",
      "                                                                                                  \n",
      " conv4_block14_1_conv (Conv2D)  (None, 3, 3, 256)    262400      ['conv4_block13_out[0][0]']      \n",
      "                                                                                                  \n",
      " conv4_block14_1_bn (BatchNorma  (None, 3, 3, 256)   1024        ['conv4_block14_1_conv[0][0]']   \n",
      " lization)                                                                                        \n",
      "                                                                                                  \n",
      " conv4_block14_1_relu (Activati  (None, 3, 3, 256)   0           ['conv4_block14_1_bn[0][0]']     \n",
      " on)                                                                                              \n",
      "                                                                                                  \n",
      " conv4_block14_2_conv (Conv2D)  (None, 3, 3, 256)    590080      ['conv4_block14_1_relu[0][0]']   \n",
      "                                                                                                  \n",
      " conv4_block14_2_bn (BatchNorma  (None, 3, 3, 256)   1024        ['conv4_block14_2_conv[0][0]']   \n",
      " lization)                                                                                        \n",
      "                                                                                                  \n",
      " conv4_block14_2_relu (Activati  (None, 3, 3, 256)   0           ['conv4_block14_2_bn[0][0]']     \n",
      " on)                                                                                              \n",
      "                                                                                                  \n",
      " conv4_block14_3_conv (Conv2D)  (None, 3, 3, 1024)   263168      ['conv4_block14_2_relu[0][0]']   \n",
      "                                                                                                  \n",
      " conv4_block14_3_bn (BatchNorma  (None, 3, 3, 1024)  4096        ['conv4_block14_3_conv[0][0]']   \n",
      " lization)                                                                                        \n",
      "                                                                                                  \n",
      " conv4_block14_add (Add)        (None, 3, 3, 1024)   0           ['conv4_block13_out[0][0]',      \n",
      "                                                                  'conv4_block14_3_bn[0][0]']     \n",
      "                                                                                                  \n",
      " conv4_block14_out (Activation)  (None, 3, 3, 1024)  0           ['conv4_block14_add[0][0]']      \n",
      "                                                                                                  \n",
      " conv4_block15_1_conv (Conv2D)  (None, 3, 3, 256)    262400      ['conv4_block14_out[0][0]']      \n",
      "                                                                                                  \n",
      " conv4_block15_1_bn (BatchNorma  (None, 3, 3, 256)   1024        ['conv4_block15_1_conv[0][0]']   \n",
      " lization)                                                                                        \n",
      "                                                                                                  \n",
      " conv4_block15_1_relu (Activati  (None, 3, 3, 256)   0           ['conv4_block15_1_bn[0][0]']     \n",
      " on)                                                                                              \n",
      "                                                                                                  \n",
      " conv4_block15_2_conv (Conv2D)  (None, 3, 3, 256)    590080      ['conv4_block15_1_relu[0][0]']   \n",
      "                                                                                                  \n",
      " conv4_block15_2_bn (BatchNorma  (None, 3, 3, 256)   1024        ['conv4_block15_2_conv[0][0]']   \n",
      " lization)                                                                                        \n",
      "                                                                                                  \n",
      " conv4_block15_2_relu (Activati  (None, 3, 3, 256)   0           ['conv4_block15_2_bn[0][0]']     \n",
      " on)                                                                                              \n",
      "                                                                                                  \n",
      " conv4_block15_3_conv (Conv2D)  (None, 3, 3, 1024)   263168      ['conv4_block15_2_relu[0][0]']   \n",
      "                                                                                                  \n",
      " conv4_block15_3_bn (BatchNorma  (None, 3, 3, 1024)  4096        ['conv4_block15_3_conv[0][0]']   \n",
      " lization)                                                                                        \n",
      "                                                                                                  \n",
      " conv4_block15_add (Add)        (None, 3, 3, 1024)   0           ['conv4_block14_out[0][0]',      \n",
      "                                                                  'conv4_block15_3_bn[0][0]']     \n",
      "                                                                                                  \n",
      " conv4_block15_out (Activation)  (None, 3, 3, 1024)  0           ['conv4_block15_add[0][0]']      \n",
      "                                                                                                  \n",
      " conv4_block16_1_conv (Conv2D)  (None, 3, 3, 256)    262400      ['conv4_block15_out[0][0]']      \n",
      "                                                                                                  \n",
      " conv4_block16_1_bn (BatchNorma  (None, 3, 3, 256)   1024        ['conv4_block16_1_conv[0][0]']   \n",
      " lization)                                                                                        \n",
      "                                                                                                  \n",
      " conv4_block16_1_relu (Activati  (None, 3, 3, 256)   0           ['conv4_block16_1_bn[0][0]']     \n",
      " on)                                                                                              \n",
      "                                                                                                  \n",
      " conv4_block16_2_conv (Conv2D)  (None, 3, 3, 256)    590080      ['conv4_block16_1_relu[0][0]']   \n",
      "                                                                                                  \n",
      " conv4_block16_2_bn (BatchNorma  (None, 3, 3, 256)   1024        ['conv4_block16_2_conv[0][0]']   \n",
      " lization)                                                                                        \n",
      "                                                                                                  \n",
      " conv4_block16_2_relu (Activati  (None, 3, 3, 256)   0           ['conv4_block16_2_bn[0][0]']     \n",
      " on)                                                                                              \n",
      "                                                                                                  \n",
      " conv4_block16_3_conv (Conv2D)  (None, 3, 3, 1024)   263168      ['conv4_block16_2_relu[0][0]']   \n",
      "                                                                                                  \n",
      " conv4_block16_3_bn (BatchNorma  (None, 3, 3, 1024)  4096        ['conv4_block16_3_conv[0][0]']   \n",
      " lization)                                                                                        \n",
      "                                                                                                  \n",
      " conv4_block16_add (Add)        (None, 3, 3, 1024)   0           ['conv4_block15_out[0][0]',      \n",
      "                                                                  'conv4_block16_3_bn[0][0]']     \n",
      "                                                                                                  \n",
      " conv4_block16_out (Activation)  (None, 3, 3, 1024)  0           ['conv4_block16_add[0][0]']      \n",
      "                                                                                                  \n",
      " conv4_block17_1_conv (Conv2D)  (None, 3, 3, 256)    262400      ['conv4_block16_out[0][0]']      \n",
      "                                                                                                  \n",
      " conv4_block17_1_bn (BatchNorma  (None, 3, 3, 256)   1024        ['conv4_block17_1_conv[0][0]']   \n",
      " lization)                                                                                        \n",
      "                                                                                                  \n",
      " conv4_block17_1_relu (Activati  (None, 3, 3, 256)   0           ['conv4_block17_1_bn[0][0]']     \n",
      " on)                                                                                              \n",
      "                                                                                                  \n",
      " conv4_block17_2_conv (Conv2D)  (None, 3, 3, 256)    590080      ['conv4_block17_1_relu[0][0]']   \n",
      "                                                                                                  \n",
      " conv4_block17_2_bn (BatchNorma  (None, 3, 3, 256)   1024        ['conv4_block17_2_conv[0][0]']   \n",
      " lization)                                                                                        \n",
      "                                                                                                  \n",
      " conv4_block17_2_relu (Activati  (None, 3, 3, 256)   0           ['conv4_block17_2_bn[0][0]']     \n",
      " on)                                                                                              \n",
      "                                                                                                  \n",
      " conv4_block17_3_conv (Conv2D)  (None, 3, 3, 1024)   263168      ['conv4_block17_2_relu[0][0]']   \n",
      "                                                                                                  \n",
      " conv4_block17_3_bn (BatchNorma  (None, 3, 3, 1024)  4096        ['conv4_block17_3_conv[0][0]']   \n",
      " lization)                                                                                        \n",
      "                                                                                                  \n",
      " conv4_block17_add (Add)        (None, 3, 3, 1024)   0           ['conv4_block16_out[0][0]',      \n",
      "                                                                  'conv4_block17_3_bn[0][0]']     \n",
      "                                                                                                  \n",
      " conv4_block17_out (Activation)  (None, 3, 3, 1024)  0           ['conv4_block17_add[0][0]']      \n",
      "                                                                                                  \n",
      " conv4_block18_1_conv (Conv2D)  (None, 3, 3, 256)    262400      ['conv4_block17_out[0][0]']      \n",
      "                                                                                                  \n",
      " conv4_block18_1_bn (BatchNorma  (None, 3, 3, 256)   1024        ['conv4_block18_1_conv[0][0]']   \n",
      " lization)                                                                                        \n",
      "                                                                                                  \n",
      " conv4_block18_1_relu (Activati  (None, 3, 3, 256)   0           ['conv4_block18_1_bn[0][0]']     \n",
      " on)                                                                                              \n",
      "                                                                                                  \n",
      " conv4_block18_2_conv (Conv2D)  (None, 3, 3, 256)    590080      ['conv4_block18_1_relu[0][0]']   \n",
      "                                                                                                  \n",
      " conv4_block18_2_bn (BatchNorma  (None, 3, 3, 256)   1024        ['conv4_block18_2_conv[0][0]']   \n",
      " lization)                                                                                        \n",
      "                                                                                                  \n",
      " conv4_block18_2_relu (Activati  (None, 3, 3, 256)   0           ['conv4_block18_2_bn[0][0]']     \n",
      " on)                                                                                              \n",
      "                                                                                                  \n",
      " conv4_block18_3_conv (Conv2D)  (None, 3, 3, 1024)   263168      ['conv4_block18_2_relu[0][0]']   \n",
      "                                                                                                  \n",
      " conv4_block18_3_bn (BatchNorma  (None, 3, 3, 1024)  4096        ['conv4_block18_3_conv[0][0]']   \n",
      " lization)                                                                                        \n",
      "                                                                                                  \n",
      " conv4_block18_add (Add)        (None, 3, 3, 1024)   0           ['conv4_block17_out[0][0]',      \n",
      "                                                                  'conv4_block18_3_bn[0][0]']     \n",
      "                                                                                                  \n",
      " conv4_block18_out (Activation)  (None, 3, 3, 1024)  0           ['conv4_block18_add[0][0]']      \n",
      "                                                                                                  \n",
      " conv4_block19_1_conv (Conv2D)  (None, 3, 3, 256)    262400      ['conv4_block18_out[0][0]']      \n",
      "                                                                                                  \n",
      " conv4_block19_1_bn (BatchNorma  (None, 3, 3, 256)   1024        ['conv4_block19_1_conv[0][0]']   \n",
      " lization)                                                                                        \n",
      "                                                                                                  \n",
      " conv4_block19_1_relu (Activati  (None, 3, 3, 256)   0           ['conv4_block19_1_bn[0][0]']     \n",
      " on)                                                                                              \n",
      "                                                                                                  \n",
      " conv4_block19_2_conv (Conv2D)  (None, 3, 3, 256)    590080      ['conv4_block19_1_relu[0][0]']   \n",
      "                                                                                                  \n",
      " conv4_block19_2_bn (BatchNorma  (None, 3, 3, 256)   1024        ['conv4_block19_2_conv[0][0]']   \n",
      " lization)                                                                                        \n",
      "                                                                                                  \n",
      " conv4_block19_2_relu (Activati  (None, 3, 3, 256)   0           ['conv4_block19_2_bn[0][0]']     \n",
      " on)                                                                                              \n",
      "                                                                                                  \n",
      " conv4_block19_3_conv (Conv2D)  (None, 3, 3, 1024)   263168      ['conv4_block19_2_relu[0][0]']   \n",
      "                                                                                                  \n",
      " conv4_block19_3_bn (BatchNorma  (None, 3, 3, 1024)  4096        ['conv4_block19_3_conv[0][0]']   \n",
      " lization)                                                                                        \n",
      "                                                                                                  \n",
      " conv4_block19_add (Add)        (None, 3, 3, 1024)   0           ['conv4_block18_out[0][0]',      \n",
      "                                                                  'conv4_block19_3_bn[0][0]']     \n",
      "                                                                                                  \n",
      " conv4_block19_out (Activation)  (None, 3, 3, 1024)  0           ['conv4_block19_add[0][0]']      \n",
      "                                                                                                  \n",
      " conv4_block20_1_conv (Conv2D)  (None, 3, 3, 256)    262400      ['conv4_block19_out[0][0]']      \n",
      "                                                                                                  \n",
      " conv4_block20_1_bn (BatchNorma  (None, 3, 3, 256)   1024        ['conv4_block20_1_conv[0][0]']   \n",
      " lization)                                                                                        \n",
      "                                                                                                  \n",
      " conv4_block20_1_relu (Activati  (None, 3, 3, 256)   0           ['conv4_block20_1_bn[0][0]']     \n",
      " on)                                                                                              \n",
      "                                                                                                  \n",
      " conv4_block20_2_conv (Conv2D)  (None, 3, 3, 256)    590080      ['conv4_block20_1_relu[0][0]']   \n",
      "                                                                                                  \n",
      " conv4_block20_2_bn (BatchNorma  (None, 3, 3, 256)   1024        ['conv4_block20_2_conv[0][0]']   \n",
      " lization)                                                                                        \n",
      "                                                                                                  \n",
      " conv4_block20_2_relu (Activati  (None, 3, 3, 256)   0           ['conv4_block20_2_bn[0][0]']     \n",
      " on)                                                                                              \n",
      "                                                                                                  \n",
      " conv4_block20_3_conv (Conv2D)  (None, 3, 3, 1024)   263168      ['conv4_block20_2_relu[0][0]']   \n",
      "                                                                                                  \n",
      " conv4_block20_3_bn (BatchNorma  (None, 3, 3, 1024)  4096        ['conv4_block20_3_conv[0][0]']   \n",
      " lization)                                                                                        \n",
      "                                                                                                  \n",
      " conv4_block20_add (Add)        (None, 3, 3, 1024)   0           ['conv4_block19_out[0][0]',      \n",
      "                                                                  'conv4_block20_3_bn[0][0]']     \n",
      "                                                                                                  \n",
      " conv4_block20_out (Activation)  (None, 3, 3, 1024)  0           ['conv4_block20_add[0][0]']      \n",
      "                                                                                                  \n",
      " conv4_block21_1_conv (Conv2D)  (None, 3, 3, 256)    262400      ['conv4_block20_out[0][0]']      \n",
      "                                                                                                  \n",
      " conv4_block21_1_bn (BatchNorma  (None, 3, 3, 256)   1024        ['conv4_block21_1_conv[0][0]']   \n",
      " lization)                                                                                        \n",
      "                                                                                                  \n",
      " conv4_block21_1_relu (Activati  (None, 3, 3, 256)   0           ['conv4_block21_1_bn[0][0]']     \n",
      " on)                                                                                              \n",
      "                                                                                                  \n",
      " conv4_block21_2_conv (Conv2D)  (None, 3, 3, 256)    590080      ['conv4_block21_1_relu[0][0]']   \n",
      "                                                                                                  \n",
      " conv4_block21_2_bn (BatchNorma  (None, 3, 3, 256)   1024        ['conv4_block21_2_conv[0][0]']   \n",
      " lization)                                                                                        \n",
      "                                                                                                  \n",
      " conv4_block21_2_relu (Activati  (None, 3, 3, 256)   0           ['conv4_block21_2_bn[0][0]']     \n",
      " on)                                                                                              \n",
      "                                                                                                  \n",
      " conv4_block21_3_conv (Conv2D)  (None, 3, 3, 1024)   263168      ['conv4_block21_2_relu[0][0]']   \n",
      "                                                                                                  \n",
      " conv4_block21_3_bn (BatchNorma  (None, 3, 3, 1024)  4096        ['conv4_block21_3_conv[0][0]']   \n",
      " lization)                                                                                        \n",
      "                                                                                                  \n",
      " conv4_block21_add (Add)        (None, 3, 3, 1024)   0           ['conv4_block20_out[0][0]',      \n",
      "                                                                  'conv4_block21_3_bn[0][0]']     \n",
      "                                                                                                  \n",
      " conv4_block21_out (Activation)  (None, 3, 3, 1024)  0           ['conv4_block21_add[0][0]']      \n",
      "                                                                                                  \n",
      " conv4_block22_1_conv (Conv2D)  (None, 3, 3, 256)    262400      ['conv4_block21_out[0][0]']      \n",
      "                                                                                                  \n",
      " conv4_block22_1_bn (BatchNorma  (None, 3, 3, 256)   1024        ['conv4_block22_1_conv[0][0]']   \n",
      " lization)                                                                                        \n",
      "                                                                                                  \n",
      " conv4_block22_1_relu (Activati  (None, 3, 3, 256)   0           ['conv4_block22_1_bn[0][0]']     \n",
      " on)                                                                                              \n",
      "                                                                                                  \n",
      " conv4_block22_2_conv (Conv2D)  (None, 3, 3, 256)    590080      ['conv4_block22_1_relu[0][0]']   \n",
      "                                                                                                  \n",
      " conv4_block22_2_bn (BatchNorma  (None, 3, 3, 256)   1024        ['conv4_block22_2_conv[0][0]']   \n",
      " lization)                                                                                        \n",
      "                                                                                                  \n",
      " conv4_block22_2_relu (Activati  (None, 3, 3, 256)   0           ['conv4_block22_2_bn[0][0]']     \n",
      " on)                                                                                              \n",
      "                                                                                                  \n",
      " conv4_block22_3_conv (Conv2D)  (None, 3, 3, 1024)   263168      ['conv4_block22_2_relu[0][0]']   \n",
      "                                                                                                  \n",
      " conv4_block22_3_bn (BatchNorma  (None, 3, 3, 1024)  4096        ['conv4_block22_3_conv[0][0]']   \n",
      " lization)                                                                                        \n",
      "                                                                                                  \n",
      " conv4_block22_add (Add)        (None, 3, 3, 1024)   0           ['conv4_block21_out[0][0]',      \n",
      "                                                                  'conv4_block22_3_bn[0][0]']     \n",
      "                                                                                                  \n",
      " conv4_block22_out (Activation)  (None, 3, 3, 1024)  0           ['conv4_block22_add[0][0]']      \n",
      "                                                                                                  \n",
      " conv4_block23_1_conv (Conv2D)  (None, 3, 3, 256)    262400      ['conv4_block22_out[0][0]']      \n",
      "                                                                                                  \n",
      " conv4_block23_1_bn (BatchNorma  (None, 3, 3, 256)   1024        ['conv4_block23_1_conv[0][0]']   \n",
      " lization)                                                                                        \n",
      "                                                                                                  \n",
      " conv4_block23_1_relu (Activati  (None, 3, 3, 256)   0           ['conv4_block23_1_bn[0][0]']     \n",
      " on)                                                                                              \n",
      "                                                                                                  \n",
      " conv4_block23_2_conv (Conv2D)  (None, 3, 3, 256)    590080      ['conv4_block23_1_relu[0][0]']   \n",
      "                                                                                                  \n",
      " conv4_block23_2_bn (BatchNorma  (None, 3, 3, 256)   1024        ['conv4_block23_2_conv[0][0]']   \n",
      " lization)                                                                                        \n",
      "                                                                                                  \n",
      " conv4_block23_2_relu (Activati  (None, 3, 3, 256)   0           ['conv4_block23_2_bn[0][0]']     \n",
      " on)                                                                                              \n",
      "                                                                                                  \n",
      " conv4_block23_3_conv (Conv2D)  (None, 3, 3, 1024)   263168      ['conv4_block23_2_relu[0][0]']   \n",
      "                                                                                                  \n",
      " conv4_block23_3_bn (BatchNorma  (None, 3, 3, 1024)  4096        ['conv4_block23_3_conv[0][0]']   \n",
      " lization)                                                                                        \n",
      "                                                                                                  \n",
      " conv4_block23_add (Add)        (None, 3, 3, 1024)   0           ['conv4_block22_out[0][0]',      \n",
      "                                                                  'conv4_block23_3_bn[0][0]']     \n",
      "                                                                                                  \n",
      " conv4_block23_out (Activation)  (None, 3, 3, 1024)  0           ['conv4_block23_add[0][0]']      \n",
      "                                                                                                  \n",
      " conv5_block1_1_conv (Conv2D)   (None, 2, 2, 512)    524800      ['conv4_block23_out[0][0]']      \n",
      "                                                                                                  \n",
      " conv5_block1_1_bn (BatchNormal  (None, 2, 2, 512)   2048        ['conv5_block1_1_conv[0][0]']    \n",
      " ization)                                                                                         \n",
      "                                                                                                  \n",
      " conv5_block1_1_relu (Activatio  (None, 2, 2, 512)   0           ['conv5_block1_1_bn[0][0]']      \n",
      " n)                                                                                               \n",
      "                                                                                                  \n",
      " conv5_block1_2_conv (Conv2D)   (None, 2, 2, 512)    2359808     ['conv5_block1_1_relu[0][0]']    \n",
      "                                                                                                  \n",
      " conv5_block1_2_bn (BatchNormal  (None, 2, 2, 512)   2048        ['conv5_block1_2_conv[0][0]']    \n",
      " ization)                                                                                         \n",
      "                                                                                                  \n",
      " conv5_block1_2_relu (Activatio  (None, 2, 2, 512)   0           ['conv5_block1_2_bn[0][0]']      \n",
      " n)                                                                                               \n",
      "                                                                                                  \n",
      " conv5_block1_0_conv (Conv2D)   (None, 2, 2, 2048)   2099200     ['conv4_block23_out[0][0]']      \n",
      "                                                                                                  \n",
      " conv5_block1_3_conv (Conv2D)   (None, 2, 2, 2048)   1050624     ['conv5_block1_2_relu[0][0]']    \n",
      "                                                                                                  \n",
      " conv5_block1_0_bn (BatchNormal  (None, 2, 2, 2048)  8192        ['conv5_block1_0_conv[0][0]']    \n",
      " ization)                                                                                         \n",
      "                                                                                                  \n",
      " conv5_block1_3_bn (BatchNormal  (None, 2, 2, 2048)  8192        ['conv5_block1_3_conv[0][0]']    \n",
      " ization)                                                                                         \n",
      "                                                                                                  \n",
      " conv5_block1_add (Add)         (None, 2, 2, 2048)   0           ['conv5_block1_0_bn[0][0]',      \n",
      "                                                                  'conv5_block1_3_bn[0][0]']      \n",
      "                                                                                                  \n",
      " conv5_block1_out (Activation)  (None, 2, 2, 2048)   0           ['conv5_block1_add[0][0]']       \n",
      "                                                                                                  \n",
      " conv5_block2_1_conv (Conv2D)   (None, 2, 2, 512)    1049088     ['conv5_block1_out[0][0]']       \n",
      "                                                                                                  \n",
      " conv5_block2_1_bn (BatchNormal  (None, 2, 2, 512)   2048        ['conv5_block2_1_conv[0][0]']    \n",
      " ization)                                                                                         \n",
      "                                                                                                  \n",
      " conv5_block2_1_relu (Activatio  (None, 2, 2, 512)   0           ['conv5_block2_1_bn[0][0]']      \n",
      " n)                                                                                               \n",
      "                                                                                                  \n",
      " conv5_block2_2_conv (Conv2D)   (None, 2, 2, 512)    2359808     ['conv5_block2_1_relu[0][0]']    \n",
      "                                                                                                  \n",
      " conv5_block2_2_bn (BatchNormal  (None, 2, 2, 512)   2048        ['conv5_block2_2_conv[0][0]']    \n",
      " ization)                                                                                         \n",
      "                                                                                                  \n",
      " conv5_block2_2_relu (Activatio  (None, 2, 2, 512)   0           ['conv5_block2_2_bn[0][0]']      \n",
      " n)                                                                                               \n",
      "                                                                                                  \n",
      " conv5_block2_3_conv (Conv2D)   (None, 2, 2, 2048)   1050624     ['conv5_block2_2_relu[0][0]']    \n",
      "                                                                                                  \n",
      " conv5_block2_3_bn (BatchNormal  (None, 2, 2, 2048)  8192        ['conv5_block2_3_conv[0][0]']    \n",
      " ization)                                                                                         \n",
      "                                                                                                  \n",
      " conv5_block2_add (Add)         (None, 2, 2, 2048)   0           ['conv5_block1_out[0][0]',       \n",
      "                                                                  'conv5_block2_3_bn[0][0]']      \n",
      "                                                                                                  \n",
      " conv5_block2_out (Activation)  (None, 2, 2, 2048)   0           ['conv5_block2_add[0][0]']       \n",
      "                                                                                                  \n",
      " conv5_block3_1_conv (Conv2D)   (None, 2, 2, 512)    1049088     ['conv5_block2_out[0][0]']       \n",
      "                                                                                                  \n",
      " conv5_block3_1_bn (BatchNormal  (None, 2, 2, 512)   2048        ['conv5_block3_1_conv[0][0]']    \n",
      " ization)                                                                                         \n",
      "                                                                                                  \n",
      " conv5_block3_1_relu (Activatio  (None, 2, 2, 512)   0           ['conv5_block3_1_bn[0][0]']      \n",
      " n)                                                                                               \n",
      "                                                                                                  \n",
      " conv5_block3_2_conv (Conv2D)   (None, 2, 2, 512)    2359808     ['conv5_block3_1_relu[0][0]']    \n",
      "                                                                                                  \n",
      " conv5_block3_2_bn (BatchNormal  (None, 2, 2, 512)   2048        ['conv5_block3_2_conv[0][0]']    \n",
      " ization)                                                                                         \n",
      "                                                                                                  \n",
      " conv5_block3_2_relu (Activatio  (None, 2, 2, 512)   0           ['conv5_block3_2_bn[0][0]']      \n",
      " n)                                                                                               \n",
      "                                                                                                  \n",
      " conv5_block3_3_conv (Conv2D)   (None, 2, 2, 2048)   1050624     ['conv5_block3_2_relu[0][0]']    \n",
      "                                                                                                  \n",
      " conv5_block3_3_bn (BatchNormal  (None, 2, 2, 2048)  8192        ['conv5_block3_3_conv[0][0]']    \n",
      " ization)                                                                                         \n",
      "                                                                                                  \n",
      " conv5_block3_add (Add)         (None, 2, 2, 2048)   0           ['conv5_block2_out[0][0]',       \n",
      "                                                                  'conv5_block3_3_bn[0][0]']      \n",
      "                                                                                                  \n",
      " conv5_block3_out (Activation)  (None, 2, 2, 2048)   0           ['conv5_block3_add[0][0]']       \n",
      "                                                                                                  \n",
      "==================================================================================================\n",
      "Total params: 42,658,176\n",
      "Trainable params: 42,552,832\n",
      "Non-trainable params: 105,344\n",
      "__________________________________________________________________________________________________\n"
     ]
    }
   ],
   "source": [
    "import tensorflow as tf\n",
    "import tensorflow.keras.applications as ap\n",
    "from tensorflow.keras import Model\n",
    "\n",
    "Resnet = ap.ResNet101(include_top = False, weights = \"imagenet\", input_shape=(48,48,3))\n",
    "Resnet.summary()"
   ]
  },
  {
   "cell_type": "markdown",
   "metadata": {
    "id": "ay4RedCQlL4O"
   },
   "source": [
    "### **Model Building**\n",
    "\n",
    "* In this model, we will import till the **'conv5_block3_add'** layer of the ResNet model. You can scroll down in the model summary and look for 'conv5_block3_add'. You can choose any other layer as well.\n",
    "* Then we will add a Flatten layer, which receives the output of the 'conv5_block3_add' layer as its input.\n",
    "* We will add a few Dense layers and use 'relu' activation function on them.\n",
    "* You may use Dropout and BatchNormalization layers as well.\n",
    "* Then we will add our last dense layer, which must have 4 neurons and a 'softmax' activation function."
   ]
  },
  {
   "cell_type": "code",
   "execution_count": null,
   "metadata": {
    "id": "911d3335"
   },
   "outputs": [],
   "source": [
    "transfer_layer_Resnet = Resnet.get_layer('conv5_block3_add')\n",
    "Resnet.trainable=False\n",
    "\n",
    "# Add classification layers on top of it\n",
    "\n",
    "# Flattenning the output from the 3rd block of the VGG16 model\n",
    "x = Flatten()(transfer_layer_Resnet.output)\n",
    "\n",
    "# Add a Dense layer with 256 neurons\n",
    "x = Dense(256, activation = 'relu')(x)\n",
    "\n",
    "# Add a Dense Layer with 128 neurons\n",
    "x = Dense(128, activation = 'relu')(x)\n",
    "\n",
    "# Add a DropOut layer with Drop out ratio of 0.3\n",
    "x = Dropout(0.3)(x)\n",
    "\n",
    "# Add a Dense Layer with 64 neurons\n",
    "x = Dense(64, activation = 'relu')(x)\n",
    "\n",
    "# Add a Batch Normalization layer\n",
    "x = BatchNormalization()(x)\n",
    "\n",
    "# Add the final dense layer with 4 neurons and use a 'softmax' activation\n",
    "pred = Dense(4, activation = 'softmax')(x)\n",
    "\n",
    "resnetmodel = Model(Resnet.input, pred) # Initializing the model"
   ]
  },
  {
   "cell_type": "markdown",
   "metadata": {
    "id": "Tmtcd1ZElpJy"
   },
   "source": [
    "### **Compiling and Training the Model**"
   ]
  },
  {
   "cell_type": "code",
   "execution_count": null,
   "metadata": {
    "id": "fe959789"
   },
   "outputs": [],
   "source": [
    "from keras.callbacks import ModelCheckpoint, EarlyStopping, ReduceLROnPlateau\n",
    "\n",
    "checkpoint = ModelCheckpoint(\"./Resnetmodel.h5\", monitor = 'val_acc', verbose = 1, save_best_only = True, mode = 'max')\n",
    "\n",
    "early_stopping = EarlyStopping(monitor = 'val_loss',\n",
    "                          min_delta = 0,\n",
    "                          patience = 3,\n",
    "                          verbose = 1,\n",
    "                          restore_best_weights = True\n",
    "                          )\n",
    "\n",
    "reduce_learningrate = ReduceLROnPlateau(monitor = 'val_loss',\n",
    "                              factor = 0.2,\n",
    "                              patience = 3,\n",
    "                              verbose = 1,\n",
    "                              min_delta = 0.0001)\n",
    "\n",
    "callbacks_list = [early_stopping, checkpoint, reduce_learningrate]\n",
    "\n",
    "epochs = 10"
   ]
  },
  {
   "cell_type": "code",
   "execution_count": null,
   "metadata": {
    "id": "641VUEtvGaLW"
   },
   "outputs": [],
   "source": [
    "# Write your code to compile your resnetmodel. Use categorical crossentropy as your loss function, Adam Optimizer with 0.001 learning rate, and set your metrics to 'accuracy'. \n",
    "resnetmodel.compile(optimizer=Adam(learning_rate = 0.001), loss='categorical_crossentropy', metrics=['accuracy']) "
   ]
  },
  {
   "cell_type": "code",
   "execution_count": null,
   "metadata": {
    "colab": {
     "base_uri": "https://localhost:8080/"
    },
    "id": "mBZRmTFLIRtS",
    "outputId": "1de465cd-9a17-49ef-e29c-0f22f4278b93"
   },
   "outputs": [
    {
     "name": "stdout",
     "output_type": "stream",
     "text": [
      "Epoch 1/20\n",
      "473/473 [==============================] - ETA: 0s - loss: 1.4710 - accuracy: 0.2592"
     ]
    },
    {
     "name": "stderr",
     "output_type": "stream",
     "text": [
      "WARNING:tensorflow:Can save best model only with val_acc available, skipping.\n"
     ]
    },
    {
     "name": "stdout",
     "output_type": "stream",
     "text": [
      "\b\b\b\b\b\b\b\b\b\b\b\b\b\b\b\b\b\b\b\b\b\b\b\b\b\b\b\b\b\b\b\b\b\b\b\b\b\b\b\b\b\b\b\b\b\b\b\b\b\b\b\b\b\b\b\b\b\b\b\b\b\b\b\b\b\b\b\b\b\b\b\b\b\b\b\b\b\b\b\b\b\b\b\b\r",
      "473/473 [==============================] - 397s 821ms/step - loss: 1.4710 - accuracy: 0.2592 - val_loss: 1.3770 - val_accuracy: 0.2289 - lr: 0.0010\n",
      "Epoch 2/20\n",
      "473/473 [==============================] - ETA: 0s - loss: 1.4078 - accuracy: 0.2579"
     ]
    },
    {
     "name": "stderr",
     "output_type": "stream",
     "text": [
      "WARNING:tensorflow:Can save best model only with val_acc available, skipping.\n"
     ]
    },
    {
     "name": "stdout",
     "output_type": "stream",
     "text": [
      "\b\b\b\b\b\b\b\b\b\b\b\b\b\b\b\b\b\b\b\b\b\b\b\b\b\b\b\b\b\b\b\b\b\b\b\b\b\b\b\b\b\b\b\b\b\b\b\b\b\b\b\b\b\b\b\b\b\b\b\b\b\b\b\b\b\b\b\b\b\b\b\b\b\b\b\b\b\b\b\b\b\b\b\b\r",
      "473/473 [==============================] - 377s 798ms/step - loss: 1.4078 - accuracy: 0.2579 - val_loss: 1.3638 - val_accuracy: 0.2289 - lr: 0.0010\n",
      "Epoch 3/20\n",
      "473/473 [==============================] - ETA: 0s - loss: 1.3983 - accuracy: 0.2592"
     ]
    },
    {
     "name": "stderr",
     "output_type": "stream",
     "text": [
      "WARNING:tensorflow:Can save best model only with val_acc available, skipping.\n"
     ]
    },
    {
     "name": "stdout",
     "output_type": "stream",
     "text": [
      "\b\b\b\b\b\b\b\b\b\b\b\b\b\b\b\b\b\b\b\b\b\b\b\b\b\b\b\b\b\b\b\b\b\b\b\b\b\b\b\b\b\b\b\b\b\b\b\b\b\b\b\b\b\b\b\b\b\b\b\b\b\b\b\b\b\b\b\b\b\b\b\b\b\b\b\b\b\b\b\b\b\b\b\b\r",
      "473/473 [==============================] - 379s 801ms/step - loss: 1.3983 - accuracy: 0.2592 - val_loss: 1.3740 - val_accuracy: 0.2289 - lr: 0.0010\n",
      "Epoch 4/20\n",
      "473/473 [==============================] - ETA: 0s - loss: 1.3949 - accuracy: 0.2597"
     ]
    },
    {
     "name": "stderr",
     "output_type": "stream",
     "text": [
      "WARNING:tensorflow:Can save best model only with val_acc available, skipping.\n"
     ]
    },
    {
     "name": "stdout",
     "output_type": "stream",
     "text": [
      "\b\b\b\b\b\b\b\b\b\b\b\b\b\b\b\b\b\b\b\b\b\b\b\b\b\b\b\b\b\b\b\b\b\b\b\b\b\b\b\b\b\b\b\b\b\b\b\b\b\b\b\b\b\b\b\b\b\b\b\b\b\b\b\b\b\b\b\b\b\b\b\b\b\b\b\b\b\b\b\b\b\b\b\b\r",
      "473/473 [==============================] - 344s 728ms/step - loss: 1.3949 - accuracy: 0.2597 - val_loss: 1.3518 - val_accuracy: 0.3667 - lr: 0.0010\n",
      "Epoch 5/20\n",
      "473/473 [==============================] - ETA: 0s - loss: 1.3950 - accuracy: 0.2614"
     ]
    },
    {
     "name": "stderr",
     "output_type": "stream",
     "text": [
      "WARNING:tensorflow:Can save best model only with val_acc available, skipping.\n"
     ]
    },
    {
     "name": "stdout",
     "output_type": "stream",
     "text": [
      "\b\b\b\b\b\b\b\b\b\b\b\b\b\b\b\b\b\b\b\b\b\b\b\b\b\b\b\b\b\b\b\b\b\b\b\b\b\b\b\b\b\b\b\b\b\b\b\b\b\b\b\b\b\b\b\b\b\b\b\b\b\b\b\b\b\b\b\b\b\b\b\b\b\b\b\b\b\b\b\b\b\b\b\b\r",
      "473/473 [==============================] - 362s 766ms/step - loss: 1.3950 - accuracy: 0.2614 - val_loss: 1.3661 - val_accuracy: 0.2441 - lr: 0.0010\n",
      "Epoch 6/20\n",
      "473/473 [==============================] - ETA: 0s - loss: 1.3919 - accuracy: 0.2676"
     ]
    },
    {
     "name": "stderr",
     "output_type": "stream",
     "text": [
      "WARNING:tensorflow:Can save best model only with val_acc available, skipping.\n"
     ]
    },
    {
     "name": "stdout",
     "output_type": "stream",
     "text": [
      "\b\b\b\b\b\b\b\b\b\b\b\b\b\b\b\b\b\b\b\b\b\b\b\b\b\b\b\b\b\b\b\b\b\b\b\b\b\b\b\b\b\b\b\b\b\b\b\b\b\b\b\b\b\b\b\b\b\b\b\b\b\b\b\b\b\b\b\b\b\b\b\b\b\b\b\b\b\b\b\b\b\b\b\b\r",
      "473/473 [==============================] - 365s 771ms/step - loss: 1.3919 - accuracy: 0.2676 - val_loss: 1.3581 - val_accuracy: 0.3667 - lr: 0.0010\n",
      "Epoch 7/20\n",
      "473/473 [==============================] - ETA: 0s - loss: 1.3915 - accuracy: 0.2671Restoring model weights from the end of the best epoch: 4.\n"
     ]
    },
    {
     "name": "stderr",
     "output_type": "stream",
     "text": [
      "WARNING:tensorflow:Can save best model only with val_acc available, skipping.\n"
     ]
    },
    {
     "name": "stdout",
     "output_type": "stream",
     "text": [
      "\n",
      "Epoch 7: ReduceLROnPlateau reducing learning rate to 0.00020000000949949026.\n",
      "473/473 [==============================] - 368s 779ms/step - loss: 1.3915 - accuracy: 0.2671 - val_loss: 1.3792 - val_accuracy: 0.2443 - lr: 0.0010\n",
      "Epoch 7: early stopping\n"
     ]
    }
   ],
   "source": [
    "# Write your code to fit your model. Use train_set as your training data and validation_set as your validation data. Train your model for 20 epochs.\n",
    "history_resnetmodel = resnetmodel.fit(train_set, validation_data = validation_set, batch_size=32, callbacks = callbacks_list, epochs=20, verbose=1)\n"
   ]
  },
  {
   "cell_type": "markdown",
   "metadata": {
    "id": "McHEzBlhxw39"
   },
   "source": [
    "### **Evaluating the ResNet Model**"
   ]
  },
  {
   "cell_type": "code",
   "execution_count": null,
   "metadata": {
    "colab": {
     "base_uri": "https://localhost:8080/"
    },
    "id": "IEl6IQf0xwci",
    "outputId": "02959c82-b753-4d6e-afef-c547819e476a"
   },
   "outputs": [
    {
     "name": "stdout",
     "output_type": "stream",
     "text": [
      "4/4 [==============================] - 5s 605ms/step\n"
     ]
    }
   ],
   "source": [
    "# Write your code to evaluate model performance on the test set\n",
    "test_pred_resnetmodel = resnetmodel.predict(test_set)\n",
    "\n",
    "test_pred_resnetmodel = np.argmax(test_pred_resnetmodel, axis = -1)"
   ]
  },
  {
   "cell_type": "code",
   "execution_count": null,
   "metadata": {
    "colab": {
     "base_uri": "https://localhost:8080/",
     "height": 513
    },
    "id": "jSyPe2P9RpGn",
    "outputId": "c70e96f2-2566-412a-c875-5924244753c3"
   },
   "outputs": [
    {
     "data": {
      "image/png": "[encoded data removed]",
      "text/plain": [
       "<Figure size 576x576 with 1 Axes>"
      ]
     },
     "metadata": {},
     "output_type": "display_data"
    }
   ],
   "source": [
    "# Write your code to evaluate model performance on the test set\n",
    "\n",
    "# Plotting the accuracies\n",
    "\n",
    "dict_hist = history_resnetmodel.history\n",
    "\n",
    "list_ep = [i for i in range(1, 8)]\n",
    "\n",
    "plt.figure(figsize = (8, 8))\n",
    "\n",
    "plt.plot(list_ep, dict_hist['accuracy'], ls = '--', label = 'accuracy')\n",
    "\n",
    "plt.plot(list_ep, dict_hist['val_accuracy'], ls = '--', label = 'val_accuracy')\n",
    "\n",
    "plt.ylabel('Accuracy')\n",
    "\n",
    "plt.xlabel('Epochs')\n",
    "\n",
    "plt.title('resnetmodel')\n",
    "\n",
    "plt.legend()\n",
    "\n",
    "plt.show()"
   ]
  },
  {
   "cell_type": "code",
   "execution_count": null,
   "metadata": {
    "colab": {
     "base_uri": "https://localhost:8080/",
     "height": 682
    },
    "id": "L0K0R4TlSGIv",
    "outputId": "5651ecf8-b7e8-4dab-917e-c3e679acc13c"
   },
   "outputs": [
    {
     "name": "stdout",
     "output_type": "stream",
     "text": [
      "Classification report for RGB images trained resnetmodel\n",
      "              precision    recall  f1-score   support\n",
      "\n",
      "           0       0.25      1.00      0.40        32\n",
      "           1       0.00      0.00      0.00        32\n",
      "           2       0.00      0.00      0.00        32\n",
      "           3       0.00      0.00      0.00        32\n",
      "\n",
      "    accuracy                           0.25       128\n",
      "   macro avg       0.06      0.25      0.10       128\n",
      "weighted avg       0.06      0.25      0.10       128\n",
      "\n"
     ]
    },
    {
     "name": "stderr",
     "output_type": "stream",
     "text": [
      "/usr/local/lib/python3.8/dist-packages/sklearn/metrics/_classification.py:1318: UndefinedMetricWarning: Precision and F-score are ill-defined and being set to 0.0 in labels with no predicted samples. Use `zero_division` parameter to control this behavior.\n",
      "  _warn_prf(average, modifier, msg_start, len(result))\n",
      "/usr/local/lib/python3.8/dist-packages/sklearn/metrics/_classification.py:1318: UndefinedMetricWarning: Precision and F-score are ill-defined and being set to 0.0 in labels with no predicted samples. Use `zero_division` parameter to control this behavior.\n",
      "  _warn_prf(average, modifier, msg_start, len(result))\n",
      "/usr/local/lib/python3.8/dist-packages/sklearn/metrics/_classification.py:1318: UndefinedMetricWarning: Precision and F-score are ill-defined and being set to 0.0 in labels with no predicted samples. Use `zero_division` parameter to control this behavior.\n",
      "  _warn_prf(average, modifier, msg_start, len(result))\n"
     ]
    },
    {
     "data": {
      "image/png": "[encoded data removed]",
      "text/plain": [
       "<Figure size 576x360 with 2 Axes>"
      ]
     },
     "metadata": {},
     "output_type": "display_data"
    }
   ],
   "source": [
    "# Importing required functions\n",
    "\n",
    "from sklearn.metrics import classification_report\n",
    "\n",
    "from sklearn.metrics import confusion_matrix\n",
    "\n",
    "# Printing the classification report for RGB\n",
    "print(\"Classification report for RGB images trained resnetmodel\")\n",
    "\n",
    "print(classification_report(FacesLabel_single, test_pred_resnetmodel))\n",
    "\n",
    "# Plotting the heatmap using confusion matrix for RGB\n",
    "\n",
    "cm = confusion_matrix(FacesLabel_single, test_pred_resnetmodel)\n",
    "\n",
    "plt.figure(figsize = (8, 5))\n",
    "\n",
    "sns.heatmap(cm, annot = True,  fmt = '.0f')\n",
    "\n",
    "plt.title('resnetmodel')\n",
    "\n",
    "plt.ylabel('Actual')\n",
    "\n",
    "plt.xlabel('Predicted')\n",
    "\n",
    "plt.show()"
   ]
  },
  {
   "cell_type": "markdown",
   "metadata": {
    "id": "3htKZRdomiOY"
   },
   "source": [
    "**Observations and Insights:**"
   ]
  },
  {
   "cell_type": "markdown",
   "metadata": {
    "id": "3Pv3tuxCvJlT"
   },
   "source": [
    "*   The general trend in the training performance was consistently not improving with each new epoch, it started low and stayed low. Out of an initially planned 20 epochs additional training was cancelled, as per the Early Stopping parameter, after only 7 epochs for insufficent improvements in learning after going from 0.25 accuracy to 0.26 accuracy\n",
    "*   Validation accuracy was inconsistent but was in general unchanged. Varying in between 0.36 to 0.25 depending on the epoch, with little clear trend.\n",
    "*   All the above observations suggest that the model was overfitting on the training data. However, the model is giving about 0.25 accuracy on the test data which is somewhat comparable to the accuracy of the validation data, which is about 0.30. This implies that while overfitting does occur the model is still giving an acceptibly generalized performance.\n",
    "*   The array for the input images is accompanied by another array for storing the label of what kind of face the image actually corresponds to:\n",
    "  *       [1, 0, 0, 0] corresponds to a face classed as 'Happy'.\n",
    "  *       [0, 1, 0, 0] corresponds to a face classed as 'Sad'.\n",
    "  *       [0, 0, 1, 0] corresponds to a face classed as 'Neutral'.\n",
    "  *       [0, 0, 0, 1] corresponds to a face classed as 'Surprised'.\n",
    "*   On the Test data the recall values have a broad range, from 1 to 0, which implies that the model is inconsistent at identifying differing emotions.\n",
    "*   On the Test data the precision values have a moderate range, from 0.25 to 0, which implies that the model is somewhat focused on features of objects that can help to distinguish between differing emotions.\n",
    "*   The classification report and confusion matrix for test data put into the modified ResNet model, shows extremely poor performance. Both precision and recall values are low, impling large numbers of false positives and negatives for all predictions, worse results than a random sampling. Especially poor were the response to Sad Neutral or Surprised faces, these were all misclassified as Happy."
   ]
  },
  {
   "cell_type": "markdown",
   "metadata": {
    "id": "FmnDG4ZbncoR"
   },
   "source": [
    "## **EfficientNet Model**"
   ]
  },
  {
   "cell_type": "markdown",
   "metadata": {
    "id": "6kDNE8pVngqC"
   },
   "source": [
    "### **Model Building**\n",
    "\n",
    "**Build your own Architecture on top of the transfer layer. Be sure to have a Flatten layer after your transfer layer and also make sure you have 4 neurons and softmax activation function in your last dense layer**"
   ]
  },
  {
   "cell_type": "code",
   "execution_count": null,
   "metadata": {
    "colab": {
     "base_uri": "https://localhost:8080/"
    },
    "id": "613c7a71",
    "outputId": "a066a56b-9396-4eb2-d15b-034d7c08c835"
   },
   "outputs": [
    {
     "name": "stdout",
     "output_type": "stream",
     "text": [
      "Downloading data from https://storage.googleapis.com/tensorflow/keras-applications/efficientnet_v2/efficientnetv2-b2_notop.h5\n",
      "35839040/35839040 [==============================] - 0s 0us/step\n",
      "Model: \"efficientnetv2-b2\"\n",
      "__________________________________________________________________________________________________\n",
      " Layer (type)                   Output Shape         Param #     Connected to                     \n",
      "==================================================================================================\n",
      " input_4 (InputLayer)           [(None, 48, 48, 3)]  0           []                               \n",
      "                                                                                                  \n",
      " rescaling (Rescaling)          (None, 48, 48, 3)    0           ['input_4[0][0]']                \n",
      "                                                                                                  \n",
      " normalization (Normalization)  (None, 48, 48, 3)    0           ['rescaling[0][0]']              \n",
      "                                                                                                  \n",
      " stem_conv (Conv2D)             (None, 24, 24, 32)   864         ['normalization[0][0]']          \n",
      "                                                                                                  \n",
      " stem_bn (BatchNormalization)   (None, 24, 24, 32)   128         ['stem_conv[0][0]']              \n",
      "                                                                                                  \n",
      " stem_activation (Activation)   (None, 24, 24, 32)   0           ['stem_bn[0][0]']                \n",
      "                                                                                                  \n",
      " block1a_project_conv (Conv2D)  (None, 24, 24, 16)   4608        ['stem_activation[0][0]']        \n",
      "                                                                                                  \n",
      " block1a_project_bn (BatchNorma  (None, 24, 24, 16)  64          ['block1a_project_conv[0][0]']   \n",
      " lization)                                                                                        \n",
      "                                                                                                  \n",
      " block1a_project_activation (Ac  (None, 24, 24, 16)  0           ['block1a_project_bn[0][0]']     \n",
      " tivation)                                                                                        \n",
      "                                                                                                  \n",
      " block1b_project_conv (Conv2D)  (None, 24, 24, 16)   2304        ['block1a_project_activation[0][0\n",
      "                                                                 ]']                              \n",
      "                                                                                                  \n",
      " block1b_project_bn (BatchNorma  (None, 24, 24, 16)  64          ['block1b_project_conv[0][0]']   \n",
      " lization)                                                                                        \n",
      "                                                                                                  \n",
      " block1b_project_activation (Ac  (None, 24, 24, 16)  0           ['block1b_project_bn[0][0]']     \n",
      " tivation)                                                                                        \n",
      "                                                                                                  \n",
      " block1b_drop (Dropout)         (None, 24, 24, 16)   0           ['block1b_project_activation[0][0\n",
      "                                                                 ]']                              \n",
      "                                                                                                  \n",
      " block1b_add (Add)              (None, 24, 24, 16)   0           ['block1b_drop[0][0]',           \n",
      "                                                                  'block1a_project_activation[0][0\n",
      "                                                                 ]']                              \n",
      "                                                                                                  \n",
      " block2a_expand_conv (Conv2D)   (None, 12, 12, 64)   9216        ['block1b_add[0][0]']            \n",
      "                                                                                                  \n",
      " block2a_expand_bn (BatchNormal  (None, 12, 12, 64)  256         ['block2a_expand_conv[0][0]']    \n",
      " ization)                                                                                         \n",
      "                                                                                                  \n",
      " block2a_expand_activation (Act  (None, 12, 12, 64)  0           ['block2a_expand_bn[0][0]']      \n",
      " ivation)                                                                                         \n",
      "                                                                                                  \n",
      " block2a_project_conv (Conv2D)  (None, 12, 12, 32)   2048        ['block2a_expand_activation[0][0]\n",
      "                                                                 ']                               \n",
      "                                                                                                  \n",
      " block2a_project_bn (BatchNorma  (None, 12, 12, 32)  128         ['block2a_project_conv[0][0]']   \n",
      " lization)                                                                                        \n",
      "                                                                                                  \n",
      " block2b_expand_conv (Conv2D)   (None, 12, 12, 128)  36864       ['block2a_project_bn[0][0]']     \n",
      "                                                                                                  \n",
      " block2b_expand_bn (BatchNormal  (None, 12, 12, 128)  512        ['block2b_expand_conv[0][0]']    \n",
      " ization)                                                                                         \n",
      "                                                                                                  \n",
      " block2b_expand_activation (Act  (None, 12, 12, 128)  0          ['block2b_expand_bn[0][0]']      \n",
      " ivation)                                                                                         \n",
      "                                                                                                  \n",
      " block2b_project_conv (Conv2D)  (None, 12, 12, 32)   4096        ['block2b_expand_activation[0][0]\n",
      "                                                                 ']                               \n",
      "                                                                                                  \n",
      " block2b_project_bn (BatchNorma  (None, 12, 12, 32)  128         ['block2b_project_conv[0][0]']   \n",
      " lization)                                                                                        \n",
      "                                                                                                  \n",
      " block2b_drop (Dropout)         (None, 12, 12, 32)   0           ['block2b_project_bn[0][0]']     \n",
      "                                                                                                  \n",
      " block2b_add (Add)              (None, 12, 12, 32)   0           ['block2b_drop[0][0]',           \n",
      "                                                                  'block2a_project_bn[0][0]']     \n",
      "                                                                                                  \n",
      " block2c_expand_conv (Conv2D)   (None, 12, 12, 128)  36864       ['block2b_add[0][0]']            \n",
      "                                                                                                  \n",
      " block2c_expand_bn (BatchNormal  (None, 12, 12, 128)  512        ['block2c_expand_conv[0][0]']    \n",
      " ization)                                                                                         \n",
      "                                                                                                  \n",
      " block2c_expand_activation (Act  (None, 12, 12, 128)  0          ['block2c_expand_bn[0][0]']      \n",
      " ivation)                                                                                         \n",
      "                                                                                                  \n",
      " block2c_project_conv (Conv2D)  (None, 12, 12, 32)   4096        ['block2c_expand_activation[0][0]\n",
      "                                                                 ']                               \n",
      "                                                                                                  \n",
      " block2c_project_bn (BatchNorma  (None, 12, 12, 32)  128         ['block2c_project_conv[0][0]']   \n",
      " lization)                                                                                        \n",
      "                                                                                                  \n",
      " block2c_drop (Dropout)         (None, 12, 12, 32)   0           ['block2c_project_bn[0][0]']     \n",
      "                                                                                                  \n",
      " block2c_add (Add)              (None, 12, 12, 32)   0           ['block2c_drop[0][0]',           \n",
      "                                                                  'block2b_add[0][0]']            \n",
      "                                                                                                  \n",
      " block3a_expand_conv (Conv2D)   (None, 6, 6, 128)    36864       ['block2c_add[0][0]']            \n",
      "                                                                                                  \n",
      " block3a_expand_bn (BatchNormal  (None, 6, 6, 128)   512         ['block3a_expand_conv[0][0]']    \n",
      " ization)                                                                                         \n",
      "                                                                                                  \n",
      " block3a_expand_activation (Act  (None, 6, 6, 128)   0           ['block3a_expand_bn[0][0]']      \n",
      " ivation)                                                                                         \n",
      "                                                                                                  \n",
      " block3a_project_conv (Conv2D)  (None, 6, 6, 56)     7168        ['block3a_expand_activation[0][0]\n",
      "                                                                 ']                               \n",
      "                                                                                                  \n",
      " block3a_project_bn (BatchNorma  (None, 6, 6, 56)    224         ['block3a_project_conv[0][0]']   \n",
      " lization)                                                                                        \n",
      "                                                                                                  \n",
      " block3b_expand_conv (Conv2D)   (None, 6, 6, 224)    112896      ['block3a_project_bn[0][0]']     \n",
      "                                                                                                  \n",
      " block3b_expand_bn (BatchNormal  (None, 6, 6, 224)   896         ['block3b_expand_conv[0][0]']    \n",
      " ization)                                                                                         \n",
      "                                                                                                  \n",
      " block3b_expand_activation (Act  (None, 6, 6, 224)   0           ['block3b_expand_bn[0][0]']      \n",
      " ivation)                                                                                         \n",
      "                                                                                                  \n",
      " block3b_project_conv (Conv2D)  (None, 6, 6, 56)     12544       ['block3b_expand_activation[0][0]\n",
      "                                                                 ']                               \n",
      "                                                                                                  \n",
      " block3b_project_bn (BatchNorma  (None, 6, 6, 56)    224         ['block3b_project_conv[0][0]']   \n",
      " lization)                                                                                        \n",
      "                                                                                                  \n",
      " block3b_drop (Dropout)         (None, 6, 6, 56)     0           ['block3b_project_bn[0][0]']     \n",
      "                                                                                                  \n",
      " block3b_add (Add)              (None, 6, 6, 56)     0           ['block3b_drop[0][0]',           \n",
      "                                                                  'block3a_project_bn[0][0]']     \n",
      "                                                                                                  \n",
      " block3c_expand_conv (Conv2D)   (None, 6, 6, 224)    112896      ['block3b_add[0][0]']            \n",
      "                                                                                                  \n",
      " block3c_expand_bn (BatchNormal  (None, 6, 6, 224)   896         ['block3c_expand_conv[0][0]']    \n",
      " ization)                                                                                         \n",
      "                                                                                                  \n",
      " block3c_expand_activation (Act  (None, 6, 6, 224)   0           ['block3c_expand_bn[0][0]']      \n",
      " ivation)                                                                                         \n",
      "                                                                                                  \n",
      " block3c_project_conv (Conv2D)  (None, 6, 6, 56)     12544       ['block3c_expand_activation[0][0]\n",
      "                                                                 ']                               \n",
      "                                                                                                  \n",
      " block3c_project_bn (BatchNorma  (None, 6, 6, 56)    224         ['block3c_project_conv[0][0]']   \n",
      " lization)                                                                                        \n",
      "                                                                                                  \n",
      " block3c_drop (Dropout)         (None, 6, 6, 56)     0           ['block3c_project_bn[0][0]']     \n",
      "                                                                                                  \n",
      " block3c_add (Add)              (None, 6, 6, 56)     0           ['block3c_drop[0][0]',           \n",
      "                                                                  'block3b_add[0][0]']            \n",
      "                                                                                                  \n",
      " block4a_expand_conv (Conv2D)   (None, 6, 6, 224)    12544       ['block3c_add[0][0]']            \n",
      "                                                                                                  \n",
      " block4a_expand_bn (BatchNormal  (None, 6, 6, 224)   896         ['block4a_expand_conv[0][0]']    \n",
      " ization)                                                                                         \n",
      "                                                                                                  \n",
      " block4a_expand_activation (Act  (None, 6, 6, 224)   0           ['block4a_expand_bn[0][0]']      \n",
      " ivation)                                                                                         \n",
      "                                                                                                  \n",
      " block4a_dwconv2 (DepthwiseConv  (None, 3, 3, 224)   2016        ['block4a_expand_activation[0][0]\n",
      " 2D)                                                             ']                               \n",
      "                                                                                                  \n",
      " block4a_bn (BatchNormalization  (None, 3, 3, 224)   896         ['block4a_dwconv2[0][0]']        \n",
      " )                                                                                                \n",
      "                                                                                                  \n",
      " block4a_activation (Activation  (None, 3, 3, 224)   0           ['block4a_bn[0][0]']             \n",
      " )                                                                                                \n",
      "                                                                                                  \n",
      " block4a_se_squeeze (GlobalAver  (None, 224)         0           ['block4a_activation[0][0]']     \n",
      " agePooling2D)                                                                                    \n",
      "                                                                                                  \n",
      " block4a_se_reshape (Reshape)   (None, 1, 1, 224)    0           ['block4a_se_squeeze[0][0]']     \n",
      "                                                                                                  \n",
      " block4a_se_reduce (Conv2D)     (None, 1, 1, 14)     3150        ['block4a_se_reshape[0][0]']     \n",
      "                                                                                                  \n",
      " block4a_se_expand (Conv2D)     (None, 1, 1, 224)    3360        ['block4a_se_reduce[0][0]']      \n",
      "                                                                                                  \n",
      " block4a_se_excite (Multiply)   (None, 3, 3, 224)    0           ['block4a_activation[0][0]',     \n",
      "                                                                  'block4a_se_expand[0][0]']      \n",
      "                                                                                                  \n",
      " block4a_project_conv (Conv2D)  (None, 3, 3, 104)    23296       ['block4a_se_excite[0][0]']      \n",
      "                                                                                                  \n",
      " block4a_project_bn (BatchNorma  (None, 3, 3, 104)   416         ['block4a_project_conv[0][0]']   \n",
      " lization)                                                                                        \n",
      "                                                                                                  \n",
      " block4b_expand_conv (Conv2D)   (None, 3, 3, 416)    43264       ['block4a_project_bn[0][0]']     \n",
      "                                                                                                  \n",
      " block4b_expand_bn (BatchNormal  (None, 3, 3, 416)   1664        ['block4b_expand_conv[0][0]']    \n",
      " ization)                                                                                         \n",
      "                                                                                                  \n",
      " block4b_expand_activation (Act  (None, 3, 3, 416)   0           ['block4b_expand_bn[0][0]']      \n",
      " ivation)                                                                                         \n",
      "                                                                                                  \n",
      " block4b_dwconv2 (DepthwiseConv  (None, 3, 3, 416)   3744        ['block4b_expand_activation[0][0]\n",
      " 2D)                                                             ']                               \n",
      "                                                                                                  \n",
      " block4b_bn (BatchNormalization  (None, 3, 3, 416)   1664        ['block4b_dwconv2[0][0]']        \n",
      " )                                                                                                \n",
      "                                                                                                  \n",
      " block4b_activation (Activation  (None, 3, 3, 416)   0           ['block4b_bn[0][0]']             \n",
      " )                                                                                                \n",
      "                                                                                                  \n",
      " block4b_se_squeeze (GlobalAver  (None, 416)         0           ['block4b_activation[0][0]']     \n",
      " agePooling2D)                                                                                    \n",
      "                                                                                                  \n",
      " block4b_se_reshape (Reshape)   (None, 1, 1, 416)    0           ['block4b_se_squeeze[0][0]']     \n",
      "                                                                                                  \n",
      " block4b_se_reduce (Conv2D)     (None, 1, 1, 26)     10842       ['block4b_se_reshape[0][0]']     \n",
      "                                                                                                  \n",
      " block4b_se_expand (Conv2D)     (None, 1, 1, 416)    11232       ['block4b_se_reduce[0][0]']      \n",
      "                                                                                                  \n",
      " block4b_se_excite (Multiply)   (None, 3, 3, 416)    0           ['block4b_activation[0][0]',     \n",
      "                                                                  'block4b_se_expand[0][0]']      \n",
      "                                                                                                  \n",
      " block4b_project_conv (Conv2D)  (None, 3, 3, 104)    43264       ['block4b_se_excite[0][0]']      \n",
      "                                                                                                  \n",
      " block4b_project_bn (BatchNorma  (None, 3, 3, 104)   416         ['block4b_project_conv[0][0]']   \n",
      " lization)                                                                                        \n",
      "                                                                                                  \n",
      " block4b_drop (Dropout)         (None, 3, 3, 104)    0           ['block4b_project_bn[0][0]']     \n",
      "                                                                                                  \n",
      " block4b_add (Add)              (None, 3, 3, 104)    0           ['block4b_drop[0][0]',           \n",
      "                                                                  'block4a_project_bn[0][0]']     \n",
      "                                                                                                  \n",
      " block4c_expand_conv (Conv2D)   (None, 3, 3, 416)    43264       ['block4b_add[0][0]']            \n",
      "                                                                                                  \n",
      " block4c_expand_bn (BatchNormal  (None, 3, 3, 416)   1664        ['block4c_expand_conv[0][0]']    \n",
      " ization)                                                                                         \n",
      "                                                                                                  \n",
      " block4c_expand_activation (Act  (None, 3, 3, 416)   0           ['block4c_expand_bn[0][0]']      \n",
      " ivation)                                                                                         \n",
      "                                                                                                  \n",
      " block4c_dwconv2 (DepthwiseConv  (None, 3, 3, 416)   3744        ['block4c_expand_activation[0][0]\n",
      " 2D)                                                             ']                               \n",
      "                                                                                                  \n",
      " block4c_bn (BatchNormalization  (None, 3, 3, 416)   1664        ['block4c_dwconv2[0][0]']        \n",
      " )                                                                                                \n",
      "                                                                                                  \n",
      " block4c_activation (Activation  (None, 3, 3, 416)   0           ['block4c_bn[0][0]']             \n",
      " )                                                                                                \n",
      "                                                                                                  \n",
      " block4c_se_squeeze (GlobalAver  (None, 416)         0           ['block4c_activation[0][0]']     \n",
      " agePooling2D)                                                                                    \n",
      "                                                                                                  \n",
      " block4c_se_reshape (Reshape)   (None, 1, 1, 416)    0           ['block4c_se_squeeze[0][0]']     \n",
      "                                                                                                  \n",
      " block4c_se_reduce (Conv2D)     (None, 1, 1, 26)     10842       ['block4c_se_reshape[0][0]']     \n",
      "                                                                                                  \n",
      " block4c_se_expand (Conv2D)     (None, 1, 1, 416)    11232       ['block4c_se_reduce[0][0]']      \n",
      "                                                                                                  \n",
      " block4c_se_excite (Multiply)   (None, 3, 3, 416)    0           ['block4c_activation[0][0]',     \n",
      "                                                                  'block4c_se_expand[0][0]']      \n",
      "                                                                                                  \n",
      " block4c_project_conv (Conv2D)  (None, 3, 3, 104)    43264       ['block4c_se_excite[0][0]']      \n",
      "                                                                                                  \n",
      " block4c_project_bn (BatchNorma  (None, 3, 3, 104)   416         ['block4c_project_conv[0][0]']   \n",
      " lization)                                                                                        \n",
      "                                                                                                  \n",
      " block4c_drop (Dropout)         (None, 3, 3, 104)    0           ['block4c_project_bn[0][0]']     \n",
      "                                                                                                  \n",
      " block4c_add (Add)              (None, 3, 3, 104)    0           ['block4c_drop[0][0]',           \n",
      "                                                                  'block4b_add[0][0]']            \n",
      "                                                                                                  \n",
      " block4d_expand_conv (Conv2D)   (None, 3, 3, 416)    43264       ['block4c_add[0][0]']            \n",
      "                                                                                                  \n",
      " block4d_expand_bn (BatchNormal  (None, 3, 3, 416)   1664        ['block4d_expand_conv[0][0]']    \n",
      " ization)                                                                                         \n",
      "                                                                                                  \n",
      " block4d_expand_activation (Act  (None, 3, 3, 416)   0           ['block4d_expand_bn[0][0]']      \n",
      " ivation)                                                                                         \n",
      "                                                                                                  \n",
      " block4d_dwconv2 (DepthwiseConv  (None, 3, 3, 416)   3744        ['block4d_expand_activation[0][0]\n",
      " 2D)                                                             ']                               \n",
      "                                                                                                  \n",
      " block4d_bn (BatchNormalization  (None, 3, 3, 416)   1664        ['block4d_dwconv2[0][0]']        \n",
      " )                                                                                                \n",
      "                                                                                                  \n",
      " block4d_activation (Activation  (None, 3, 3, 416)   0           ['block4d_bn[0][0]']             \n",
      " )                                                                                                \n",
      "                                                                                                  \n",
      " block4d_se_squeeze (GlobalAver  (None, 416)         0           ['block4d_activation[0][0]']     \n",
      " agePooling2D)                                                                                    \n",
      "                                                                                                  \n",
      " block4d_se_reshape (Reshape)   (None, 1, 1, 416)    0           ['block4d_se_squeeze[0][0]']     \n",
      "                                                                                                  \n",
      " block4d_se_reduce (Conv2D)     (None, 1, 1, 26)     10842       ['block4d_se_reshape[0][0]']     \n",
      "                                                                                                  \n",
      " block4d_se_expand (Conv2D)     (None, 1, 1, 416)    11232       ['block4d_se_reduce[0][0]']      \n",
      "                                                                                                  \n",
      " block4d_se_excite (Multiply)   (None, 3, 3, 416)    0           ['block4d_activation[0][0]',     \n",
      "                                                                  'block4d_se_expand[0][0]']      \n",
      "                                                                                                  \n",
      " block4d_project_conv (Conv2D)  (None, 3, 3, 104)    43264       ['block4d_se_excite[0][0]']      \n",
      "                                                                                                  \n",
      " block4d_project_bn (BatchNorma  (None, 3, 3, 104)   416         ['block4d_project_conv[0][0]']   \n",
      " lization)                                                                                        \n",
      "                                                                                                  \n",
      " block4d_drop (Dropout)         (None, 3, 3, 104)    0           ['block4d_project_bn[0][0]']     \n",
      "                                                                                                  \n",
      " block4d_add (Add)              (None, 3, 3, 104)    0           ['block4d_drop[0][0]',           \n",
      "                                                                  'block4c_add[0][0]']            \n",
      "                                                                                                  \n",
      " block5a_expand_conv (Conv2D)   (None, 3, 3, 624)    64896       ['block4d_add[0][0]']            \n",
      "                                                                                                  \n",
      " block5a_expand_bn (BatchNormal  (None, 3, 3, 624)   2496        ['block5a_expand_conv[0][0]']    \n",
      " ization)                                                                                         \n",
      "                                                                                                  \n",
      " block5a_expand_activation (Act  (None, 3, 3, 624)   0           ['block5a_expand_bn[0][0]']      \n",
      " ivation)                                                                                         \n",
      "                                                                                                  \n",
      " block5a_dwconv2 (DepthwiseConv  (None, 3, 3, 624)   5616        ['block5a_expand_activation[0][0]\n",
      " 2D)                                                             ']                               \n",
      "                                                                                                  \n",
      " block5a_bn (BatchNormalization  (None, 3, 3, 624)   2496        ['block5a_dwconv2[0][0]']        \n",
      " )                                                                                                \n",
      "                                                                                                  \n",
      " block5a_activation (Activation  (None, 3, 3, 624)   0           ['block5a_bn[0][0]']             \n",
      " )                                                                                                \n",
      "                                                                                                  \n",
      " block5a_se_squeeze (GlobalAver  (None, 624)         0           ['block5a_activation[0][0]']     \n",
      " agePooling2D)                                                                                    \n",
      "                                                                                                  \n",
      " block5a_se_reshape (Reshape)   (None, 1, 1, 624)    0           ['block5a_se_squeeze[0][0]']     \n",
      "                                                                                                  \n",
      " block5a_se_reduce (Conv2D)     (None, 1, 1, 26)     16250       ['block5a_se_reshape[0][0]']     \n",
      "                                                                                                  \n",
      " block5a_se_expand (Conv2D)     (None, 1, 1, 624)    16848       ['block5a_se_reduce[0][0]']      \n",
      "                                                                                                  \n",
      " block5a_se_excite (Multiply)   (None, 3, 3, 624)    0           ['block5a_activation[0][0]',     \n",
      "                                                                  'block5a_se_expand[0][0]']      \n",
      "                                                                                                  \n",
      " block5a_project_conv (Conv2D)  (None, 3, 3, 120)    74880       ['block5a_se_excite[0][0]']      \n",
      "                                                                                                  \n",
      " block5a_project_bn (BatchNorma  (None, 3, 3, 120)   480         ['block5a_project_conv[0][0]']   \n",
      " lization)                                                                                        \n",
      "                                                                                                  \n",
      " block5b_expand_conv (Conv2D)   (None, 3, 3, 720)    86400       ['block5a_project_bn[0][0]']     \n",
      "                                                                                                  \n",
      " block5b_expand_bn (BatchNormal  (None, 3, 3, 720)   2880        ['block5b_expand_conv[0][0]']    \n",
      " ization)                                                                                         \n",
      "                                                                                                  \n",
      " block5b_expand_activation (Act  (None, 3, 3, 720)   0           ['block5b_expand_bn[0][0]']      \n",
      " ivation)                                                                                         \n",
      "                                                                                                  \n",
      " block5b_dwconv2 (DepthwiseConv  (None, 3, 3, 720)   6480        ['block5b_expand_activation[0][0]\n",
      " 2D)                                                             ']                               \n",
      "                                                                                                  \n",
      " block5b_bn (BatchNormalization  (None, 3, 3, 720)   2880        ['block5b_dwconv2[0][0]']        \n",
      " )                                                                                                \n",
      "                                                                                                  \n",
      " block5b_activation (Activation  (None, 3, 3, 720)   0           ['block5b_bn[0][0]']             \n",
      " )                                                                                                \n",
      "                                                                                                  \n",
      " block5b_se_squeeze (GlobalAver  (None, 720)         0           ['block5b_activation[0][0]']     \n",
      " agePooling2D)                                                                                    \n",
      "                                                                                                  \n",
      " block5b_se_reshape (Reshape)   (None, 1, 1, 720)    0           ['block5b_se_squeeze[0][0]']     \n",
      "                                                                                                  \n",
      " block5b_se_reduce (Conv2D)     (None, 1, 1, 30)     21630       ['block5b_se_reshape[0][0]']     \n",
      "                                                                                                  \n",
      " block5b_se_expand (Conv2D)     (None, 1, 1, 720)    22320       ['block5b_se_reduce[0][0]']      \n",
      "                                                                                                  \n",
      " block5b_se_excite (Multiply)   (None, 3, 3, 720)    0           ['block5b_activation[0][0]',     \n",
      "                                                                  'block5b_se_expand[0][0]']      \n",
      "                                                                                                  \n",
      " block5b_project_conv (Conv2D)  (None, 3, 3, 120)    86400       ['block5b_se_excite[0][0]']      \n",
      "                                                                                                  \n",
      " block5b_project_bn (BatchNorma  (None, 3, 3, 120)   480         ['block5b_project_conv[0][0]']   \n",
      " lization)                                                                                        \n",
      "                                                                                                  \n",
      " block5b_drop (Dropout)         (None, 3, 3, 120)    0           ['block5b_project_bn[0][0]']     \n",
      "                                                                                                  \n",
      " block5b_add (Add)              (None, 3, 3, 120)    0           ['block5b_drop[0][0]',           \n",
      "                                                                  'block5a_project_bn[0][0]']     \n",
      "                                                                                                  \n",
      " block5c_expand_conv (Conv2D)   (None, 3, 3, 720)    86400       ['block5b_add[0][0]']            \n",
      "                                                                                                  \n",
      " block5c_expand_bn (BatchNormal  (None, 3, 3, 720)   2880        ['block5c_expand_conv[0][0]']    \n",
      " ization)                                                                                         \n",
      "                                                                                                  \n",
      " block5c_expand_activation (Act  (None, 3, 3, 720)   0           ['block5c_expand_bn[0][0]']      \n",
      " ivation)                                                                                         \n",
      "                                                                                                  \n",
      " block5c_dwconv2 (DepthwiseConv  (None, 3, 3, 720)   6480        ['block5c_expand_activation[0][0]\n",
      " 2D)                                                             ']                               \n",
      "                                                                                                  \n",
      " block5c_bn (BatchNormalization  (None, 3, 3, 720)   2880        ['block5c_dwconv2[0][0]']        \n",
      " )                                                                                                \n",
      "                                                                                                  \n",
      " block5c_activation (Activation  (None, 3, 3, 720)   0           ['block5c_bn[0][0]']             \n",
      " )                                                                                                \n",
      "                                                                                                  \n",
      " block5c_se_squeeze (GlobalAver  (None, 720)         0           ['block5c_activation[0][0]']     \n",
      " agePooling2D)                                                                                    \n",
      "                                                                                                  \n",
      " block5c_se_reshape (Reshape)   (None, 1, 1, 720)    0           ['block5c_se_squeeze[0][0]']     \n",
      "                                                                                                  \n",
      " block5c_se_reduce (Conv2D)     (None, 1, 1, 30)     21630       ['block5c_se_reshape[0][0]']     \n",
      "                                                                                                  \n",
      " block5c_se_expand (Conv2D)     (None, 1, 1, 720)    22320       ['block5c_se_reduce[0][0]']      \n",
      "                                                                                                  \n",
      " block5c_se_excite (Multiply)   (None, 3, 3, 720)    0           ['block5c_activation[0][0]',     \n",
      "                                                                  'block5c_se_expand[0][0]']      \n",
      "                                                                                                  \n",
      " block5c_project_conv (Conv2D)  (None, 3, 3, 120)    86400       ['block5c_se_excite[0][0]']      \n",
      "                                                                                                  \n",
      " block5c_project_bn (BatchNorma  (None, 3, 3, 120)   480         ['block5c_project_conv[0][0]']   \n",
      " lization)                                                                                        \n",
      "                                                                                                  \n",
      " block5c_drop (Dropout)         (None, 3, 3, 120)    0           ['block5c_project_bn[0][0]']     \n",
      "                                                                                                  \n",
      " block5c_add (Add)              (None, 3, 3, 120)    0           ['block5c_drop[0][0]',           \n",
      "                                                                  'block5b_add[0][0]']            \n",
      "                                                                                                  \n",
      " block5d_expand_conv (Conv2D)   (None, 3, 3, 720)    86400       ['block5c_add[0][0]']            \n",
      "                                                                                                  \n",
      " block5d_expand_bn (BatchNormal  (None, 3, 3, 720)   2880        ['block5d_expand_conv[0][0]']    \n",
      " ization)                                                                                         \n",
      "                                                                                                  \n",
      " block5d_expand_activation (Act  (None, 3, 3, 720)   0           ['block5d_expand_bn[0][0]']      \n",
      " ivation)                                                                                         \n",
      "                                                                                                  \n",
      " block5d_dwconv2 (DepthwiseConv  (None, 3, 3, 720)   6480        ['block5d_expand_activation[0][0]\n",
      " 2D)                                                             ']                               \n",
      "                                                                                                  \n",
      " block5d_bn (BatchNormalization  (None, 3, 3, 720)   2880        ['block5d_dwconv2[0][0]']        \n",
      " )                                                                                                \n",
      "                                                                                                  \n",
      " block5d_activation (Activation  (None, 3, 3, 720)   0           ['block5d_bn[0][0]']             \n",
      " )                                                                                                \n",
      "                                                                                                  \n",
      " block5d_se_squeeze (GlobalAver  (None, 720)         0           ['block5d_activation[0][0]']     \n",
      " agePooling2D)                                                                                    \n",
      "                                                                                                  \n",
      " block5d_se_reshape (Reshape)   (None, 1, 1, 720)    0           ['block5d_se_squeeze[0][0]']     \n",
      "                                                                                                  \n",
      " block5d_se_reduce (Conv2D)     (None, 1, 1, 30)     21630       ['block5d_se_reshape[0][0]']     \n",
      "                                                                                                  \n",
      " block5d_se_expand (Conv2D)     (None, 1, 1, 720)    22320       ['block5d_se_reduce[0][0]']      \n",
      "                                                                                                  \n",
      " block5d_se_excite (Multiply)   (None, 3, 3, 720)    0           ['block5d_activation[0][0]',     \n",
      "                                                                  'block5d_se_expand[0][0]']      \n",
      "                                                                                                  \n",
      " block5d_project_conv (Conv2D)  (None, 3, 3, 120)    86400       ['block5d_se_excite[0][0]']      \n",
      "                                                                                                  \n",
      " block5d_project_bn (BatchNorma  (None, 3, 3, 120)   480         ['block5d_project_conv[0][0]']   \n",
      " lization)                                                                                        \n",
      "                                                                                                  \n",
      " block5d_drop (Dropout)         (None, 3, 3, 120)    0           ['block5d_project_bn[0][0]']     \n",
      "                                                                                                  \n",
      " block5d_add (Add)              (None, 3, 3, 120)    0           ['block5d_drop[0][0]',           \n",
      "                                                                  'block5c_add[0][0]']            \n",
      "                                                                                                  \n",
      " block5e_expand_conv (Conv2D)   (None, 3, 3, 720)    86400       ['block5d_add[0][0]']            \n",
      "                                                                                                  \n",
      " block5e_expand_bn (BatchNormal  (None, 3, 3, 720)   2880        ['block5e_expand_conv[0][0]']    \n",
      " ization)                                                                                         \n",
      "                                                                                                  \n",
      " block5e_expand_activation (Act  (None, 3, 3, 720)   0           ['block5e_expand_bn[0][0]']      \n",
      " ivation)                                                                                         \n",
      "                                                                                                  \n",
      " block5e_dwconv2 (DepthwiseConv  (None, 3, 3, 720)   6480        ['block5e_expand_activation[0][0]\n",
      " 2D)                                                             ']                               \n",
      "                                                                                                  \n",
      " block5e_bn (BatchNormalization  (None, 3, 3, 720)   2880        ['block5e_dwconv2[0][0]']        \n",
      " )                                                                                                \n",
      "                                                                                                  \n",
      " block5e_activation (Activation  (None, 3, 3, 720)   0           ['block5e_bn[0][0]']             \n",
      " )                                                                                                \n",
      "                                                                                                  \n",
      " block5e_se_squeeze (GlobalAver  (None, 720)         0           ['block5e_activation[0][0]']     \n",
      " agePooling2D)                                                                                    \n",
      "                                                                                                  \n",
      " block5e_se_reshape (Reshape)   (None, 1, 1, 720)    0           ['block5e_se_squeeze[0][0]']     \n",
      "                                                                                                  \n",
      " block5e_se_reduce (Conv2D)     (None, 1, 1, 30)     21630       ['block5e_se_reshape[0][0]']     \n",
      "                                                                                                  \n",
      " block5e_se_expand (Conv2D)     (None, 1, 1, 720)    22320       ['block5e_se_reduce[0][0]']      \n",
      "                                                                                                  \n",
      " block5e_se_excite (Multiply)   (None, 3, 3, 720)    0           ['block5e_activation[0][0]',     \n",
      "                                                                  'block5e_se_expand[0][0]']      \n",
      "                                                                                                  \n",
      " block5e_project_conv (Conv2D)  (None, 3, 3, 120)    86400       ['block5e_se_excite[0][0]']      \n",
      "                                                                                                  \n",
      " block5e_project_bn (BatchNorma  (None, 3, 3, 120)   480         ['block5e_project_conv[0][0]']   \n",
      " lization)                                                                                        \n",
      "                                                                                                  \n",
      " block5e_drop (Dropout)         (None, 3, 3, 120)    0           ['block5e_project_bn[0][0]']     \n",
      "                                                                                                  \n",
      " block5e_add (Add)              (None, 3, 3, 120)    0           ['block5e_drop[0][0]',           \n",
      "                                                                  'block5d_add[0][0]']            \n",
      "                                                                                                  \n",
      " block5f_expand_conv (Conv2D)   (None, 3, 3, 720)    86400       ['block5e_add[0][0]']            \n",
      "                                                                                                  \n",
      " block5f_expand_bn (BatchNormal  (None, 3, 3, 720)   2880        ['block5f_expand_conv[0][0]']    \n",
      " ization)                                                                                         \n",
      "                                                                                                  \n",
      " block5f_expand_activation (Act  (None, 3, 3, 720)   0           ['block5f_expand_bn[0][0]']      \n",
      " ivation)                                                                                         \n",
      "                                                                                                  \n",
      " block5f_dwconv2 (DepthwiseConv  (None, 3, 3, 720)   6480        ['block5f_expand_activation[0][0]\n",
      " 2D)                                                             ']                               \n",
      "                                                                                                  \n",
      " block5f_bn (BatchNormalization  (None, 3, 3, 720)   2880        ['block5f_dwconv2[0][0]']        \n",
      " )                                                                                                \n",
      "                                                                                                  \n",
      " block5f_activation (Activation  (None, 3, 3, 720)   0           ['block5f_bn[0][0]']             \n",
      " )                                                                                                \n",
      "                                                                                                  \n",
      " block5f_se_squeeze (GlobalAver  (None, 720)         0           ['block5f_activation[0][0]']     \n",
      " agePooling2D)                                                                                    \n",
      "                                                                                                  \n",
      " block5f_se_reshape (Reshape)   (None, 1, 1, 720)    0           ['block5f_se_squeeze[0][0]']     \n",
      "                                                                                                  \n",
      " block5f_se_reduce (Conv2D)     (None, 1, 1, 30)     21630       ['block5f_se_reshape[0][0]']     \n",
      "                                                                                                  \n",
      " block5f_se_expand (Conv2D)     (None, 1, 1, 720)    22320       ['block5f_se_reduce[0][0]']      \n",
      "                                                                                                  \n",
      " block5f_se_excite (Multiply)   (None, 3, 3, 720)    0           ['block5f_activation[0][0]',     \n",
      "                                                                  'block5f_se_expand[0][0]']      \n",
      "                                                                                                  \n",
      " block5f_project_conv (Conv2D)  (None, 3, 3, 120)    86400       ['block5f_se_excite[0][0]']      \n",
      "                                                                                                  \n",
      " block5f_project_bn (BatchNorma  (None, 3, 3, 120)   480         ['block5f_project_conv[0][0]']   \n",
      " lization)                                                                                        \n",
      "                                                                                                  \n",
      " block5f_drop (Dropout)         (None, 3, 3, 120)    0           ['block5f_project_bn[0][0]']     \n",
      "                                                                                                  \n",
      " block5f_add (Add)              (None, 3, 3, 120)    0           ['block5f_drop[0][0]',           \n",
      "                                                                  'block5e_add[0][0]']            \n",
      "                                                                                                  \n",
      " block6a_expand_conv (Conv2D)   (None, 3, 3, 720)    86400       ['block5f_add[0][0]']            \n",
      "                                                                                                  \n",
      " block6a_expand_bn (BatchNormal  (None, 3, 3, 720)   2880        ['block6a_expand_conv[0][0]']    \n",
      " ization)                                                                                         \n",
      "                                                                                                  \n",
      " block6a_expand_activation (Act  (None, 3, 3, 720)   0           ['block6a_expand_bn[0][0]']      \n",
      " ivation)                                                                                         \n",
      "                                                                                                  \n",
      " block6a_dwconv2 (DepthwiseConv  (None, 2, 2, 720)   6480        ['block6a_expand_activation[0][0]\n",
      " 2D)                                                             ']                               \n",
      "                                                                                                  \n",
      " block6a_bn (BatchNormalization  (None, 2, 2, 720)   2880        ['block6a_dwconv2[0][0]']        \n",
      " )                                                                                                \n",
      "                                                                                                  \n",
      " block6a_activation (Activation  (None, 2, 2, 720)   0           ['block6a_bn[0][0]']             \n",
      " )                                                                                                \n",
      "                                                                                                  \n",
      " block6a_se_squeeze (GlobalAver  (None, 720)         0           ['block6a_activation[0][0]']     \n",
      " agePooling2D)                                                                                    \n",
      "                                                                                                  \n",
      " block6a_se_reshape (Reshape)   (None, 1, 1, 720)    0           ['block6a_se_squeeze[0][0]']     \n",
      "                                                                                                  \n",
      " block6a_se_reduce (Conv2D)     (None, 1, 1, 30)     21630       ['block6a_se_reshape[0][0]']     \n",
      "                                                                                                  \n",
      " block6a_se_expand (Conv2D)     (None, 1, 1, 720)    22320       ['block6a_se_reduce[0][0]']      \n",
      "                                                                                                  \n",
      " block6a_se_excite (Multiply)   (None, 2, 2, 720)    0           ['block6a_activation[0][0]',     \n",
      "                                                                  'block6a_se_expand[0][0]']      \n",
      "                                                                                                  \n",
      " block6a_project_conv (Conv2D)  (None, 2, 2, 208)    149760      ['block6a_se_excite[0][0]']      \n",
      "                                                                                                  \n",
      " block6a_project_bn (BatchNorma  (None, 2, 2, 208)   832         ['block6a_project_conv[0][0]']   \n",
      " lization)                                                                                        \n",
      "                                                                                                  \n",
      " block6b_expand_conv (Conv2D)   (None, 2, 2, 1248)   259584      ['block6a_project_bn[0][0]']     \n",
      "                                                                                                  \n",
      " block6b_expand_bn (BatchNormal  (None, 2, 2, 1248)  4992        ['block6b_expand_conv[0][0]']    \n",
      " ization)                                                                                         \n",
      "                                                                                                  \n",
      " block6b_expand_activation (Act  (None, 2, 2, 1248)  0           ['block6b_expand_bn[0][0]']      \n",
      " ivation)                                                                                         \n",
      "                                                                                                  \n",
      " block6b_dwconv2 (DepthwiseConv  (None, 2, 2, 1248)  11232       ['block6b_expand_activation[0][0]\n",
      " 2D)                                                             ']                               \n",
      "                                                                                                  \n",
      " block6b_bn (BatchNormalization  (None, 2, 2, 1248)  4992        ['block6b_dwconv2[0][0]']        \n",
      " )                                                                                                \n",
      "                                                                                                  \n",
      " block6b_activation (Activation  (None, 2, 2, 1248)  0           ['block6b_bn[0][0]']             \n",
      " )                                                                                                \n",
      "                                                                                                  \n",
      " block6b_se_squeeze (GlobalAver  (None, 1248)        0           ['block6b_activation[0][0]']     \n",
      " agePooling2D)                                                                                    \n",
      "                                                                                                  \n",
      " block6b_se_reshape (Reshape)   (None, 1, 1, 1248)   0           ['block6b_se_squeeze[0][0]']     \n",
      "                                                                                                  \n",
      " block6b_se_reduce (Conv2D)     (None, 1, 1, 52)     64948       ['block6b_se_reshape[0][0]']     \n",
      "                                                                                                  \n",
      " block6b_se_expand (Conv2D)     (None, 1, 1, 1248)   66144       ['block6b_se_reduce[0][0]']      \n",
      "                                                                                                  \n",
      " block6b_se_excite (Multiply)   (None, 2, 2, 1248)   0           ['block6b_activation[0][0]',     \n",
      "                                                                  'block6b_se_expand[0][0]']      \n",
      "                                                                                                  \n",
      " block6b_project_conv (Conv2D)  (None, 2, 2, 208)    259584      ['block6b_se_excite[0][0]']      \n",
      "                                                                                                  \n",
      " block6b_project_bn (BatchNorma  (None, 2, 2, 208)   832         ['block6b_project_conv[0][0]']   \n",
      " lization)                                                                                        \n",
      "                                                                                                  \n",
      " block6b_drop (Dropout)         (None, 2, 2, 208)    0           ['block6b_project_bn[0][0]']     \n",
      "                                                                                                  \n",
      " block6b_add (Add)              (None, 2, 2, 208)    0           ['block6b_drop[0][0]',           \n",
      "                                                                  'block6a_project_bn[0][0]']     \n",
      "                                                                                                  \n",
      " block6c_expand_conv (Conv2D)   (None, 2, 2, 1248)   259584      ['block6b_add[0][0]']            \n",
      "                                                                                                  \n",
      " block6c_expand_bn (BatchNormal  (None, 2, 2, 1248)  4992        ['block6c_expand_conv[0][0]']    \n",
      " ization)                                                                                         \n",
      "                                                                                                  \n",
      " block6c_expand_activation (Act  (None, 2, 2, 1248)  0           ['block6c_expand_bn[0][0]']      \n",
      " ivation)                                                                                         \n",
      "                                                                                                  \n",
      " block6c_dwconv2 (DepthwiseConv  (None, 2, 2, 1248)  11232       ['block6c_expand_activation[0][0]\n",
      " 2D)                                                             ']                               \n",
      "                                                                                                  \n",
      " block6c_bn (BatchNormalization  (None, 2, 2, 1248)  4992        ['block6c_dwconv2[0][0]']        \n",
      " )                                                                                                \n",
      "                                                                                                  \n",
      " block6c_activation (Activation  (None, 2, 2, 1248)  0           ['block6c_bn[0][0]']             \n",
      " )                                                                                                \n",
      "                                                                                                  \n",
      " block6c_se_squeeze (GlobalAver  (None, 1248)        0           ['block6c_activation[0][0]']     \n",
      " agePooling2D)                                                                                    \n",
      "                                                                                                  \n",
      " block6c_se_reshape (Reshape)   (None, 1, 1, 1248)   0           ['block6c_se_squeeze[0][0]']     \n",
      "                                                                                                  \n",
      " block6c_se_reduce (Conv2D)     (None, 1, 1, 52)     64948       ['block6c_se_reshape[0][0]']     \n",
      "                                                                                                  \n",
      " block6c_se_expand (Conv2D)     (None, 1, 1, 1248)   66144       ['block6c_se_reduce[0][0]']      \n",
      "                                                                                                  \n",
      " block6c_se_excite (Multiply)   (None, 2, 2, 1248)   0           ['block6c_activation[0][0]',     \n",
      "                                                                  'block6c_se_expand[0][0]']      \n",
      "                                                                                                  \n",
      " block6c_project_conv (Conv2D)  (None, 2, 2, 208)    259584      ['block6c_se_excite[0][0]']      \n",
      "                                                                                                  \n",
      " block6c_project_bn (BatchNorma  (None, 2, 2, 208)   832         ['block6c_project_conv[0][0]']   \n",
      " lization)                                                                                        \n",
      "                                                                                                  \n",
      " block6c_drop (Dropout)         (None, 2, 2, 208)    0           ['block6c_project_bn[0][0]']     \n",
      "                                                                                                  \n",
      " block6c_add (Add)              (None, 2, 2, 208)    0           ['block6c_drop[0][0]',           \n",
      "                                                                  'block6b_add[0][0]']            \n",
      "                                                                                                  \n",
      " block6d_expand_conv (Conv2D)   (None, 2, 2, 1248)   259584      ['block6c_add[0][0]']            \n",
      "                                                                                                  \n",
      " block6d_expand_bn (BatchNormal  (None, 2, 2, 1248)  4992        ['block6d_expand_conv[0][0]']    \n",
      " ization)                                                                                         \n",
      "                                                                                                  \n",
      " block6d_expand_activation (Act  (None, 2, 2, 1248)  0           ['block6d_expand_bn[0][0]']      \n",
      " ivation)                                                                                         \n",
      "                                                                                                  \n",
      " block6d_dwconv2 (DepthwiseConv  (None, 2, 2, 1248)  11232       ['block6d_expand_activation[0][0]\n",
      " 2D)                                                             ']                               \n",
      "                                                                                                  \n",
      " block6d_bn (BatchNormalization  (None, 2, 2, 1248)  4992        ['block6d_dwconv2[0][0]']        \n",
      " )                                                                                                \n",
      "                                                                                                  \n",
      " block6d_activation (Activation  (None, 2, 2, 1248)  0           ['block6d_bn[0][0]']             \n",
      " )                                                                                                \n",
      "                                                                                                  \n",
      " block6d_se_squeeze (GlobalAver  (None, 1248)        0           ['block6d_activation[0][0]']     \n",
      " agePooling2D)                                                                                    \n",
      "                                                                                                  \n",
      " block6d_se_reshape (Reshape)   (None, 1, 1, 1248)   0           ['block6d_se_squeeze[0][0]']     \n",
      "                                                                                                  \n",
      " block6d_se_reduce (Conv2D)     (None, 1, 1, 52)     64948       ['block6d_se_reshape[0][0]']     \n",
      "                                                                                                  \n",
      " block6d_se_expand (Conv2D)     (None, 1, 1, 1248)   66144       ['block6d_se_reduce[0][0]']      \n",
      "                                                                                                  \n",
      " block6d_se_excite (Multiply)   (None, 2, 2, 1248)   0           ['block6d_activation[0][0]',     \n",
      "                                                                  'block6d_se_expand[0][0]']      \n",
      "                                                                                                  \n",
      " block6d_project_conv (Conv2D)  (None, 2, 2, 208)    259584      ['block6d_se_excite[0][0]']      \n",
      "                                                                                                  \n",
      " block6d_project_bn (BatchNorma  (None, 2, 2, 208)   832         ['block6d_project_conv[0][0]']   \n",
      " lization)                                                                                        \n",
      "                                                                                                  \n",
      " block6d_drop (Dropout)         (None, 2, 2, 208)    0           ['block6d_project_bn[0][0]']     \n",
      "                                                                                                  \n",
      " block6d_add (Add)              (None, 2, 2, 208)    0           ['block6d_drop[0][0]',           \n",
      "                                                                  'block6c_add[0][0]']            \n",
      "                                                                                                  \n",
      " block6e_expand_conv (Conv2D)   (None, 2, 2, 1248)   259584      ['block6d_add[0][0]']            \n",
      "                                                                                                  \n",
      " block6e_expand_bn (BatchNormal  (None, 2, 2, 1248)  4992        ['block6e_expand_conv[0][0]']    \n",
      " ization)                                                                                         \n",
      "                                                                                                  \n",
      " block6e_expand_activation (Act  (None, 2, 2, 1248)  0           ['block6e_expand_bn[0][0]']      \n",
      " ivation)                                                                                         \n",
      "                                                                                                  \n",
      " block6e_dwconv2 (DepthwiseConv  (None, 2, 2, 1248)  11232       ['block6e_expand_activation[0][0]\n",
      " 2D)                                                             ']                               \n",
      "                                                                                                  \n",
      " block6e_bn (BatchNormalization  (None, 2, 2, 1248)  4992        ['block6e_dwconv2[0][0]']        \n",
      " )                                                                                                \n",
      "                                                                                                  \n",
      " block6e_activation (Activation  (None, 2, 2, 1248)  0           ['block6e_bn[0][0]']             \n",
      " )                                                                                                \n",
      "                                                                                                  \n",
      " block6e_se_squeeze (GlobalAver  (None, 1248)        0           ['block6e_activation[0][0]']     \n",
      " agePooling2D)                                                                                    \n",
      "                                                                                                  \n",
      " block6e_se_reshape (Reshape)   (None, 1, 1, 1248)   0           ['block6e_se_squeeze[0][0]']     \n",
      "                                                                                                  \n",
      " block6e_se_reduce (Conv2D)     (None, 1, 1, 52)     64948       ['block6e_se_reshape[0][0]']     \n",
      "                                                                                                  \n",
      " block6e_se_expand (Conv2D)     (None, 1, 1, 1248)   66144       ['block6e_se_reduce[0][0]']      \n",
      "                                                                                                  \n",
      " block6e_se_excite (Multiply)   (None, 2, 2, 1248)   0           ['block6e_activation[0][0]',     \n",
      "                                                                  'block6e_se_expand[0][0]']      \n",
      "                                                                                                  \n",
      " block6e_project_conv (Conv2D)  (None, 2, 2, 208)    259584      ['block6e_se_excite[0][0]']      \n",
      "                                                                                                  \n",
      " block6e_project_bn (BatchNorma  (None, 2, 2, 208)   832         ['block6e_project_conv[0][0]']   \n",
      " lization)                                                                                        \n",
      "                                                                                                  \n",
      " block6e_drop (Dropout)         (None, 2, 2, 208)    0           ['block6e_project_bn[0][0]']     \n",
      "                                                                                                  \n",
      " block6e_add (Add)              (None, 2, 2, 208)    0           ['block6e_drop[0][0]',           \n",
      "                                                                  'block6d_add[0][0]']            \n",
      "                                                                                                  \n",
      " block6f_expand_conv (Conv2D)   (None, 2, 2, 1248)   259584      ['block6e_add[0][0]']            \n",
      "                                                                                                  \n",
      " block6f_expand_bn (BatchNormal  (None, 2, 2, 1248)  4992        ['block6f_expand_conv[0][0]']    \n",
      " ization)                                                                                         \n",
      "                                                                                                  \n",
      " block6f_expand_activation (Act  (None, 2, 2, 1248)  0           ['block6f_expand_bn[0][0]']      \n",
      " ivation)                                                                                         \n",
      "                                                                                                  \n",
      " block6f_dwconv2 (DepthwiseConv  (None, 2, 2, 1248)  11232       ['block6f_expand_activation[0][0]\n",
      " 2D)                                                             ']                               \n",
      "                                                                                                  \n",
      " block6f_bn (BatchNormalization  (None, 2, 2, 1248)  4992        ['block6f_dwconv2[0][0]']        \n",
      " )                                                                                                \n",
      "                                                                                                  \n",
      " block6f_activation (Activation  (None, 2, 2, 1248)  0           ['block6f_bn[0][0]']             \n",
      " )                                                                                                \n",
      "                                                                                                  \n",
      " block6f_se_squeeze (GlobalAver  (None, 1248)        0           ['block6f_activation[0][0]']     \n",
      " agePooling2D)                                                                                    \n",
      "                                                                                                  \n",
      " block6f_se_reshape (Reshape)   (None, 1, 1, 1248)   0           ['block6f_se_squeeze[0][0]']     \n",
      "                                                                                                  \n",
      " block6f_se_reduce (Conv2D)     (None, 1, 1, 52)     64948       ['block6f_se_reshape[0][0]']     \n",
      "                                                                                                  \n",
      " block6f_se_expand (Conv2D)     (None, 1, 1, 1248)   66144       ['block6f_se_reduce[0][0]']      \n",
      "                                                                                                  \n",
      " block6f_se_excite (Multiply)   (None, 2, 2, 1248)   0           ['block6f_activation[0][0]',     \n",
      "                                                                  'block6f_se_expand[0][0]']      \n",
      "                                                                                                  \n",
      " block6f_project_conv (Conv2D)  (None, 2, 2, 208)    259584      ['block6f_se_excite[0][0]']      \n",
      "                                                                                                  \n",
      " block6f_project_bn (BatchNorma  (None, 2, 2, 208)   832         ['block6f_project_conv[0][0]']   \n",
      " lization)                                                                                        \n",
      "                                                                                                  \n",
      " block6f_drop (Dropout)         (None, 2, 2, 208)    0           ['block6f_project_bn[0][0]']     \n",
      "                                                                                                  \n",
      " block6f_add (Add)              (None, 2, 2, 208)    0           ['block6f_drop[0][0]',           \n",
      "                                                                  'block6e_add[0][0]']            \n",
      "                                                                                                  \n",
      " block6g_expand_conv (Conv2D)   (None, 2, 2, 1248)   259584      ['block6f_add[0][0]']            \n",
      "                                                                                                  \n",
      " block6g_expand_bn (BatchNormal  (None, 2, 2, 1248)  4992        ['block6g_expand_conv[0][0]']    \n",
      " ization)                                                                                         \n",
      "                                                                                                  \n",
      " block6g_expand_activation (Act  (None, 2, 2, 1248)  0           ['block6g_expand_bn[0][0]']      \n",
      " ivation)                                                                                         \n",
      "                                                                                                  \n",
      " block6g_dwconv2 (DepthwiseConv  (None, 2, 2, 1248)  11232       ['block6g_expand_activation[0][0]\n",
      " 2D)                                                             ']                               \n",
      "                                                                                                  \n",
      " block6g_bn (BatchNormalization  (None, 2, 2, 1248)  4992        ['block6g_dwconv2[0][0]']        \n",
      " )                                                                                                \n",
      "                                                                                                  \n",
      " block6g_activation (Activation  (None, 2, 2, 1248)  0           ['block6g_bn[0][0]']             \n",
      " )                                                                                                \n",
      "                                                                                                  \n",
      " block6g_se_squeeze (GlobalAver  (None, 1248)        0           ['block6g_activation[0][0]']     \n",
      " agePooling2D)                                                                                    \n",
      "                                                                                                  \n",
      " block6g_se_reshape (Reshape)   (None, 1, 1, 1248)   0           ['block6g_se_squeeze[0][0]']     \n",
      "                                                                                                  \n",
      " block6g_se_reduce (Conv2D)     (None, 1, 1, 52)     64948       ['block6g_se_reshape[0][0]']     \n",
      "                                                                                                  \n",
      " block6g_se_expand (Conv2D)     (None, 1, 1, 1248)   66144       ['block6g_se_reduce[0][0]']      \n",
      "                                                                                                  \n",
      " block6g_se_excite (Multiply)   (None, 2, 2, 1248)   0           ['block6g_activation[0][0]',     \n",
      "                                                                  'block6g_se_expand[0][0]']      \n",
      "                                                                                                  \n",
      " block6g_project_conv (Conv2D)  (None, 2, 2, 208)    259584      ['block6g_se_excite[0][0]']      \n",
      "                                                                                                  \n",
      " block6g_project_bn (BatchNorma  (None, 2, 2, 208)   832         ['block6g_project_conv[0][0]']   \n",
      " lization)                                                                                        \n",
      "                                                                                                  \n",
      " block6g_drop (Dropout)         (None, 2, 2, 208)    0           ['block6g_project_bn[0][0]']     \n",
      "                                                                                                  \n",
      " block6g_add (Add)              (None, 2, 2, 208)    0           ['block6g_drop[0][0]',           \n",
      "                                                                  'block6f_add[0][0]']            \n",
      "                                                                                                  \n",
      " block6h_expand_conv (Conv2D)   (None, 2, 2, 1248)   259584      ['block6g_add[0][0]']            \n",
      "                                                                                                  \n",
      " block6h_expand_bn (BatchNormal  (None, 2, 2, 1248)  4992        ['block6h_expand_conv[0][0]']    \n",
      " ization)                                                                                         \n",
      "                                                                                                  \n",
      " block6h_expand_activation (Act  (None, 2, 2, 1248)  0           ['block6h_expand_bn[0][0]']      \n",
      " ivation)                                                                                         \n",
      "                                                                                                  \n",
      " block6h_dwconv2 (DepthwiseConv  (None, 2, 2, 1248)  11232       ['block6h_expand_activation[0][0]\n",
      " 2D)                                                             ']                               \n",
      "                                                                                                  \n",
      " block6h_bn (BatchNormalization  (None, 2, 2, 1248)  4992        ['block6h_dwconv2[0][0]']        \n",
      " )                                                                                                \n",
      "                                                                                                  \n",
      " block6h_activation (Activation  (None, 2, 2, 1248)  0           ['block6h_bn[0][0]']             \n",
      " )                                                                                                \n",
      "                                                                                                  \n",
      " block6h_se_squeeze (GlobalAver  (None, 1248)        0           ['block6h_activation[0][0]']     \n",
      " agePooling2D)                                                                                    \n",
      "                                                                                                  \n",
      " block6h_se_reshape (Reshape)   (None, 1, 1, 1248)   0           ['block6h_se_squeeze[0][0]']     \n",
      "                                                                                                  \n",
      " block6h_se_reduce (Conv2D)     (None, 1, 1, 52)     64948       ['block6h_se_reshape[0][0]']     \n",
      "                                                                                                  \n",
      " block6h_se_expand (Conv2D)     (None, 1, 1, 1248)   66144       ['block6h_se_reduce[0][0]']      \n",
      "                                                                                                  \n",
      " block6h_se_excite (Multiply)   (None, 2, 2, 1248)   0           ['block6h_activation[0][0]',     \n",
      "                                                                  'block6h_se_expand[0][0]']      \n",
      "                                                                                                  \n",
      " block6h_project_conv (Conv2D)  (None, 2, 2, 208)    259584      ['block6h_se_excite[0][0]']      \n",
      "                                                                                                  \n",
      " block6h_project_bn (BatchNorma  (None, 2, 2, 208)   832         ['block6h_project_conv[0][0]']   \n",
      " lization)                                                                                        \n",
      "                                                                                                  \n",
      " block6h_drop (Dropout)         (None, 2, 2, 208)    0           ['block6h_project_bn[0][0]']     \n",
      "                                                                                                  \n",
      " block6h_add (Add)              (None, 2, 2, 208)    0           ['block6h_drop[0][0]',           \n",
      "                                                                  'block6g_add[0][0]']            \n",
      "                                                                                                  \n",
      " block6i_expand_conv (Conv2D)   (None, 2, 2, 1248)   259584      ['block6h_add[0][0]']            \n",
      "                                                                                                  \n",
      " block6i_expand_bn (BatchNormal  (None, 2, 2, 1248)  4992        ['block6i_expand_conv[0][0]']    \n",
      " ization)                                                                                         \n",
      "                                                                                                  \n",
      " block6i_expand_activation (Act  (None, 2, 2, 1248)  0           ['block6i_expand_bn[0][0]']      \n",
      " ivation)                                                                                         \n",
      "                                                                                                  \n",
      " block6i_dwconv2 (DepthwiseConv  (None, 2, 2, 1248)  11232       ['block6i_expand_activation[0][0]\n",
      " 2D)                                                             ']                               \n",
      "                                                                                                  \n",
      " block6i_bn (BatchNormalization  (None, 2, 2, 1248)  4992        ['block6i_dwconv2[0][0]']        \n",
      " )                                                                                                \n",
      "                                                                                                  \n",
      " block6i_activation (Activation  (None, 2, 2, 1248)  0           ['block6i_bn[0][0]']             \n",
      " )                                                                                                \n",
      "                                                                                                  \n",
      " block6i_se_squeeze (GlobalAver  (None, 1248)        0           ['block6i_activation[0][0]']     \n",
      " agePooling2D)                                                                                    \n",
      "                                                                                                  \n",
      " block6i_se_reshape (Reshape)   (None, 1, 1, 1248)   0           ['block6i_se_squeeze[0][0]']     \n",
      "                                                                                                  \n",
      " block6i_se_reduce (Conv2D)     (None, 1, 1, 52)     64948       ['block6i_se_reshape[0][0]']     \n",
      "                                                                                                  \n",
      " block6i_se_expand (Conv2D)     (None, 1, 1, 1248)   66144       ['block6i_se_reduce[0][0]']      \n",
      "                                                                                                  \n",
      " block6i_se_excite (Multiply)   (None, 2, 2, 1248)   0           ['block6i_activation[0][0]',     \n",
      "                                                                  'block6i_se_expand[0][0]']      \n",
      "                                                                                                  \n",
      " block6i_project_conv (Conv2D)  (None, 2, 2, 208)    259584      ['block6i_se_excite[0][0]']      \n",
      "                                                                                                  \n",
      " block6i_project_bn (BatchNorma  (None, 2, 2, 208)   832         ['block6i_project_conv[0][0]']   \n",
      " lization)                                                                                        \n",
      "                                                                                                  \n",
      " block6i_drop (Dropout)         (None, 2, 2, 208)    0           ['block6i_project_bn[0][0]']     \n",
      "                                                                                                  \n",
      " block6i_add (Add)              (None, 2, 2, 208)    0           ['block6i_drop[0][0]',           \n",
      "                                                                  'block6h_add[0][0]']            \n",
      "                                                                                                  \n",
      " block6j_expand_conv (Conv2D)   (None, 2, 2, 1248)   259584      ['block6i_add[0][0]']            \n",
      "                                                                                                  \n",
      " block6j_expand_bn (BatchNormal  (None, 2, 2, 1248)  4992        ['block6j_expand_conv[0][0]']    \n",
      " ization)                                                                                         \n",
      "                                                                                                  \n",
      " block6j_expand_activation (Act  (None, 2, 2, 1248)  0           ['block6j_expand_bn[0][0]']      \n",
      " ivation)                                                                                         \n",
      "                                                                                                  \n",
      " block6j_dwconv2 (DepthwiseConv  (None, 2, 2, 1248)  11232       ['block6j_expand_activation[0][0]\n",
      " 2D)                                                             ']                               \n",
      "                                                                                                  \n",
      " block6j_bn (BatchNormalization  (None, 2, 2, 1248)  4992        ['block6j_dwconv2[0][0]']        \n",
      " )                                                                                                \n",
      "                                                                                                  \n",
      " block6j_activation (Activation  (None, 2, 2, 1248)  0           ['block6j_bn[0][0]']             \n",
      " )                                                                                                \n",
      "                                                                                                  \n",
      " block6j_se_squeeze (GlobalAver  (None, 1248)        0           ['block6j_activation[0][0]']     \n",
      " agePooling2D)                                                                                    \n",
      "                                                                                                  \n",
      " block6j_se_reshape (Reshape)   (None, 1, 1, 1248)   0           ['block6j_se_squeeze[0][0]']     \n",
      "                                                                                                  \n",
      " block6j_se_reduce (Conv2D)     (None, 1, 1, 52)     64948       ['block6j_se_reshape[0][0]']     \n",
      "                                                                                                  \n",
      " block6j_se_expand (Conv2D)     (None, 1, 1, 1248)   66144       ['block6j_se_reduce[0][0]']      \n",
      "                                                                                                  \n",
      " block6j_se_excite (Multiply)   (None, 2, 2, 1248)   0           ['block6j_activation[0][0]',     \n",
      "                                                                  'block6j_se_expand[0][0]']      \n",
      "                                                                                                  \n",
      " block6j_project_conv (Conv2D)  (None, 2, 2, 208)    259584      ['block6j_se_excite[0][0]']      \n",
      "                                                                                                  \n",
      " block6j_project_bn (BatchNorma  (None, 2, 2, 208)   832         ['block6j_project_conv[0][0]']   \n",
      " lization)                                                                                        \n",
      "                                                                                                  \n",
      " block6j_drop (Dropout)         (None, 2, 2, 208)    0           ['block6j_project_bn[0][0]']     \n",
      "                                                                                                  \n",
      " block6j_add (Add)              (None, 2, 2, 208)    0           ['block6j_drop[0][0]',           \n",
      "                                                                  'block6i_add[0][0]']            \n",
      "                                                                                                  \n",
      " top_conv (Conv2D)              (None, 2, 2, 1408)   292864      ['block6j_add[0][0]']            \n",
      "                                                                                                  \n",
      " top_bn (BatchNormalization)    (None, 2, 2, 1408)   5632        ['top_conv[0][0]']               \n",
      "                                                                                                  \n",
      " top_activation (Activation)    (None, 2, 2, 1408)   0           ['top_bn[0][0]']                 \n",
      "                                                                                                  \n",
      "==================================================================================================\n",
      "Total params: 8,769,374\n",
      "Trainable params: 8,687,086\n",
      "Non-trainable params: 82,288\n",
      "__________________________________________________________________________________________________\n"
     ]
    }
   ],
   "source": [
    "import tensorflow as tf\n",
    "import tensorflow.keras.applications as ap\n",
    "from tensorflow.keras import Model\n",
    "EfficientNet = ap.EfficientNetV2B2(include_top=False,weights=\"imagenet\", input_shape= (48, 48, 3))\n",
    "\n",
    "EfficientNet.summary()"
   ]
  },
  {
   "cell_type": "code",
   "execution_count": null,
   "metadata": {
    "id": "2b27a6e1"
   },
   "outputs": [],
   "source": [
    "transfer_layer_EfficientNet = EfficientNet.get_layer('block6e_expand_activation')\n",
    "EfficientNet.trainable = False\n",
    "\n",
    "# Add your Flatten layer.\n",
    "x = Flatten()(transfer_layer_EfficientNet.output)\n",
    "\n",
    "# Add your Dense layers and/or BatchNormalization and Dropout layers\n",
    "x = Dense(256, activation = 'relu')(x)\n",
    "x = Dense(128, activation = 'relu')(x)\n",
    "x = Dropout(0.2)(x)\n",
    "x = Dense(64, activation = 'relu')(x)\n",
    "x = BatchNormalization()(x)\n",
    "\n",
    "# Add your final Dense layer with 4 neurons and softmax activation function.\n",
    "pred = Dense(4, activation = 'softmax')(x)\n",
    "\n",
    "EfficientNetmodel = Model(EfficientNet.input, pred) # Initializing the model"
   ]
  },
  {
   "cell_type": "markdown",
   "metadata": {
    "id": "hVv4Df_In32Y"
   },
   "source": [
    "### **Compiling and Training the Model**"
   ]
  },
  {
   "cell_type": "code",
   "execution_count": null,
   "metadata": {
    "id": "dc326cd3"
   },
   "outputs": [],
   "source": [
    "from keras.callbacks import ModelCheckpoint, EarlyStopping, ReduceLROnPlateau\n",
    "\n",
    "checkpoint = ModelCheckpoint(\"./Efficientnetmodel.h5\", monitor='val_acc', verbose=1, save_best_only=True, mode='max')\n",
    "\n",
    "early_stopping = EarlyStopping(monitor = 'val_loss',\n",
    "                          min_delta = 0,\n",
    "                          patience = 3,\n",
    "                          verbose = 1,\n",
    "                          restore_best_weights = True\n",
    "                          )\n",
    "\n",
    "reduce_learningrate = ReduceLROnPlateau(monitor = 'val_loss',\n",
    "                              factor = 0.2,\n",
    "                              patience = 3,\n",
    "                              verbose = 1,\n",
    "                              min_delta = 0.0001)\n",
    "\n",
    "callbacks_list = [early_stopping,checkpoint,reduce_learningrate]\n",
    "\n",
    "epochs = 10"
   ]
  },
  {
   "cell_type": "code",
   "execution_count": null,
   "metadata": {
    "id": "U13gspW8I-e3"
   },
   "outputs": [],
   "source": [
    "# Write your code to compile your Efficientnetmodel. Use categorical crossentropy as your loss function, Adam Optimizer with 0.001 learning rate, and set your metrics to 'accuracy'.\n",
    "EfficientNetmodel.compile(optimizer=Adam(learning_rate = 0.001), loss='categorical_crossentropy', metrics=['accuracy']) "
   ]
  },
  {
   "cell_type": "code",
   "execution_count": null,
   "metadata": {
    "colab": {
     "base_uri": "https://localhost:8080/"
    },
    "id": "Doy0fkOwIew_",
    "outputId": "fdae1d0d-75b9-4505-ce83-db85f2a719e6"
   },
   "outputs": [
    {
     "name": "stdout",
     "output_type": "stream",
     "text": [
      "Epoch 1/20\n",
      "473/473 [==============================] - ETA: 0s - loss: 1.4347 - accuracy: 0.2566"
     ]
    },
    {
     "name": "stderr",
     "output_type": "stream",
     "text": [
      "WARNING:tensorflow:Can save best model only with val_acc available, skipping.\n"
     ]
    },
    {
     "name": "stdout",
     "output_type": "stream",
     "text": [
      "\b\b\b\b\b\b\b\b\b\b\b\b\b\b\b\b\b\b\b\b\b\b\b\b\b\b\b\b\b\b\b\b\b\b\b\b\b\b\b\b\b\b\b\b\b\b\b\b\b\b\b\b\b\b\b\b\b\b\b\b\b\b\b\b\b\b\b\b\b\b\b\b\b\b\b\b\b\b\b\b\b\b\b\b\r",
      "473/473 [==============================] - 120s 237ms/step - loss: 1.4347 - accuracy: 0.2566 - val_loss: 1.4760 - val_accuracy: 0.2289 - lr: 0.0010\n",
      "Epoch 2/20\n",
      "473/473 [==============================] - ETA: 0s - loss: 1.4046 - accuracy: 0.2577"
     ]
    },
    {
     "name": "stderr",
     "output_type": "stream",
     "text": [
      "WARNING:tensorflow:Can save best model only with val_acc available, skipping.\n"
     ]
    },
    {
     "name": "stdout",
     "output_type": "stream",
     "text": [
      "\b\b\b\b\b\b\b\b\b\b\b\b\b\b\b\b\b\b\b\b\b\b\b\b\b\b\b\b\b\b\b\b\b\b\b\b\b\b\b\b\b\b\b\b\b\b\b\b\b\b\b\b\b\b\b\b\b\b\b\b\b\b\b\b\b\b\b\b\b\b\b\b\b\b\b\b\b\b\b\b\b\b\b\b\r",
      "473/473 [==============================] - 109s 231ms/step - loss: 1.4046 - accuracy: 0.2577 - val_loss: 1.3987 - val_accuracy: 0.2289 - lr: 0.0010\n",
      "Epoch 3/20\n",
      "473/473 [==============================] - ETA: 0s - loss: 1.3988 - accuracy: 0.2612"
     ]
    },
    {
     "name": "stderr",
     "output_type": "stream",
     "text": [
      "WARNING:tensorflow:Can save best model only with val_acc available, skipping.\n"
     ]
    },
    {
     "name": "stdout",
     "output_type": "stream",
     "text": [
      "\b\b\b\b\b\b\b\b\b\b\b\b\b\b\b\b\b\b\b\b\b\b\b\b\b\b\b\b\b\b\b\b\b\b\b\b\b\b\b\b\b\b\b\b\b\b\b\b\b\b\b\b\b\b\b\b\b\b\b\b\b\b\b\b\b\b\b\b\b\b\b\b\b\b\b\b\b\b\b\b\b\b\b\b\r",
      "473/473 [==============================] - 110s 232ms/step - loss: 1.3988 - accuracy: 0.2612 - val_loss: 1.3596 - val_accuracy: 0.3667 - lr: 0.0010\n",
      "Epoch 4/20\n",
      "473/473 [==============================] - ETA: 0s - loss: 1.3967 - accuracy: 0.2624"
     ]
    },
    {
     "name": "stderr",
     "output_type": "stream",
     "text": [
      "WARNING:tensorflow:Can save best model only with val_acc available, skipping.\n"
     ]
    },
    {
     "name": "stdout",
     "output_type": "stream",
     "text": [
      "\b\b\b\b\b\b\b\b\b\b\b\b\b\b\b\b\b\b\b\b\b\b\b\b\b\b\b\b\b\b\b\b\b\b\b\b\b\b\b\b\b\b\b\b\b\b\b\b\b\b\b\b\b\b\b\b\b\b\b\b\b\b\b\b\b\b\b\b\b\b\b\b\b\b\b\b\b\b\b\b\b\b\b\b\r",
      "473/473 [==============================] - 108s 229ms/step - loss: 1.3967 - accuracy: 0.2624 - val_loss: 1.3512 - val_accuracy: 0.3667 - lr: 0.0010\n",
      "Epoch 5/20\n",
      "473/473 [==============================] - ETA: 0s - loss: 1.3919 - accuracy: 0.2604"
     ]
    },
    {
     "name": "stderr",
     "output_type": "stream",
     "text": [
      "WARNING:tensorflow:Can save best model only with val_acc available, skipping.\n"
     ]
    },
    {
     "name": "stdout",
     "output_type": "stream",
     "text": [
      "\b\b\b\b\b\b\b\b\b\b\b\b\b\b\b\b\b\b\b\b\b\b\b\b\b\b\b\b\b\b\b\b\b\b\b\b\b\b\b\b\b\b\b\b\b\b\b\b\b\b\b\b\b\b\b\b\b\b\b\b\b\b\b\b\b\b\b\b\b\b\b\b\b\b\b\b\b\b\b\b\b\b\b\b\r",
      "473/473 [==============================] - 107s 226ms/step - loss: 1.3919 - accuracy: 0.2604 - val_loss: 1.3696 - val_accuracy: 0.3667 - lr: 0.0010\n",
      "Epoch 6/20\n",
      "473/473 [==============================] - ETA: 0s - loss: 1.3919 - accuracy: 0.2576"
     ]
    },
    {
     "name": "stderr",
     "output_type": "stream",
     "text": [
      "WARNING:tensorflow:Can save best model only with val_acc available, skipping.\n"
     ]
    },
    {
     "name": "stdout",
     "output_type": "stream",
     "text": [
      "\b\b\b\b\b\b\b\b\b\b\b\b\b\b\b\b\b\b\b\b\b\b\b\b\b\b\b\b\b\b\b\b\b\b\b\b\b\b\b\b\b\b\b\b\b\b\b\b\b\b\b\b\b\b\b\b\b\b\b\b\b\b\b\b\b\b\b\b\b\b\b\b\b\b\b\b\b\b\b\b\b\b\b\b\r",
      "473/473 [==============================] - 103s 218ms/step - loss: 1.3919 - accuracy: 0.2576 - val_loss: 1.4135 - val_accuracy: 0.2289 - lr: 0.0010\n",
      "Epoch 7/20\n",
      "473/473 [==============================] - ETA: 0s - loss: 1.3906 - accuracy: 0.2633Restoring model weights from the end of the best epoch: 4.\n"
     ]
    },
    {
     "name": "stderr",
     "output_type": "stream",
     "text": [
      "WARNING:tensorflow:Can save best model only with val_acc available, skipping.\n"
     ]
    },
    {
     "name": "stdout",
     "output_type": "stream",
     "text": [
      "\n",
      "Epoch 7: ReduceLROnPlateau reducing learning rate to 0.00020000000949949026.\n",
      "473/473 [==============================] - 101s 214ms/step - loss: 1.3906 - accuracy: 0.2633 - val_loss: 1.3865 - val_accuracy: 0.2289 - lr: 0.0010\n",
      "Epoch 7: early stopping\n"
     ]
    }
   ],
   "source": [
    "# Write your code to fit your model. Use train_set as your training data and validation_set as your validation data. Train your model for 20 epochs.\n",
    "history_EfficientNetmodel = EfficientNetmodel.fit(train_set, validation_data = validation_set, batch_size=32, callbacks = callbacks_list, epochs=20, verbose=1)"
   ]
  },
  {
   "cell_type": "markdown",
   "metadata": {
    "id": "2xjrzYpgoQnN"
   },
   "source": [
    "### **Evaluating the EfficientnetNet Model**"
   ]
  },
  {
   "cell_type": "code",
   "execution_count": null,
   "metadata": {
    "colab": {
     "base_uri": "https://localhost:8080/"
    },
    "id": "WJVFenvnoQnN",
    "outputId": "ee1edab6-c7a1-4752-cf47-44542a5b0684"
   },
   "outputs": [
    {
     "name": "stdout",
     "output_type": "stream",
     "text": [
      "4/4 [==============================] - 1s 174ms/step\n"
     ]
    }
   ],
   "source": [
    "# Write your code to evaluate model performance on the test set\n",
    "test_pred_EfficientNemodel = EfficientNetmodel.predict(test_set)\n",
    "\n",
    "test_pred_EfficientNetmodel = np.argmax(test_pred_EfficientNemodel, axis = -1)"
   ]
  },
  {
   "cell_type": "code",
   "execution_count": null,
   "metadata": {
    "colab": {
     "base_uri": "https://localhost:8080/",
     "height": 513
    },
    "id": "TGHkx_KRtu5h",
    "outputId": "a5c238ed-d1d7-4769-8005-212d987733d3"
   },
   "outputs": [
    {
     "data": {
      "image/png": "[encoded data removed]",
      "text/plain": [
       "<Figure size 576x576 with 1 Axes>"
      ]
     },
     "metadata": {},
     "output_type": "display_data"
    }
   ],
   "source": [
    "# Plotting the accuracies\n",
    "\n",
    "dict_hist = history_EfficientNetmodel.history\n",
    "\n",
    "list_ep = [i for i in range(1, 8)]\n",
    "\n",
    "plt.figure(figsize = (8, 8))\n",
    "\n",
    "plt.plot(list_ep, dict_hist['accuracy'], ls = '--', label = 'accuracy')\n",
    "\n",
    "plt.plot(list_ep, dict_hist['val_accuracy'], ls = '--', label = 'val_accuracy')\n",
    "\n",
    "plt.ylabel('Accuracy')\n",
    "\n",
    "plt.xlabel('Epochs')\n",
    "\n",
    "plt.title('EfficientNetmodel')\n",
    "\n",
    "plt.legend()\n",
    "\n",
    "plt.show()"
   ]
  },
  {
   "cell_type": "code",
   "execution_count": null,
   "metadata": {
    "colab": {
     "base_uri": "https://localhost:8080/",
     "height": 682
    },
    "id": "IGAk6THnuAFf",
    "outputId": "55174971-c073-4020-b361-226da3d7f027"
   },
   "outputs": [
    {
     "name": "stdout",
     "output_type": "stream",
     "text": [
      "Classification report for RGB images trained EfficientNetmodel\n",
      "              precision    recall  f1-score   support\n",
      "\n",
      "           0       0.25      1.00      0.40        32\n",
      "           1       0.00      0.00      0.00        32\n",
      "           2       0.00      0.00      0.00        32\n",
      "           3       0.00      0.00      0.00        32\n",
      "\n",
      "    accuracy                           0.25       128\n",
      "   macro avg       0.06      0.25      0.10       128\n",
      "weighted avg       0.06      0.25      0.10       128\n",
      "\n"
     ]
    },
    {
     "name": "stderr",
     "output_type": "stream",
     "text": [
      "/usr/local/lib/python3.8/dist-packages/sklearn/metrics/_classification.py:1318: UndefinedMetricWarning: Precision and F-score are ill-defined and being set to 0.0 in labels with no predicted samples. Use `zero_division` parameter to control this behavior.\n",
      "  _warn_prf(average, modifier, msg_start, len(result))\n",
      "/usr/local/lib/python3.8/dist-packages/sklearn/metrics/_classification.py:1318: UndefinedMetricWarning: Precision and F-score are ill-defined and being set to 0.0 in labels with no predicted samples. Use `zero_division` parameter to control this behavior.\n",
      "  _warn_prf(average, modifier, msg_start, len(result))\n",
      "/usr/local/lib/python3.8/dist-packages/sklearn/metrics/_classification.py:1318: UndefinedMetricWarning: Precision and F-score are ill-defined and being set to 0.0 in labels with no predicted samples. Use `zero_division` parameter to control this behavior.\n",
      "  _warn_prf(average, modifier, msg_start, len(result))\n"
     ]
    },
    {
     "data": {
      "image/png": "[encoded data removed]",
      "text/plain": [
       "<Figure size 576x360 with 2 Axes>"
      ]
     },
     "metadata": {},
     "output_type": "display_data"
    }
   ],
   "source": [
    "# Importing required functions\n",
    "\n",
    "from sklearn.metrics import classification_report\n",
    "\n",
    "from sklearn.metrics import confusion_matrix\n",
    "\n",
    "# Printing the classification report for RGB\n",
    "print(\"Classification report for RGB images trained EfficientNetmodel\")\n",
    "\n",
    "print(classification_report(FacesLabel_single, test_pred_EfficientNetmodel))\n",
    "\n",
    "# Plotting the heatmap using confusion matrix for RGB\n",
    "\n",
    "cm = confusion_matrix(FacesLabel_single, test_pred_EfficientNetmodel)\n",
    "\n",
    "plt.figure(figsize = (8, 5))\n",
    "\n",
    "sns.heatmap(cm, annot = True,  fmt = '.0f')\n",
    "\n",
    "plt.title('EfficientNetmodel')\n",
    "\n",
    "plt.ylabel('Actual')\n",
    "\n",
    "plt.xlabel('Predicted')\n",
    "\n",
    "plt.show()"
   ]
  },
  {
   "cell_type": "markdown",
   "metadata": {
    "id": "kWlk14FOoQnN"
   },
   "source": [
    "**Observations and Insights:**"
   ]
  },
  {
   "cell_type": "markdown",
   "metadata": {
    "id": "yd9G6aRnPx1n"
   },
   "source": [
    "*   The general trend in the training performance was consistently not improving with each new epoch, it started low and stayed low. Out of an initially planned 20 epochs additional training was cancelled, as per the Early Stopping parameter, after only 7 epochs for insufficent improvements in learning after staying at about 0.26 accuracy\n",
    "*   Validation accuracy was inconsistent but was in general unchanged. Varying in between 0.37 to 0.23 depending on the epoch, with little clear trend.\n",
    "*   All the above observations suggest that the model was overfitting on the training data. However, the model is giving about 0.25 accuracy on the test data which is somewhat comparable to the accuracy of the validation data, which is about 0.30. This implies that while overfitting does occur the model is still giving an acceptibly generalized performance.\n",
    "*   The array for the input images is accompanied by another array for storing the label of what kind of face the image actually corresponds to:\n",
    "  *       [1, 0, 0, 0] corresponds to a face classed as 'Happy'.\n",
    "  *       [0, 1, 0, 0] corresponds to a face classed as 'Sad'.\n",
    "  *       [0, 0, 1, 0] corresponds to a face classed as 'Neutral'.\n",
    "  *       [0, 0, 0, 1] corresponds to a face classed as 'Surprised'.\n",
    "*   On the Test data the recall values have a broad range, from 1 to 0, which implies that the model is inconsistent at identifying differing emotions.\n",
    "*   On the Test data the precision values have a moderate range, from 0.25 to 0, which implies that the model is somewhat focused on features of objects that can help to distinguish between differing emotions.\n",
    "*   The classification report and confusion matrix for test data put into the modified EfficentNetV2B2 model, shows extremely poor performance. Both precision and recall values are low, impling large numbers of false positives and negatives for all predictions, worse results than a random sampling. Especially poor were the response to Sad Neutral or Surprised faces, these were all misclassified as Happy."
   ]
  },
  {
   "cell_type": "markdown",
   "metadata": {
    "id": "fk6QAcv5odNF"
   },
   "source": [
    "**Think About It:**\n",
    "\n",
    "* What is your overall performance of these Transfer Learning Architectures? Can we draw a comparison of these models' performances. Are we satisfied with the accuracies that we have received?\n",
    "* Do you think our issue lies with 'rgb' color_mode?"
   ]
  },
  {
   "cell_type": "markdown",
   "metadata": {
    "id": "-EH3atQP8q_v"
   },
   "source": [
    "Now that we have tried multiple pre-trained models, let's build a complex CNN architecture and see if we can get better performance."
   ]
  },
  {
   "cell_type": "markdown",
   "metadata": {
    "id": "SjKlBaZDpWoV"
   },
   "source": [
    "## **Building a Complex Neural Network Architecture**"
   ]
  },
  {
   "cell_type": "markdown",
   "metadata": {
    "id": "-bMFUj3Fpe75"
   },
   "source": [
    "In this section, we will build a more complex Convolutional Neural Network Model that has close to as many parameters as we had in our Transfer Learning Models. However, we will have only 1 input channel for our input images."
   ]
  },
  {
   "cell_type": "markdown",
   "metadata": {
    "id": "ejGfyYSbtx-F"
   },
   "source": [
    "## **Creating our Data Loaders**\n",
    "\n",
    "In this section, we are creating data loaders which we will use as inputs to the more Complicated Convolutional Neural Network. We will go ahead with color_mode = 'grayscale'."
   ]
  },
  {
   "cell_type": "code",
   "execution_count": 7,
   "metadata": {
    "colab": {
     "base_uri": "https://localhost:8080/"
    },
    "id": "xj1hM5_ttx-F",
    "outputId": "8386ee9a-ceb6-47aa-9b5e-9ab1b26e84ff"
   },
   "outputs": [
    {
     "name": "stdout",
     "output_type": "stream",
     "text": [
      "Found 15109 images belonging to 4 classes.\n",
      "Found 4977 images belonging to 4 classes.\n",
      "Found 128 images belonging to 4 classes.\n"
     ]
    }
   ],
   "source": [
    "batch_size  = 32\n",
    "img_size = 48\n",
    "\n",
    "datagen_train = ImageDataGenerator(horizontal_flip = True,\n",
    "                                    brightness_range = (0., 2.),\n",
    "                                    rescale = 1./255,\n",
    "                                    shear_range = 0.3)\n",
    "\n",
    "train_set = datagen_train.flow_from_directory(folder_path + \"train\",\n",
    "                                              target_size = (img_size, img_size),\n",
    "                                              color_mode = 'grayscale',\n",
    "                                              batch_size = batch_size,\n",
    "                                              class_mode = 'categorical',\n",
    "                                              classes = ['happy', 'sad', 'neutral', 'surprise'],\n",
    "                                              shuffle = True)\n",
    "\n",
    "\n",
    "datagen_validation = ImageDataGenerator(horizontal_flip = True,\n",
    "                                    brightness_range=(0.,2.),\n",
    "                                    rescale=1./255,\n",
    "                                    shear_range=0.3)\n",
    "\n",
    "validation_set = datagen_validation.flow_from_directory(folder_path + \"validation\",\n",
    "                                              target_size = (img_size, img_size),\n",
    "                                              color_mode = 'grayscale',\n",
    "                                              batch_size = batch_size,\n",
    "                                              class_mode = 'categorical',\n",
    "                                              shuffle = True)\n",
    "\n",
    "datagen_test = ImageDataGenerator(horizontal_flip = True,\n",
    "                                    brightness_range=(0.,2.),\n",
    "                                    rescale=1./255,\n",
    "                                    shear_range=0.3)\n",
    "\n",
    "test_set = datagen_test.flow_from_directory(folder_path + \"test\",\n",
    "                                              target_size = (img_size, img_size),\n",
    "                                              color_mode = 'grayscale',\n",
    "                                              batch_size = batch_size,\n",
    "                                              class_mode = 'categorical',\n",
    "                                              shuffle = True)\n"
   ]
  },
  {
   "cell_type": "markdown",
   "metadata": {
    "id": "Ft5U6f1Wie2R"
   },
   "source": [
    "### **Model Building**\n",
    "\n",
    "* In this network, we plan to have 5 Convolutional Blocks\n",
    "* Add first Conv2D layer with **64 filters** and a **kernel size of 2**. Use the 'same' padding and provide the **input shape = (48, 48, 1)**. Use **'relu' activation**.\n",
    "* Add your BatchNormalization layer followed by a LeakyRelU layer with Leaky ReLU parameter of **0.1**\n",
    "* Add MaxPooling2D layer with **pool size = 2**.\n",
    "* Add a Dropout layer with a Dropout Ratio of **0.2**. This completes the first Convolutional block.\n",
    "* Add a second Conv2D layer with **128 filters** and a **kernel size of 2**. Use the **'same' padding** and **'relu' activation.**\n",
    "* Follow this up with a similar BatchNormalization, LeakyRelU, Maxpooling2D, and Dropout layer like above to complete your second Convolutional Block.\n",
    "* Add a third Conv2D layer with **512 filters** and a **kernel size of 2**. Use the **'same' padding** and **'relu' activation.** Once again, follow it up with a BatchNormalization, LeakyRelU, Maxpooling2D, and Dropout layer to complete your third Convolutional block.\n",
    "* Add a fourth block, with the Conv2D layer having **512 filters**.\n",
    "* Add the fifth block, having **128 filters**.\n",
    "* Then add your Flatten layer, followed by your Dense layers.\n",
    "* Add your first Dense layer with **256 neurons** followed by a BatchNormalization layer, a **'relu'** Activation, and a Dropout layer. This forms your first Fully Connected block\n",
    "* Add your second Dense layer with **512 neurons**, again followed by a BatchNormalization layer, **relu** activation, and a Dropout layer.\n",
    "* Add your final Dense layer with 4 neurons.\n",
    "* Compile your model with the optimizer of your choice."
   ]
  },
  {
   "cell_type": "code",
   "execution_count": 8,
   "metadata": {
    "id": "37f9194d"
   },
   "outputs": [],
   "source": [
    "no_of_classes = 4\n",
    "\n",
    "model3 = Sequential()\n",
    "\n",
    "# Add 1st CNN Block\n",
    "model3.add(Conv2D(64, (2, 2), activation='relu', input_shape = (48, 48, 1), padding = 'same'))\n",
    "model3.add(BatchNormalization())\n",
    "model3.add(LeakyReLU(0.1))\n",
    "model3.add(MaxPooling2D(2, 2))\n",
    "model3.add(Dropout(0.2))\n",
    "\n",
    "# Add 2nd CNN Block\n",
    "model3.add(Conv2D(128, (2, 2), activation='relu', padding = 'same'))\n",
    "model3.add(BatchNormalization())\n",
    "model3.add(LeakyReLU(0.1))\n",
    "model3.add(MaxPooling2D(2, 2))\n",
    "model3.add(Dropout(0.2))\n",
    "\n",
    "# Add 3rd CNN Block\n",
    "model3.add(Conv2D(512, (2, 2), activation='relu', padding = 'same'))\n",
    "model3.add(BatchNormalization())\n",
    "model3.add(LeakyReLU(0.1))\n",
    "model3.add(MaxPooling2D(2, 2))\n",
    "model3.add(Dropout(0.2))\n",
    "\n",
    "# Add 4th CNN Block\n",
    "model3.add(Conv2D(512, (2, 2), activation='relu', padding = 'same'))\n",
    "model3.add(BatchNormalization())\n",
    "model3.add(LeakyReLU(0.1))\n",
    "model3.add(MaxPooling2D(2, 2))\n",
    "model3.add(Dropout(0.2))\n",
    "\n",
    "# Add 5th CNN Block\n",
    "model3.add(Conv2D(128, (2, 2), activation='relu', padding = 'same'))\n",
    "model3.add(BatchNormalization())\n",
    "model3.add(LeakyReLU(0.1))\n",
    "model3.add(MaxPooling2D(2, 2))\n",
    "model3.add(Dropout(0.2))\n",
    "\n",
    "model3.add(Flatten())\n",
    "\n",
    "# First fully connected layer\n",
    "model3.add(Dense(256, activation = 'relu'))\n",
    "model3.add(BatchNormalization())\n",
    "model3.add(Dropout(0.2))\n",
    "\n",
    "# Second fully connected layer\n",
    "model3.add(Dense(256, activation = 'relu'))\n",
    "model3.add(BatchNormalization())\n",
    "model3.add(Dropout(0.2))\n",
    "\n",
    "model3.add(Dense(no_of_classes, activation = 'softmax'))"
   ]
  },
  {
   "cell_type": "markdown",
   "metadata": {
    "id": "fyc0B--hwTHS"
   },
   "source": [
    "### **Compiling and Training the Model**"
   ]
  },
  {
   "cell_type": "code",
   "execution_count": 9,
   "metadata": {
    "id": "0edabf52"
   },
   "outputs": [],
   "source": [
    "from keras.callbacks import ModelCheckpoint, ReduceLROnPlateau, CSVLogger\n",
    "\n",
    "epochs = 35\n",
    "\n",
    "steps_per_epoch = train_set.n//train_set.batch_size\n",
    "validation_steps = validation_set.n//validation_set.batch_size\n",
    "\n",
    "checkpoint = ModelCheckpoint(\"model3.h5\", monitor = 'val_accuracy',\n",
    "                            save_weights_only = True, model = 'max', verbose = 1)\n",
    "\n",
    "reduce_lr = ReduceLROnPlateau(monitor = 'val_loss', factor = 0.1, patience = 2, min_lr = 0.0001 , model = 'auto')\n",
    "\n",
    "callbacks = [checkpoint, reduce_lr]"
   ]
  },
  {
   "cell_type": "code",
   "execution_count": 10,
   "metadata": {
    "id": "IYDJwZWmKSK6"
   },
   "outputs": [],
   "source": [
    "# Write your code to compile your model3. Use categorical crossentropy as the loss function, Adam Optimizer with 0.003 learning rate, and set metrics to 'accuracy'.\n",
    "model3.compile(optimizer=Adam(learning_rate = 0.003), loss='categorical_crossentropy', metrics=['accuracy'])"
   ]
  },
  {
   "cell_type": "code",
   "execution_count": 11,
   "metadata": {
    "colab": {
     "base_uri": "https://localhost:8080/"
    },
    "id": "_tB9HX5sKjUL",
    "outputId": "c218de7e-b294-4385-bbf3-d69ae1c468f8"
   },
   "outputs": [
    {
     "name": "stdout",
     "output_type": "stream",
     "text": [
      "Epoch 1/35\n",
      "473/473 [==============================] - ETA: 0s - loss: 1.5352 - accuracy: 0.2637\n",
      "Epoch 1: saving model to model3.h5\n",
      "473/473 [==============================] - 343s 722ms/step - loss: 1.5352 - accuracy: 0.2637 - val_loss: 1.5731 - val_accuracy: 0.3386 - lr: 0.0030\n",
      "Epoch 2/35\n",
      "473/473 [==============================] - ETA: 0s - loss: 1.4223 - accuracy: 0.2810\n",
      "Epoch 2: saving model to model3.h5\n",
      "473/473 [==============================] - 345s 729ms/step - loss: 1.4223 - accuracy: 0.2810 - val_loss: 1.3774 - val_accuracy: 0.2795 - lr: 0.0030\n",
      "Epoch 3/35\n",
      "473/473 [==============================] - ETA: 0s - loss: 1.3691 - accuracy: 0.3162\n",
      "Epoch 3: saving model to model3.h5\n",
      "473/473 [==============================] - 339s 717ms/step - loss: 1.3691 - accuracy: 0.3162 - val_loss: 1.3204 - val_accuracy: 0.3719 - lr: 0.0030\n",
      "Epoch 4/35\n",
      "473/473 [==============================] - ETA: 0s - loss: 1.2762 - accuracy: 0.3786\n",
      "Epoch 4: saving model to model3.h5\n",
      "473/473 [==============================] - 339s 716ms/step - loss: 1.2762 - accuracy: 0.3786 - val_loss: 1.3508 - val_accuracy: 0.3155 - lr: 0.0030\n",
      "Epoch 5/35\n",
      "473/473 [==============================] - ETA: 0s - loss: 1.1931 - accuracy: 0.4401\n",
      "Epoch 5: saving model to model3.h5\n",
      "473/473 [==============================] - 335s 708ms/step - loss: 1.1931 - accuracy: 0.4401 - val_loss: 1.2212 - val_accuracy: 0.4539 - lr: 0.0030\n",
      "Epoch 6/35\n",
      "473/473 [==============================] - ETA: 0s - loss: 1.1183 - accuracy: 0.5051\n",
      "Epoch 6: saving model to model3.h5\n",
      "473/473 [==============================] - 338s 714ms/step - loss: 1.1183 - accuracy: 0.5051 - val_loss: 1.1702 - val_accuracy: 0.4175 - lr: 0.0030\n",
      "Epoch 7/35\n",
      "473/473 [==============================] - ETA: 0s - loss: 1.0807 - accuracy: 0.5180\n",
      "Epoch 7: saving model to model3.h5\n",
      "473/473 [==============================] - 336s 711ms/step - loss: 1.0807 - accuracy: 0.5180 - val_loss: 1.0955 - val_accuracy: 0.4901 - lr: 0.0030\n",
      "Epoch 8/35\n",
      "473/473 [==============================] - ETA: 0s - loss: 1.0078 - accuracy: 0.5585\n",
      "Epoch 8: saving model to model3.h5\n",
      "473/473 [==============================] - 336s 711ms/step - loss: 1.0078 - accuracy: 0.5585 - val_loss: 1.0312 - val_accuracy: 0.5035 - lr: 0.0030\n",
      "Epoch 9/35\n",
      "473/473 [==============================] - ETA: 0s - loss: 0.9695 - accuracy: 0.5846\n",
      "Epoch 9: saving model to model3.h5\n",
      "473/473 [==============================] - 337s 714ms/step - loss: 0.9695 - accuracy: 0.5846 - val_loss: 1.1227 - val_accuracy: 0.4565 - lr: 0.0030\n",
      "Epoch 10/35\n",
      "473/473 [==============================] - ETA: 0s - loss: 0.9291 - accuracy: 0.6054\n",
      "Epoch 10: saving model to model3.h5\n",
      "473/473 [==============================] - 335s 708ms/step - loss: 0.9291 - accuracy: 0.6054 - val_loss: 1.2144 - val_accuracy: 0.3775 - lr: 0.0030\n",
      "Epoch 11/35\n",
      "473/473 [==============================] - ETA: 0s - loss: 0.8659 - accuracy: 0.6362\n",
      "Epoch 11: saving model to model3.h5\n",
      "473/473 [==============================] - 336s 711ms/step - loss: 0.8659 - accuracy: 0.6362 - val_loss: 0.9936 - val_accuracy: 0.5170 - lr: 3.0000e-04\n",
      "Epoch 12/35\n",
      "473/473 [==============================] - ETA: 0s - loss: 0.8410 - accuracy: 0.6521\n",
      "Epoch 12: saving model to model3.h5\n",
      "473/473 [==============================] - 377s 798ms/step - loss: 0.8410 - accuracy: 0.6521 - val_loss: 0.9915 - val_accuracy: 0.5361 - lr: 3.0000e-04\n",
      "Epoch 13/35\n",
      "473/473 [==============================] - ETA: 0s - loss: 0.8230 - accuracy: 0.6542\n",
      "Epoch 13: saving model to model3.h5\n",
      "473/473 [==============================] - 359s 757ms/step - loss: 0.8230 - accuracy: 0.6542 - val_loss: 1.0393 - val_accuracy: 0.5212 - lr: 3.0000e-04\n",
      "Epoch 14/35\n",
      "473/473 [==============================] - ETA: 0s - loss: 0.8129 - accuracy: 0.6606\n",
      "Epoch 14: saving model to model3.h5\n",
      "473/473 [==============================] - 339s 717ms/step - loss: 0.8129 - accuracy: 0.6606 - val_loss: 1.0486 - val_accuracy: 0.5427 - lr: 3.0000e-04\n",
      "Epoch 15/35\n",
      "473/473 [==============================] - ETA: 0s - loss: 0.7962 - accuracy: 0.6684\n",
      "Epoch 15: saving model to model3.h5\n",
      "473/473 [==============================] - 338s 714ms/step - loss: 0.7962 - accuracy: 0.6684 - val_loss: 0.9874 - val_accuracy: 0.5320 - lr: 1.0000e-04\n",
      "Epoch 16/35\n",
      "473/473 [==============================] - ETA: 0s - loss: 0.7904 - accuracy: 0.6707\n",
      "Epoch 16: saving model to model3.h5\n",
      "473/473 [==============================] - 343s 725ms/step - loss: 0.7904 - accuracy: 0.6707 - val_loss: 0.9851 - val_accuracy: 0.5339 - lr: 1.0000e-04\n",
      "Epoch 17/35\n",
      "473/473 [==============================] - ETA: 0s - loss: 0.7846 - accuracy: 0.6749\n",
      "Epoch 17: saving model to model3.h5\n",
      "473/473 [==============================] - 334s 706ms/step - loss: 0.7846 - accuracy: 0.6749 - val_loss: 0.9967 - val_accuracy: 0.5274 - lr: 1.0000e-04\n",
      "Epoch 18/35\n",
      "473/473 [==============================] - ETA: 0s - loss: 0.7809 - accuracy: 0.6797\n",
      "Epoch 18: saving model to model3.h5\n",
      "473/473 [==============================] - 341s 721ms/step - loss: 0.7809 - accuracy: 0.6797 - val_loss: 0.9775 - val_accuracy: 0.5381 - lr: 1.0000e-04\n",
      "Epoch 19/35\n",
      "473/473 [==============================] - ETA: 0s - loss: 0.7808 - accuracy: 0.6752\n",
      "Epoch 19: saving model to model3.h5\n",
      "473/473 [==============================] - 379s 802ms/step - loss: 0.7808 - accuracy: 0.6752 - val_loss: 0.9840 - val_accuracy: 0.5347 - lr: 1.0000e-04\n",
      "Epoch 20/35\n",
      "473/473 [==============================] - ETA: 0s - loss: 0.7811 - accuracy: 0.6745\n",
      "Epoch 20: saving model to model3.h5\n",
      "473/473 [==============================] - 390s 824ms/step - loss: 0.7811 - accuracy: 0.6745 - val_loss: 0.9961 - val_accuracy: 0.5335 - lr: 1.0000e-04\n",
      "Epoch 21/35\n",
      "473/473 [==============================] - ETA: 0s - loss: 0.7736 - accuracy: 0.6775\n",
      "Epoch 21: saving model to model3.h5\n",
      "473/473 [==============================] - 369s 779ms/step - loss: 0.7736 - accuracy: 0.6775 - val_loss: 0.9828 - val_accuracy: 0.5327 - lr: 1.0000e-04\n",
      "Epoch 22/35\n",
      "473/473 [==============================] - ETA: 0s - loss: 0.7665 - accuracy: 0.6814\n",
      "Epoch 22: saving model to model3.h5\n",
      "473/473 [==============================] - 354s 748ms/step - loss: 0.7665 - accuracy: 0.6814 - val_loss: 0.9923 - val_accuracy: 0.5335 - lr: 1.0000e-04\n",
      "Epoch 23/35\n",
      "473/473 [==============================] - ETA: 0s - loss: 0.7675 - accuracy: 0.6845\n",
      "Epoch 23: saving model to model3.h5\n",
      "473/473 [==============================] - 345s 730ms/step - loss: 0.7675 - accuracy: 0.6845 - val_loss: 1.0232 - val_accuracy: 0.5318 - lr: 1.0000e-04\n",
      "Epoch 24/35\n",
      "473/473 [==============================] - ETA: 0s - loss: 0.7603 - accuracy: 0.6873\n",
      "Epoch 24: saving model to model3.h5\n",
      "473/473 [==============================] - 340s 718ms/step - loss: 0.7603 - accuracy: 0.6873 - val_loss: 0.9916 - val_accuracy: 0.5306 - lr: 1.0000e-04\n",
      "Epoch 25/35\n",
      "473/473 [==============================] - ETA: 0s - loss: 0.7585 - accuracy: 0.6815\n",
      "Epoch 25: saving model to model3.h5\n",
      "473/473 [==============================] - 338s 715ms/step - loss: 0.7585 - accuracy: 0.6815 - val_loss: 0.9991 - val_accuracy: 0.5389 - lr: 1.0000e-04\n",
      "Epoch 26/35\n",
      "473/473 [==============================] - ETA: 0s - loss: 0.7528 - accuracy: 0.6916\n",
      "Epoch 26: saving model to model3.h5\n",
      "473/473 [==============================] - 336s 711ms/step - loss: 0.7528 - accuracy: 0.6916 - val_loss: 1.0870 - val_accuracy: 0.5355 - lr: 1.0000e-04\n",
      "Epoch 27/35\n",
      "473/473 [==============================] - ETA: 0s - loss: 0.7495 - accuracy: 0.6902\n",
      "Epoch 27: saving model to model3.h5\n",
      "473/473 [==============================] - 334s 706ms/step - loss: 0.7495 - accuracy: 0.6902 - val_loss: 1.0797 - val_accuracy: 0.5298 - lr: 1.0000e-04\n",
      "Epoch 28/35\n",
      "473/473 [==============================] - ETA: 0s - loss: 0.7492 - accuracy: 0.6845\n",
      "Epoch 28: saving model to model3.h5\n",
      "473/473 [==============================] - 336s 710ms/step - loss: 0.7492 - accuracy: 0.6845 - val_loss: 1.0183 - val_accuracy: 0.5290 - lr: 1.0000e-04\n",
      "Epoch 29/35\n",
      "473/473 [==============================] - ETA: 0s - loss: 0.7459 - accuracy: 0.6936\n",
      "Epoch 29: saving model to model3.h5\n",
      "473/473 [==============================] - 334s 707ms/step - loss: 0.7459 - accuracy: 0.6936 - val_loss: 0.9994 - val_accuracy: 0.5353 - lr: 1.0000e-04\n",
      "Epoch 30/35\n",
      "473/473 [==============================] - ETA: 0s - loss: 0.7404 - accuracy: 0.6975\n",
      "Epoch 30: saving model to model3.h5\n",
      "473/473 [==============================] - 335s 708ms/step - loss: 0.7404 - accuracy: 0.6975 - val_loss: 1.0121 - val_accuracy: 0.5353 - lr: 1.0000e-04\n",
      "Epoch 31/35\n",
      "473/473 [==============================] - ETA: 0s - loss: 0.7429 - accuracy: 0.6928\n",
      "Epoch 31: saving model to model3.h5\n",
      "473/473 [==============================] - 333s 705ms/step - loss: 0.7429 - accuracy: 0.6928 - val_loss: 0.9961 - val_accuracy: 0.5278 - lr: 1.0000e-04\n",
      "Epoch 32/35\n",
      "473/473 [==============================] - ETA: 0s - loss: 0.7493 - accuracy: 0.6913\n",
      "Epoch 32: saving model to model3.h5\n",
      "473/473 [==============================] - 337s 714ms/step - loss: 0.7493 - accuracy: 0.6913 - val_loss: 1.0129 - val_accuracy: 0.5375 - lr: 1.0000e-04\n",
      "Epoch 33/35\n",
      "473/473 [==============================] - ETA: 0s - loss: 0.7263 - accuracy: 0.6995\n",
      "Epoch 33: saving model to model3.h5\n",
      "473/473 [==============================] - 337s 712ms/step - loss: 0.7263 - accuracy: 0.6995 - val_loss: 1.0047 - val_accuracy: 0.5304 - lr: 1.0000e-04\n",
      "Epoch 34/35\n",
      "473/473 [==============================] - ETA: 0s - loss: 0.7265 - accuracy: 0.7043\n",
      "Epoch 34: saving model to model3.h5\n",
      "473/473 [==============================] - 350s 741ms/step - loss: 0.7265 - accuracy: 0.7043 - val_loss: 1.0253 - val_accuracy: 0.5318 - lr: 1.0000e-04\n",
      "Epoch 35/35\n",
      "473/473 [==============================] - ETA: 0s - loss: 0.7241 - accuracy: 0.7047\n",
      "Epoch 35: saving model to model3.h5\n",
      "473/473 [==============================] - 348s 735ms/step - loss: 0.7241 - accuracy: 0.7047 - val_loss: 1.0399 - val_accuracy: 0.5238 - lr: 1.0000e-04\n"
     ]
    }
   ],
   "source": [
    "# Write your code to fit your model. Use train_set as the training data and validation_set as the validation data. Train your model for 35 epochs.\n",
    "history_model3 = model3.fit(train_set, validation_data = validation_set, batch_size=32, callbacks = callbacks, epochs=35, verbose=1)"
   ]
  },
  {
   "cell_type": "markdown",
   "metadata": {
    "id": "BbAqrAQQVjIR"
   },
   "source": [
    "### **Evaluating the Model on Test Set**"
   ]
  },
  {
   "cell_type": "code",
   "execution_count": 26,
   "metadata": {
    "colab": {
     "base_uri": "https://localhost:8080/"
    },
    "id": "uO26AYRuVm7F",
    "outputId": "89fadf8a-9d4e-47f1-bca9-f58198d77f84"
   },
   "outputs": [
    {
     "name": "stdout",
     "output_type": "stream",
     "text": [
      "4/4 [==============================] - 1s 168ms/step\n"
     ]
    }
   ],
   "source": [
    "# Write your code to evaluate the model performance on the test set\n",
    "test_pred_model3 = model3.predict(test_images)\n",
    "\n",
    "test_pred_model3 = np.argmax(test_pred_model3, axis = -1)"
   ]
  },
  {
   "cell_type": "code",
   "execution_count": 27,
   "metadata": {
    "colab": {
     "base_uri": "https://localhost:8080/",
     "height": 513
    },
    "id": "Bn8VHQ334qFy",
    "outputId": "cd22f175-073c-405b-c7b8-312cb2a2a87b"
   },
   "outputs": [
    {
     "data": {
      "image/png": "[encoded data removed]",
      "text/plain": [
       "<Figure size 576x576 with 1 Axes>"
      ]
     },
     "metadata": {
      "needs_background": "light"
     },
     "output_type": "display_data"
    }
   ],
   "source": [
    "# Plotting the accuracies\n",
    "\n",
    "dict_hist = history_model3.history\n",
    "\n",
    "list_ep = [i for i in range(1, 36)]\n",
    "\n",
    "plt.figure(figsize = (8, 8))\n",
    "\n",
    "plt.plot(list_ep, dict_hist['accuracy'], ls = '--', label = 'accuracy')\n",
    "\n",
    "plt.plot(list_ep, dict_hist['val_accuracy'], ls = '--', label = 'val_accuracy')\n",
    "\n",
    "plt.ylabel('Accuracy')\n",
    "\n",
    "plt.xlabel('Epochs')\n",
    "\n",
    "plt.title('model3')\n",
    "\n",
    "plt.legend()\n",
    "\n",
    "plt.show()"
   ]
  },
  {
   "cell_type": "code",
   "execution_count": 28,
   "metadata": {
    "colab": {
     "base_uri": "https://localhost:8080/",
     "height": 558
    },
    "id": "9EtvtPxk46vo",
    "outputId": "7eb26af3-dbc3-4af3-edc8-cfdab773292d"
   },
   "outputs": [
    {
     "name": "stdout",
     "output_type": "stream",
     "text": [
      "Classification report for Greyscale images trained model3\n",
      "              precision    recall  f1-score   support\n",
      "\n",
      "           0       0.20      0.19      0.19        32\n",
      "           1       0.15      0.12      0.14        32\n",
      "           2       0.42      0.59      0.49        32\n",
      "           3       0.22      0.19      0.20        32\n",
      "\n",
      "    accuracy                           0.27       128\n",
      "   macro avg       0.25      0.27      0.26       128\n",
      "weighted avg       0.25      0.27      0.26       128\n",
      "\n"
     ]
    },
    {
     "data": {
      "image/png": "[encoded data removed]",
      "text/plain": [
       "<Figure size 576x360 with 2 Axes>"
      ]
     },
     "metadata": {
      "needs_background": "light"
     },
     "output_type": "display_data"
    }
   ],
   "source": [
    "# Importing required functions\n",
    "\n",
    "from sklearn.metrics import classification_report\n",
    "\n",
    "from sklearn.metrics import confusion_matrix\n",
    "\n",
    "# Printing the classification report for model3\n",
    "print(\"Classification report for Greyscale images trained model3\")\n",
    "\n",
    "print(classification_report(FacesLabel_single, test_pred_model3))\n",
    "\n",
    "# Plotting the heatmap using confusion matrix\n",
    "\n",
    "cm = confusion_matrix(FacesLabel_single, test_pred_model3)\n",
    "\n",
    "plt.figure(figsize = (8, 5))\n",
    "\n",
    "sns.heatmap(cm, annot = True,  fmt = '.0f')\n",
    "\n",
    "plt.title('model3')\n",
    "\n",
    "plt.ylabel('Actual')\n",
    "\n",
    "plt.xlabel('Predicted')\n",
    "\n",
    "plt.show()"
   ]
  },
  {
   "cell_type": "markdown",
   "metadata": {
    "id": "81uYGSmHwxfD"
   },
   "source": [
    "**Observations and Insights:**"
   ]
  },
  {
   "cell_type": "markdown",
   "metadata": {
    "id": "OytVicWo2KwK"
   },
   "source": [
    "*   The general trend in the training performance was consistently improving with each new epoch, but only slowly after 15 epochs. \n",
    "*   Before 15 epochs the validation accuracy was inconsistent but was in general increasing, after 15 epochs the validation accuracy becomes relitively unchanges at about 0.52.\n",
    "*   All the above observations suggest that the model was overfitting on the training data. However, the model is giving about 0.5 accuracy on the test data which is somewhat comparable to the accuracy of the validation data, which is about 0.38. This implies that while overfitting does occur the model is still giving an acceptibly generalized performance.\n",
    "*   The array for the input images is accompanied by another array for storing the label of what kind of face the image actually corresponds to:\n",
    "  *       [1, 0, 0, 0] corresponds to a face classed as 'Happy'.\n",
    "  *       [0, 1, 0, 0] corresponds to a face classed as 'Sad'.\n",
    "  *       [0, 0, 1, 0] corresponds to a face classed as 'Neutral'.\n",
    "  *       [0, 0, 0, 1] corresponds to a face classed as 'Surprised'.\n",
    "*   On the Test data the recall values have a broad range, from 0.12 to 0.59, which implies that the model is inconsistent at identifying differing emotions.\n",
    "*   On the Test data the precision values have a broad range, from 0.15 to 0.42, which implies that the model is not focused on features of objects that can help to distinguish between differing emotions.\n",
    "*   The classification report and confusion matrix for Test data put into the  Complex model shows poor performance, little different than a random choice. Both precision and recall values are low, impling large numbers of false positives and negatives for all predictions. The response to Neutral faces was best, all others had a tendency to be misclassified."
   ]
  },
  {
   "cell_type": "markdown",
   "metadata": {
    "id": "GNWc6agwxJ_z"
   },
   "source": [
    "### **Plotting the Confusion Matrix for the chosen final model**"
   ]
  },
  {
   "cell_type": "code",
   "execution_count": 21,
   "metadata": {
    "colab": {
     "base_uri": "https://localhost:8080/",
     "height": 577
    },
    "id": "SFTRyIk-yjoQ",
    "outputId": "bf69bcb0-7a67-4e1f-e312-b688bdeba460"
   },
   "outputs": [
    {
     "name": "stdout",
     "output_type": "stream",
     "text": [
      "Found 128 images belonging to 4 classes.\n",
      "4/4 [==============================] - 2s 460ms/step\n",
      "Classification report for the best model: model3\n",
      "              precision    recall  f1-score   support\n",
      "\n",
      "           0       0.78      0.78      0.78        32\n",
      "           1       0.56      0.47      0.51        32\n",
      "           2       0.55      0.69      0.61        32\n",
      "           3       0.93      0.84      0.89        32\n",
      "\n",
      "    accuracy                           0.70       128\n",
      "   macro avg       0.70      0.70      0.70       128\n",
      "weighted avg       0.70      0.70      0.70       128\n",
      "\n"
     ]
    },
    {
     "data": {
      "image/png": "[encoded data removed]",
      "text/plain": [
       "<Figure size 576x360 with 2 Axes>"
      ]
     },
     "metadata": {
      "needs_background": "light"
     },
     "output_type": "display_data"
    }
   ],
   "source": [
    "# Plot the confusion matrix and generate a classification report for the model\n",
    "from sklearn.metrics import classification_report\n",
    "from sklearn.metrics import confusion_matrix\n",
    "test_set = datagen_test.flow_from_directory(folder_path + \"test\",\n",
    "                                                              target_size = (img_size,img_size),\n",
    "                                                              color_mode = 'grayscale',\n",
    "                                                              batch_size = 128,\n",
    "                                                              class_mode = 'categorical',\n",
    "                                                              classes = ['happy', 'sad', 'neutral', 'surprise'],\n",
    "                                                              shuffle = True) \n",
    "test_images, test_labels = next(test_set)\n",
    "\n",
    "# Write the name of your chosen model in the blank\n",
    "pred = model3.predict(test_images)\n",
    "pred = np.argmax(pred, axis = 1) \n",
    "y_true = np.argmax(test_labels, axis = 1)\n",
    "\n",
    "# Printing the classification report\n",
    "print(\"Classification report for the best model: model3\")\n",
    "\n",
    "print(classification_report(y_true, pred))\n",
    "\n",
    "# Plotting the heatmap using confusion matrix\n",
    "cm = confusion_matrix(y_true, pred)\n",
    "plt.figure(figsize = (8, 5))\n",
    "sns.heatmap(cm, annot = True,  fmt = '.0f', xticklabels = ['happy', 'sad', 'neutral', 'surprise'], yticklabels = ['happy', 'sad', 'neutral', 'surprise'])\n",
    "plt.ylabel('Actual')\n",
    "plt.xlabel('Predicted')\n",
    "plt.show()"
   ]
  },
  {
   "cell_type": "markdown",
   "metadata": {
    "id": "LGgvpOrP8q_x"
   },
   "source": [
    "**Observations and Insights:**"
   ]
  },
  {
   "cell_type": "markdown",
   "metadata": {
    "id": "JRYUMlgx48HI"
   },
   "source": [
    "*   The classification report and confusion matrix for Test data put into the  Model3 model shows adaquate performance, signficantly improved over those of a random choice. Both precision and recall values are around 0.7, impling still signficant numbers of false positives and negatives for all predictions. Neutral faces had some tendancy to be missclassified as Sad. "
   ]
  },
  {
   "cell_type": "markdown",
   "metadata": {
    "id": "6s_baiF_KllW"
   },
   "source": [
    "## **Conclusion:**"
   ]
  },
  {
   "cell_type": "markdown",
   "metadata": {
    "id": "Zgf1uxR14dCg"
   },
   "source": [
    "\n",
    "\n",
    "*   Model 3 was by far the best model tested in terms of classification performance on the test data.\n",
    "*   Model 3 was by far the worst model tested in terms of time taken to fit the model on the training data.\n",
    "\n"
   ]
  },
  {
   "cell_type": "markdown",
   "metadata": {
    "id": "MEZPA_mN0tUo"
   },
   "source": [
    "### **Insights**\n",
    "\n",
    "### **Refined insights**:\n",
    "- What are the most meaningful insights from the data relevant to the problem?\n",
    "\n",
    "### **Comparison of various techniques and their relative performance**:\n",
    "- How do different techniques perform? Which one is performing relatively better? Is there scope to improve the performance further?\n",
    "\n",
    "### **Proposal for the final solution design**:\n",
    "- What model do you propose to be adopted? Why is this the best solution to adopt?"
   ]
  }
 ],
 "metadata": {
  "colab": {
   "provenance": []
  },
  "kernelspec": {
   "display_name": "Python 3 (ipykernel)",
   "language": "python",
   "name": "python3"
  },
  "language_info": {
   "codemirror_mode": {
    "name": "ipython",
    "version": 3
   },
   "file_extension": ".py",
   "mimetype": "text/x-python",
   "name": "python",
   "nbconvert_exporter": "python",
   "pygments_lexer": "ipython3",
   "version": "3.9.13"
  }
 },
 "nbformat": 4,
 "nbformat_minor": 1
}
